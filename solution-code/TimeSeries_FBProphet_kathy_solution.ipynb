{
 "cells": [
  {
   "cell_type": "markdown",
   "metadata": {},
   "source": [
    "<img src=\"http://imgur.com/1ZcRyrc.png\" style=\"float: left; margin: 20px; height: 55px\">\n",
    "\n",
    "# Working With Time Series Data in FBProphet\n",
    "\n",
    "_By Steven Longstreet (Washington DC) and Bryce Peake (Washington DC)_"
   ]
  },
  {
   "cell_type": "markdown",
   "metadata": {},
   "source": [
    "### Learning Objectives\n",
    " \n",
    "**After this lesson, you will be able to:**\n",
    "- Create and visualize a Time Series model using FBProphet\n",
    "- Evaluate a Time Series model"
   ]
  },
  {
   "cell_type": "markdown",
   "metadata": {},
   "source": [
    "<h2><a id=\"A\">What is a Time Series?</a></h2>\n",
    "A **time series** is a series of data points that's indexed (or listed, or graphed) in time order. Most commonly, a time series is a sequence that's taken at successive equally spaced points in time. Time series are often represented as a set of observations that have a time-bound relation, which is represented as an index.\n",
    "\n",
    "Time series are commonly found in sales, analysis, stock market trends, economic phenomena, and social science problems.\n",
    "\n",
    "These data sets are often investigated to evaluate the long-term trends, forecast the future, or perform some other form of analysis."
   ]
  },
  {
   "cell_type": "markdown",
   "metadata": {},
   "source": [
    "## Time Series modeling with FBProphet\n",
    "[Prophet Documentation](https://facebook.github.io/prophet/docs/quick_start.html)"
   ]
  },
  {
   "cell_type": "code",
   "execution_count": 1,
   "metadata": {
    "ExecuteTime": {
     "end_time": "2022-03-08T17:40:14.839226Z",
     "start_time": "2022-03-08T17:40:10.265462Z"
    }
   },
   "outputs": [],
   "source": [
    "import pandas as pd\n",
    "import numpy as np\n",
    "from sklearn.metrics import mean_squared_error, r2_score, mean_absolute_error\n",
    "\n",
    "from prophet import Prophet\n",
    "import matplotlib.pyplot as plt\n",
    " \n",
    "%matplotlib inline\n",
    " \n",
    "plt.rcParams['figure.figsize']=(20,10)\n",
    "plt.style.use('ggplot')"
   ]
  },
  {
   "cell_type": "markdown",
   "metadata": {},
   "source": [
    "# Read in the data\n",
    "\n",
    "Read the data in from the retail sales CSV file in the examples folder then set the index to the 'date' column. We are also parsing dates in the data file."
   ]
  },
  {
   "cell_type": "code",
   "execution_count": 2,
   "metadata": {
    "ExecuteTime": {
     "end_time": "2022-03-08T17:40:15.875123Z",
     "start_time": "2022-03-08T17:40:15.861163Z"
    }
   },
   "outputs": [],
   "source": [
    "sales = pd.read_csv('./data/retail_sales.csv', parse_dates = True, low_memory = False)"
   ]
  },
  {
   "cell_type": "code",
   "execution_count": 3,
   "metadata": {
    "ExecuteTime": {
     "end_time": "2022-03-08T17:40:16.946211Z",
     "start_time": "2022-03-08T17:40:16.912390Z"
    }
   },
   "outputs": [
    {
     "data": {
      "text/html": [
       "<div>\n",
       "<style scoped>\n",
       "    .dataframe tbody tr th:only-of-type {\n",
       "        vertical-align: middle;\n",
       "    }\n",
       "\n",
       "    .dataframe tbody tr th {\n",
       "        vertical-align: top;\n",
       "    }\n",
       "\n",
       "    .dataframe thead th {\n",
       "        text-align: right;\n",
       "    }\n",
       "</style>\n",
       "<table border=\"1\" class=\"dataframe\">\n",
       "  <thead>\n",
       "    <tr style=\"text-align: right;\">\n",
       "      <th></th>\n",
       "      <th>date</th>\n",
       "      <th>sales</th>\n",
       "    </tr>\n",
       "  </thead>\n",
       "  <tbody>\n",
       "    <tr>\n",
       "      <th>0</th>\n",
       "      <td>2009-10-01</td>\n",
       "      <td>338630</td>\n",
       "    </tr>\n",
       "    <tr>\n",
       "      <th>1</th>\n",
       "      <td>2009-11-01</td>\n",
       "      <td>339386</td>\n",
       "    </tr>\n",
       "    <tr>\n",
       "      <th>2</th>\n",
       "      <td>2009-12-01</td>\n",
       "      <td>400264</td>\n",
       "    </tr>\n",
       "    <tr>\n",
       "      <th>3</th>\n",
       "      <td>2010-01-01</td>\n",
       "      <td>314640</td>\n",
       "    </tr>\n",
       "    <tr>\n",
       "      <th>4</th>\n",
       "      <td>2010-02-01</td>\n",
       "      <td>311022</td>\n",
       "    </tr>\n",
       "  </tbody>\n",
       "</table>\n",
       "</div>"
      ],
      "text/plain": [
       "         date   sales\n",
       "0  2009-10-01  338630\n",
       "1  2009-11-01  339386\n",
       "2  2009-12-01  400264\n",
       "3  2010-01-01  314640\n",
       "4  2010-02-01  311022"
      ]
     },
     "execution_count": 3,
     "metadata": {},
     "output_type": "execute_result"
    }
   ],
   "source": [
    "sales.head()"
   ]
  },
  {
   "cell_type": "markdown",
   "metadata": {},
   "source": [
    "# Prepare for Prophet\n",
    "\n",
    "For prophet to work, we need to change the names of these columns to 'ds' and 'y', so lets just create a new dataframe and keep our old one handy (you'll see why later). The new dataframe will initially be created with an integer index so we can rename the columns"
   ]
  },
  {
   "cell_type": "code",
   "execution_count": 4,
   "metadata": {
    "ExecuteTime": {
     "end_time": "2022-03-08T17:40:18.551827Z",
     "start_time": "2022-03-08T17:40:18.530935Z"
    }
   },
   "outputs": [
    {
     "data": {
      "text/html": [
       "<div>\n",
       "<style scoped>\n",
       "    .dataframe tbody tr th:only-of-type {\n",
       "        vertical-align: middle;\n",
       "    }\n",
       "\n",
       "    .dataframe tbody tr th {\n",
       "        vertical-align: top;\n",
       "    }\n",
       "\n",
       "    .dataframe thead th {\n",
       "        text-align: right;\n",
       "    }\n",
       "</style>\n",
       "<table border=\"1\" class=\"dataframe\">\n",
       "  <thead>\n",
       "    <tr style=\"text-align: right;\">\n",
       "      <th></th>\n",
       "      <th>ds</th>\n",
       "      <th>y</th>\n",
       "    </tr>\n",
       "  </thead>\n",
       "  <tbody>\n",
       "    <tr>\n",
       "      <th>0</th>\n",
       "      <td>2009-10-01</td>\n",
       "      <td>338630</td>\n",
       "    </tr>\n",
       "    <tr>\n",
       "      <th>1</th>\n",
       "      <td>2009-11-01</td>\n",
       "      <td>339386</td>\n",
       "    </tr>\n",
       "    <tr>\n",
       "      <th>2</th>\n",
       "      <td>2009-12-01</td>\n",
       "      <td>400264</td>\n",
       "    </tr>\n",
       "    <tr>\n",
       "      <th>3</th>\n",
       "      <td>2010-01-01</td>\n",
       "      <td>314640</td>\n",
       "    </tr>\n",
       "    <tr>\n",
       "      <th>4</th>\n",
       "      <td>2010-02-01</td>\n",
       "      <td>311022</td>\n",
       "    </tr>\n",
       "  </tbody>\n",
       "</table>\n",
       "</div>"
      ],
      "text/plain": [
       "           ds       y\n",
       "0  2009-10-01  338630\n",
       "1  2009-11-01  339386\n",
       "2  2009-12-01  400264\n",
       "3  2010-01-01  314640\n",
       "4  2010-02-01  311022"
      ]
     },
     "execution_count": 4,
     "metadata": {},
     "output_type": "execute_result"
    }
   ],
   "source": [
    "# Since we are making a copy of the dataframe, we don't need inplace = True\n",
    "sales_df = sales.rename(columns={'date':'ds', 'sales':'y'})\n",
    "sales_df.head()"
   ]
  },
  {
   "cell_type": "markdown",
   "metadata": {},
   "source": [
    "Now's a good time to take a look at your data.  Plot the data using pandas' ```plot``` function"
   ]
  },
  {
   "cell_type": "code",
   "execution_count": 5,
   "metadata": {
    "ExecuteTime": {
     "end_time": "2022-03-08T17:40:24.567757Z",
     "start_time": "2022-03-08T17:40:24.254990Z"
    }
   },
   "outputs": [
    {
     "data": {
      "image/png": "[encoded data removed]",
      "text/plain": [
       "<Figure size 1440x720 with 1 Axes>"
      ]
     },
     "metadata": {},
     "output_type": "display_data"
    }
   ],
   "source": [
    "# Prophet doesn't require the date ('ds') to be in the index, but df.plot() so we add .set_index('ds')\n",
    "sales_df.set_index('ds').y.plot();"
   ]
  },
  {
   "cell_type": "markdown",
   "metadata": {},
   "source": [
    "# Running Prophet\n",
    "\n",
    "Now, let's set prophet up to begin modeling our data.\n",
    "\n",
    "Note: Since we are using monthly data, you'll see a message from Prophet saying ```Disabling weekly seasonality. Run prophet with weekly_seasonality=True to override this.```  This is OK since we are working with monthly data but you can disable it by using ```weekly_seasonality=True``` in the instantiation of Prophet."
   ]
  },
  {
   "cell_type": "code",
   "execution_count": 6,
   "metadata": {
    "ExecuteTime": {
     "end_time": "2022-03-08T17:40:31.956332Z",
     "start_time": "2022-03-08T17:40:29.644094Z"
    }
   },
   "outputs": [
    {
     "name": "stderr",
     "output_type": "stream",
     "text": [
      "07:55:31 - cmdstanpy - INFO - Chain [1] start processing\n",
      "07:55:31 - cmdstanpy - INFO - Chain [1] done processing\n"
     ]
    },
    {
     "data": {
      "text/plain": [
       "<prophet.forecaster.Prophet at 0x1f88ca977f0>"
      ]
     },
     "execution_count": 6,
     "metadata": {},
     "output_type": "execute_result"
    }
   ],
   "source": [
    "# Instantiate Model\n",
    "model = Prophet()\n",
    "\n",
    "# Fit Model\n",
    "model.fit(sales_df)"
   ]
  },
  {
   "cell_type": "markdown",
   "metadata": {},
   "source": [
    "Forecasting is fairly useless unless you can look into the future, so we need to add some future dates to our dataframe. For this example, I want to forecast 2 years into the future, so I'll built a future dataframe with 24 periods since we are working with monthly data. Note the ```freq='m'``` inclusion to ensure we are adding 24 months of data.\n",
    "\n",
    "This can be done with the following code:\n"
   ]
  },
  {
   "cell_type": "code",
   "execution_count": 7,
   "metadata": {
    "ExecuteTime": {
     "end_time": "2022-03-08T17:40:32.888274Z",
     "start_time": "2022-03-08T17:40:32.863022Z"
    }
   },
   "outputs": [
    {
     "data": {
      "text/html": [
       "<div>\n",
       "<style scoped>\n",
       "    .dataframe tbody tr th:only-of-type {\n",
       "        vertical-align: middle;\n",
       "    }\n",
       "\n",
       "    .dataframe tbody tr th {\n",
       "        vertical-align: top;\n",
       "    }\n",
       "\n",
       "    .dataframe thead th {\n",
       "        text-align: right;\n",
       "    }\n",
       "</style>\n",
       "<table border=\"1\" class=\"dataframe\">\n",
       "  <thead>\n",
       "    <tr style=\"text-align: right;\">\n",
       "      <th></th>\n",
       "      <th>ds</th>\n",
       "    </tr>\n",
       "  </thead>\n",
       "  <tbody>\n",
       "    <tr>\n",
       "      <th>91</th>\n",
       "      <td>2017-04-30</td>\n",
       "    </tr>\n",
       "    <tr>\n",
       "      <th>92</th>\n",
       "      <td>2017-05-31</td>\n",
       "    </tr>\n",
       "    <tr>\n",
       "      <th>93</th>\n",
       "      <td>2017-06-30</td>\n",
       "    </tr>\n",
       "    <tr>\n",
       "      <th>94</th>\n",
       "      <td>2017-07-31</td>\n",
       "    </tr>\n",
       "    <tr>\n",
       "      <th>95</th>\n",
       "      <td>2017-08-31</td>\n",
       "    </tr>\n",
       "  </tbody>\n",
       "</table>\n",
       "</div>"
      ],
      "text/plain": [
       "           ds\n",
       "91 2017-04-30\n",
       "92 2017-05-31\n",
       "93 2017-06-30\n",
       "94 2017-07-31\n",
       "95 2017-08-31"
      ]
     },
     "execution_count": 7,
     "metadata": {},
     "output_type": "execute_result"
    }
   ],
   "source": [
    "# Creat future data frame\n",
    "future = model.make_future_dataframe(periods=24, freq = 'm')\n",
    "future.tail()"
   ]
  },
  {
   "cell_type": "markdown",
   "metadata": {},
   "source": [
    "To forecast this future data, we need to run it through Prophet's model."
   ]
  },
  {
   "cell_type": "code",
   "execution_count": 8,
   "metadata": {
    "ExecuteTime": {
     "end_time": "2022-03-08T17:40:35.504626Z",
     "start_time": "2022-03-08T17:40:34.168009Z"
    }
   },
   "outputs": [],
   "source": [
    "# Add predictions to the forecast dataframe\n",
    "forecast = model.predict(future)"
   ]
  },
  {
   "cell_type": "markdown",
   "metadata": {},
   "source": [
    "The resulting forecast dataframe contains quite a bit of data, but we really only care about a few columns.  First, let's look at the full dataframe:"
   ]
  },
  {
   "cell_type": "code",
   "execution_count": 9,
   "metadata": {
    "ExecuteTime": {
     "end_time": "2022-03-08T17:40:35.524523Z",
     "start_time": "2022-03-08T17:40:35.507189Z"
    }
   },
   "outputs": [
    {
     "data": {
      "text/html": [
       "<div>\n",
       "<style scoped>\n",
       "    .dataframe tbody tr th:only-of-type {\n",
       "        vertical-align: middle;\n",
       "    }\n",
       "\n",
       "    .dataframe tbody tr th {\n",
       "        vertical-align: top;\n",
       "    }\n",
       "\n",
       "    .dataframe thead th {\n",
       "        text-align: right;\n",
       "    }\n",
       "</style>\n",
       "<table border=\"1\" class=\"dataframe\">\n",
       "  <thead>\n",
       "    <tr style=\"text-align: right;\">\n",
       "      <th></th>\n",
       "      <th>91</th>\n",
       "      <th>92</th>\n",
       "      <th>93</th>\n",
       "      <th>94</th>\n",
       "      <th>95</th>\n",
       "    </tr>\n",
       "  </thead>\n",
       "  <tbody>\n",
       "    <tr>\n",
       "      <th>ds</th>\n",
       "      <td>2017-04-30 00:00:00</td>\n",
       "      <td>2017-05-31 00:00:00</td>\n",
       "      <td>2017-06-30 00:00:00</td>\n",
       "      <td>2017-07-31 00:00:00</td>\n",
       "      <td>2017-08-31 00:00:00</td>\n",
       "    </tr>\n",
       "    <tr>\n",
       "      <th>trend</th>\n",
       "      <td>473185.161743</td>\n",
       "      <td>474338.610773</td>\n",
       "      <td>475454.851769</td>\n",
       "      <td>476608.300799</td>\n",
       "      <td>477761.749829</td>\n",
       "    </tr>\n",
       "    <tr>\n",
       "      <th>yhat_lower</th>\n",
       "      <td>476366.14495</td>\n",
       "      <td>472883.491355</td>\n",
       "      <td>479812.841453</td>\n",
       "      <td>470158.478095</td>\n",
       "      <td>457163.266464</td>\n",
       "    </tr>\n",
       "    <tr>\n",
       "      <th>yhat_upper</th>\n",
       "      <td>488649.312675</td>\n",
       "      <td>483684.457908</td>\n",
       "      <td>491954.204485</td>\n",
       "      <td>482517.821342</td>\n",
       "      <td>469702.403398</td>\n",
       "    </tr>\n",
       "    <tr>\n",
       "      <th>trend_lower</th>\n",
       "      <td>471396.759783</td>\n",
       "      <td>472382.300435</td>\n",
       "      <td>473365.057025</td>\n",
       "      <td>474405.92705</td>\n",
       "      <td>475361.706186</td>\n",
       "    </tr>\n",
       "    <tr>\n",
       "      <th>trend_upper</th>\n",
       "      <td>475096.599263</td>\n",
       "      <td>476412.480137</td>\n",
       "      <td>477718.816649</td>\n",
       "      <td>479035.190447</td>\n",
       "      <td>480346.548696</td>\n",
       "    </tr>\n",
       "    <tr>\n",
       "      <th>additive_terms</th>\n",
       "      <td>9543.960499</td>\n",
       "      <td>4128.807531</td>\n",
       "      <td>10584.481555</td>\n",
       "      <td>-410.901128</td>\n",
       "      <td>-14234.061249</td>\n",
       "    </tr>\n",
       "    <tr>\n",
       "      <th>additive_terms_lower</th>\n",
       "      <td>9543.960499</td>\n",
       "      <td>4128.807531</td>\n",
       "      <td>10584.481555</td>\n",
       "      <td>-410.901128</td>\n",
       "      <td>-14234.061249</td>\n",
       "    </tr>\n",
       "    <tr>\n",
       "      <th>additive_terms_upper</th>\n",
       "      <td>9543.960499</td>\n",
       "      <td>4128.807531</td>\n",
       "      <td>10584.481555</td>\n",
       "      <td>-410.901128</td>\n",
       "      <td>-14234.061249</td>\n",
       "    </tr>\n",
       "    <tr>\n",
       "      <th>yearly</th>\n",
       "      <td>9543.960499</td>\n",
       "      <td>4128.807531</td>\n",
       "      <td>10584.481555</td>\n",
       "      <td>-410.901128</td>\n",
       "      <td>-14234.061249</td>\n",
       "    </tr>\n",
       "    <tr>\n",
       "      <th>yearly_lower</th>\n",
       "      <td>9543.960499</td>\n",
       "      <td>4128.807531</td>\n",
       "      <td>10584.481555</td>\n",
       "      <td>-410.901128</td>\n",
       "      <td>-14234.061249</td>\n",
       "    </tr>\n",
       "    <tr>\n",
       "      <th>yearly_upper</th>\n",
       "      <td>9543.960499</td>\n",
       "      <td>4128.807531</td>\n",
       "      <td>10584.481555</td>\n",
       "      <td>-410.901128</td>\n",
       "      <td>-14234.061249</td>\n",
       "    </tr>\n",
       "    <tr>\n",
       "      <th>multiplicative_terms</th>\n",
       "      <td>0.0</td>\n",
       "      <td>0.0</td>\n",
       "      <td>0.0</td>\n",
       "      <td>0.0</td>\n",
       "      <td>0.0</td>\n",
       "    </tr>\n",
       "    <tr>\n",
       "      <th>multiplicative_terms_lower</th>\n",
       "      <td>0.0</td>\n",
       "      <td>0.0</td>\n",
       "      <td>0.0</td>\n",
       "      <td>0.0</td>\n",
       "      <td>0.0</td>\n",
       "    </tr>\n",
       "    <tr>\n",
       "      <th>multiplicative_terms_upper</th>\n",
       "      <td>0.0</td>\n",
       "      <td>0.0</td>\n",
       "      <td>0.0</td>\n",
       "      <td>0.0</td>\n",
       "      <td>0.0</td>\n",
       "    </tr>\n",
       "    <tr>\n",
       "      <th>yhat</th>\n",
       "      <td>482729.122242</td>\n",
       "      <td>478467.418304</td>\n",
       "      <td>486039.333324</td>\n",
       "      <td>476197.399672</td>\n",
       "      <td>463527.68858</td>\n",
       "    </tr>\n",
       "  </tbody>\n",
       "</table>\n",
       "</div>"
      ],
      "text/plain": [
       "                                             91                   92  \\\n",
       "ds                          2017-04-30 00:00:00  2017-05-31 00:00:00   \n",
       "trend                             473185.161743        474338.610773   \n",
       "yhat_lower                         476366.14495        472883.491355   \n",
       "yhat_upper                        488649.312675        483684.457908   \n",
       "trend_lower                       471396.759783        472382.300435   \n",
       "trend_upper                       475096.599263        476412.480137   \n",
       "additive_terms                      9543.960499          4128.807531   \n",
       "additive_terms_lower                9543.960499          4128.807531   \n",
       "additive_terms_upper                9543.960499          4128.807531   \n",
       "yearly                              9543.960499          4128.807531   \n",
       "yearly_lower                        9543.960499          4128.807531   \n",
       "yearly_upper                        9543.960499          4128.807531   \n",
       "multiplicative_terms                        0.0                  0.0   \n",
       "multiplicative_terms_lower                  0.0                  0.0   \n",
       "multiplicative_terms_upper                  0.0                  0.0   \n",
       "yhat                              482729.122242        478467.418304   \n",
       "\n",
       "                                             93                   94  \\\n",
       "ds                          2017-06-30 00:00:00  2017-07-31 00:00:00   \n",
       "trend                             475454.851769        476608.300799   \n",
       "yhat_lower                        479812.841453        470158.478095   \n",
       "yhat_upper                        491954.204485        482517.821342   \n",
       "trend_lower                       473365.057025         474405.92705   \n",
       "trend_upper                       477718.816649        479035.190447   \n",
       "additive_terms                     10584.481555          -410.901128   \n",
       "additive_terms_lower               10584.481555          -410.901128   \n",
       "additive_terms_upper               10584.481555          -410.901128   \n",
       "yearly                             10584.481555          -410.901128   \n",
       "yearly_lower                       10584.481555          -410.901128   \n",
       "yearly_upper                       10584.481555          -410.901128   \n",
       "multiplicative_terms                        0.0                  0.0   \n",
       "multiplicative_terms_lower                  0.0                  0.0   \n",
       "multiplicative_terms_upper                  0.0                  0.0   \n",
       "yhat                              486039.333324        476197.399672   \n",
       "\n",
       "                                             95  \n",
       "ds                          2017-08-31 00:00:00  \n",
       "trend                             477761.749829  \n",
       "yhat_lower                        457163.266464  \n",
       "yhat_upper                        469702.403398  \n",
       "trend_lower                       475361.706186  \n",
       "trend_upper                       480346.548696  \n",
       "additive_terms                    -14234.061249  \n",
       "additive_terms_lower              -14234.061249  \n",
       "additive_terms_upper              -14234.061249  \n",
       "yearly                            -14234.061249  \n",
       "yearly_lower                      -14234.061249  \n",
       "yearly_upper                      -14234.061249  \n",
       "multiplicative_terms                        0.0  \n",
       "multiplicative_terms_lower                  0.0  \n",
       "multiplicative_terms_upper                  0.0  \n",
       "yhat                               463527.68858  "
      ]
     },
     "execution_count": 9,
     "metadata": {},
     "output_type": "execute_result"
    }
   ],
   "source": [
    "forecast.tail().T"
   ]
  },
  {
   "cell_type": "markdown",
   "metadata": {},
   "source": [
    "We really only want to look at yhat, yhat_lower and yhat_upper, so we can do that with:"
   ]
  },
  {
   "cell_type": "code",
   "execution_count": 10,
   "metadata": {
    "ExecuteTime": {
     "end_time": "2022-03-08T17:40:36.300556Z",
     "start_time": "2022-03-08T17:40:36.283678Z"
    }
   },
   "outputs": [
    {
     "data": {
      "text/html": [
       "<div>\n",
       "<style scoped>\n",
       "    .dataframe tbody tr th:only-of-type {\n",
       "        vertical-align: middle;\n",
       "    }\n",
       "\n",
       "    .dataframe tbody tr th {\n",
       "        vertical-align: top;\n",
       "    }\n",
       "\n",
       "    .dataframe thead th {\n",
       "        text-align: right;\n",
       "    }\n",
       "</style>\n",
       "<table border=\"1\" class=\"dataframe\">\n",
       "  <thead>\n",
       "    <tr style=\"text-align: right;\">\n",
       "      <th></th>\n",
       "      <th>ds</th>\n",
       "      <th>yhat</th>\n",
       "      <th>yhat_lower</th>\n",
       "      <th>yhat_upper</th>\n",
       "    </tr>\n",
       "  </thead>\n",
       "  <tbody>\n",
       "    <tr>\n",
       "      <th>91</th>\n",
       "      <td>2017-04-30</td>\n",
       "      <td>482729.122242</td>\n",
       "      <td>476366.144950</td>\n",
       "      <td>488649.312675</td>\n",
       "    </tr>\n",
       "    <tr>\n",
       "      <th>92</th>\n",
       "      <td>2017-05-31</td>\n",
       "      <td>478467.418304</td>\n",
       "      <td>472883.491355</td>\n",
       "      <td>483684.457908</td>\n",
       "    </tr>\n",
       "    <tr>\n",
       "      <th>93</th>\n",
       "      <td>2017-06-30</td>\n",
       "      <td>486039.333324</td>\n",
       "      <td>479812.841453</td>\n",
       "      <td>491954.204485</td>\n",
       "    </tr>\n",
       "    <tr>\n",
       "      <th>94</th>\n",
       "      <td>2017-07-31</td>\n",
       "      <td>476197.399672</td>\n",
       "      <td>470158.478095</td>\n",
       "      <td>482517.821342</td>\n",
       "    </tr>\n",
       "    <tr>\n",
       "      <th>95</th>\n",
       "      <td>2017-08-31</td>\n",
       "      <td>463527.688580</td>\n",
       "      <td>457163.266464</td>\n",
       "      <td>469702.403398</td>\n",
       "    </tr>\n",
       "  </tbody>\n",
       "</table>\n",
       "</div>"
      ],
      "text/plain": [
       "           ds           yhat     yhat_lower     yhat_upper\n",
       "91 2017-04-30  482729.122242  476366.144950  488649.312675\n",
       "92 2017-05-31  478467.418304  472883.491355  483684.457908\n",
       "93 2017-06-30  486039.333324  479812.841453  491954.204485\n",
       "94 2017-07-31  476197.399672  470158.478095  482517.821342\n",
       "95 2017-08-31  463527.688580  457163.266464  469702.403398"
      ]
     },
     "execution_count": 10,
     "metadata": {},
     "output_type": "execute_result"
    }
   ],
   "source": [
    "forecast[['ds', 'yhat', 'yhat_lower', 'yhat_upper']].tail()"
   ]
  },
  {
   "cell_type": "markdown",
   "metadata": {},
   "source": [
    "# Plotting Prophet results\n",
    "\n",
    "Prophet has a plotting mechanism called ```plot```.  This plot functionality draws the original data (black dots), the model (blue line) and the error of the forecast (shaded blue area)."
   ]
  },
  {
   "cell_type": "code",
   "execution_count": 11,
   "metadata": {
    "ExecuteTime": {
     "end_time": "2022-03-08T17:40:39.367060Z",
     "start_time": "2022-03-08T17:40:39.062546Z"
    }
   },
   "outputs": [
    {
     "data": {
      "image/png": "[encoded data removed]",
      "text/plain": [
       "<Figure size 720x432 with 1 Axes>"
      ]
     },
     "metadata": {},
     "output_type": "display_data"
    }
   ],
   "source": [
    "# Plot the forecast\n",
    "model.plot(forecast);"
   ]
  },
  {
   "cell_type": "markdown",
   "metadata": {},
   "source": [
    "## Evaluating Prophet\n",
    "The shaded blue area is the error of the forecast. But we can only eyeball it. Let's look at the R-squared (amount of variance) and Mean Squared Error. "
   ]
  },
  {
   "cell_type": "code",
   "execution_count": 12,
   "metadata": {
    "ExecuteTime": {
     "end_time": "2022-03-08T17:40:44.651921Z",
     "start_time": "2022-03-08T17:40:44.632389Z"
    }
   },
   "outputs": [
    {
     "data": {
      "text/html": [
       "<div>\n",
       "<style scoped>\n",
       "    .dataframe tbody tr th:only-of-type {\n",
       "        vertical-align: middle;\n",
       "    }\n",
       "\n",
       "    .dataframe tbody tr th {\n",
       "        vertical-align: top;\n",
       "    }\n",
       "\n",
       "    .dataframe thead th {\n",
       "        text-align: right;\n",
       "    }\n",
       "</style>\n",
       "<table border=\"1\" class=\"dataframe\">\n",
       "  <thead>\n",
       "    <tr style=\"text-align: right;\">\n",
       "      <th></th>\n",
       "      <th>ds</th>\n",
       "      <th>yhat</th>\n",
       "      <th>y</th>\n",
       "    </tr>\n",
       "  </thead>\n",
       "  <tbody>\n",
       "    <tr>\n",
       "      <th>0</th>\n",
       "      <td>2009-10-01</td>\n",
       "      <td>335989.177337</td>\n",
       "      <td>338630.0</td>\n",
       "    </tr>\n",
       "    <tr>\n",
       "      <th>1</th>\n",
       "      <td>2009-11-01</td>\n",
       "      <td>343393.062411</td>\n",
       "      <td>339386.0</td>\n",
       "    </tr>\n",
       "    <tr>\n",
       "      <th>2</th>\n",
       "      <td>2009-12-01</td>\n",
       "      <td>400488.295924</td>\n",
       "      <td>400264.0</td>\n",
       "    </tr>\n",
       "    <tr>\n",
       "      <th>3</th>\n",
       "      <td>2010-01-01</td>\n",
       "      <td>310178.396738</td>\n",
       "      <td>314640.0</td>\n",
       "    </tr>\n",
       "    <tr>\n",
       "      <th>4</th>\n",
       "      <td>2010-02-01</td>\n",
       "      <td>308344.494159</td>\n",
       "      <td>311022.0</td>\n",
       "    </tr>\n",
       "  </tbody>\n",
       "</table>\n",
       "</div>"
      ],
      "text/plain": [
       "          ds           yhat         y\n",
       "0 2009-10-01  335989.177337  338630.0\n",
       "1 2009-11-01  343393.062411  339386.0\n",
       "2 2009-12-01  400488.295924  400264.0\n",
       "3 2010-01-01  310178.396738  314640.0\n",
       "4 2010-02-01  308344.494159  311022.0"
      ]
     },
     "execution_count": 12,
     "metadata": {},
     "output_type": "execute_result"
    }
   ],
   "source": [
    "#To do this, we have to get the y-hat and original y's from the data\n",
    "metric_df = pd.concat([forecast[['ds','yhat']],sales_df['y']], axis=1)\n",
    "metric_df.head()"
   ]
  },
  {
   "cell_type": "markdown",
   "metadata": {},
   "source": [
    "Remember we added 24 months of forecast so we don't have an actual `y` data for those months."
   ]
  },
  {
   "cell_type": "code",
   "execution_count": 13,
   "metadata": {
    "ExecuteTime": {
     "end_time": "2022-03-08T17:40:46.089298Z",
     "start_time": "2022-03-08T17:40:46.078757Z"
    }
   },
   "outputs": [
    {
     "data": {
      "text/html": [
       "<div>\n",
       "<style scoped>\n",
       "    .dataframe tbody tr th:only-of-type {\n",
       "        vertical-align: middle;\n",
       "    }\n",
       "\n",
       "    .dataframe tbody tr th {\n",
       "        vertical-align: top;\n",
       "    }\n",
       "\n",
       "    .dataframe thead th {\n",
       "        text-align: right;\n",
       "    }\n",
       "</style>\n",
       "<table border=\"1\" class=\"dataframe\">\n",
       "  <thead>\n",
       "    <tr style=\"text-align: right;\">\n",
       "      <th></th>\n",
       "      <th>ds</th>\n",
       "      <th>yhat</th>\n",
       "      <th>y</th>\n",
       "    </tr>\n",
       "  </thead>\n",
       "  <tbody>\n",
       "    <tr>\n",
       "      <th>91</th>\n",
       "      <td>2017-04-30</td>\n",
       "      <td>482729.122242</td>\n",
       "      <td>NaN</td>\n",
       "    </tr>\n",
       "    <tr>\n",
       "      <th>92</th>\n",
       "      <td>2017-05-31</td>\n",
       "      <td>478467.418304</td>\n",
       "      <td>NaN</td>\n",
       "    </tr>\n",
       "    <tr>\n",
       "      <th>93</th>\n",
       "      <td>2017-06-30</td>\n",
       "      <td>486039.333324</td>\n",
       "      <td>NaN</td>\n",
       "    </tr>\n",
       "    <tr>\n",
       "      <th>94</th>\n",
       "      <td>2017-07-31</td>\n",
       "      <td>476197.399672</td>\n",
       "      <td>NaN</td>\n",
       "    </tr>\n",
       "    <tr>\n",
       "      <th>95</th>\n",
       "      <td>2017-08-31</td>\n",
       "      <td>463527.688580</td>\n",
       "      <td>NaN</td>\n",
       "    </tr>\n",
       "  </tbody>\n",
       "</table>\n",
       "</div>"
      ],
      "text/plain": [
       "           ds           yhat   y\n",
       "91 2017-04-30  482729.122242 NaN\n",
       "92 2017-05-31  478467.418304 NaN\n",
       "93 2017-06-30  486039.333324 NaN\n",
       "94 2017-07-31  476197.399672 NaN\n",
       "95 2017-08-31  463527.688580 NaN"
      ]
     },
     "execution_count": 13,
     "metadata": {},
     "output_type": "execute_result"
    }
   ],
   "source": [
    "# check the tail, because we added 24 months of forecast.\n",
    "metric_df.tail()"
   ]
  },
  {
   "cell_type": "code",
   "execution_count": 14,
   "metadata": {
    "ExecuteTime": {
     "end_time": "2022-03-08T17:40:47.110685Z",
     "start_time": "2022-03-08T17:40:47.105011Z"
    }
   },
   "outputs": [],
   "source": [
    "# The tail has NaN values, because they're predictions - there was no real Y. Let's drop those for model evaluation.\n",
    "metric_df.dropna(inplace = True)"
   ]
  },
  {
   "cell_type": "code",
   "execution_count": 15,
   "metadata": {
    "ExecuteTime": {
     "end_time": "2022-03-08T17:40:48.932554Z",
     "start_time": "2022-03-08T17:40:48.918248Z"
    }
   },
   "outputs": [
    {
     "data": {
      "text/html": [
       "<div>\n",
       "<style scoped>\n",
       "    .dataframe tbody tr th:only-of-type {\n",
       "        vertical-align: middle;\n",
       "    }\n",
       "\n",
       "    .dataframe tbody tr th {\n",
       "        vertical-align: top;\n",
       "    }\n",
       "\n",
       "    .dataframe thead th {\n",
       "        text-align: right;\n",
       "    }\n",
       "</style>\n",
       "<table border=\"1\" class=\"dataframe\">\n",
       "  <thead>\n",
       "    <tr style=\"text-align: right;\">\n",
       "      <th></th>\n",
       "      <th>ds</th>\n",
       "      <th>yhat</th>\n",
       "      <th>y</th>\n",
       "    </tr>\n",
       "  </thead>\n",
       "  <tbody>\n",
       "    <tr>\n",
       "      <th>67</th>\n",
       "      <td>2015-05-01</td>\n",
       "      <td>459984.836015</td>\n",
       "      <td>462615.0</td>\n",
       "    </tr>\n",
       "    <tr>\n",
       "      <th>68</th>\n",
       "      <td>2015-06-01</td>\n",
       "      <td>448605.317668</td>\n",
       "      <td>448229.0</td>\n",
       "    </tr>\n",
       "    <tr>\n",
       "      <th>69</th>\n",
       "      <td>2015-07-01</td>\n",
       "      <td>453589.278882</td>\n",
       "      <td>457710.0</td>\n",
       "    </tr>\n",
       "    <tr>\n",
       "      <th>70</th>\n",
       "      <td>2015-08-01</td>\n",
       "      <td>455140.347837</td>\n",
       "      <td>456340.0</td>\n",
       "    </tr>\n",
       "    <tr>\n",
       "      <th>71</th>\n",
       "      <td>2015-09-01</td>\n",
       "      <td>433037.517311</td>\n",
       "      <td>430917.0</td>\n",
       "    </tr>\n",
       "  </tbody>\n",
       "</table>\n",
       "</div>"
      ],
      "text/plain": [
       "           ds           yhat         y\n",
       "67 2015-05-01  459984.836015  462615.0\n",
       "68 2015-06-01  448605.317668  448229.0\n",
       "69 2015-07-01  453589.278882  457710.0\n",
       "70 2015-08-01  455140.347837  456340.0\n",
       "71 2015-09-01  433037.517311  430917.0"
      ]
     },
     "execution_count": 15,
     "metadata": {},
     "output_type": "execute_result"
    }
   ],
   "source": [
    "metric_df.tail()"
   ]
  },
  {
   "cell_type": "markdown",
   "metadata": {},
   "source": [
    "Generate some metrics on our model."
   ]
  },
  {
   "cell_type": "code",
   "execution_count": 16,
   "metadata": {
    "ExecuteTime": {
     "end_time": "2022-03-08T17:40:50.115807Z",
     "start_time": "2022-03-08T17:40:50.098360Z"
    }
   },
   "outputs": [
    {
     "name": "stdout",
     "output_type": "stream",
     "text": [
      "R-squared:  0.9877986969691978\n",
      "Mean Squared Error:  19250404.840484288\n",
      "RMSE:  4387.52832930846\n"
     ]
    }
   ],
   "source": [
    "#Let's take a look at the numbers - from sklearn.metrics import mean_squared_error, r2_score, mean_absolute_error\n",
    "print(\"R-squared: \", r2_score(metric_df['y'], metric_df['yhat']))\n",
    "print(\"Mean Squared Error: \", mean_squared_error(metric_df['y'], metric_df['yhat']))\n",
    "print(\"RMSE: \", np.sqrt(mean_squared_error(metric_df['y'], metric_df['yhat'])))"
   ]
  },
  {
   "cell_type": "markdown",
   "metadata": {},
   "source": [
    "An R2 value of .99 is phenomenal... and too good to be true. Our massive MSE confirms any suspcion tha thte model is overfit and won't be very predictive in the future. Part of the problem in this example is that the its monthly, and there aren't enough data points to build a robust model. "
   ]
  },
  {
   "cell_type": "markdown",
   "metadata": {},
   "source": [
    "## Accounting for Seasonality and Trends\n",
    "\n",
    "We can see from this data that there is a spike in the same month each year. While spike could be due to many different reasons, let's assume its because there's a major promotion that this company runs every year at that time, which is in December for this dataset.\n",
    "\n",
    "When patterns repeat over *known, fixed periods* of time within a data set, we call this **seasonality**. A seasonal pattern exists when a series is influenced by factors related to the cyclic nature of time — i.e., time of month, quarter, year, etc. Seasonality is of a fixed and known period, otherwise it is not truly seasonality. Additionally, it must be either attributed to another factor or counted as a set of anomalous events in the data."
   ]
  },
  {
   "cell_type": "markdown",
   "metadata": {},
   "source": [
    "### Prophet calls them \"holidays\"\n",
    "\n",
    "Because we know this promotion occurs every december, we want to use this knowledge to help prophet better forecast those months, so we'll use prohpet's ```holiday``` construct (explained here https://facebookincubator.github.io/prophet/docs/holiday_effects.html).\n",
    "\n",
    "The holiday object is a pandas dataframe with the holiday and date of the holiday. For this example, the construct would look like this:\n",
    "\n",
    "```promotions = pd.DataFrame({\n",
    "  'holiday': 'december_promotion',\n",
    "  'ds': pd.to_datetime(['2009-12-01', '2010-12-01', '2011-12-01', '2012-12-01',\n",
    "                        '2013-12-01', '2014-12-01', '2015-12-01']),\n",
    "  'lower_window': 0,\n",
    "  'upper_window': 0,\n",
    "})```\n",
    "\n",
    "This ```promotions``` dataframe consisists of promotion dates for Dec in 2009 through 2015,  The ```lower_window``` and ```upper_window``` values are set to zero to indicate that we don't want prophet to consider any other months than the ones listed."
   ]
  },
  {
   "cell_type": "code",
   "execution_count": 17,
   "metadata": {
    "ExecuteTime": {
     "end_time": "2022-03-08T18:20:14.525302Z",
     "start_time": "2022-03-08T18:20:14.489103Z"
    }
   },
   "outputs": [
    {
     "data": {
      "text/html": [
       "<div>\n",
       "<style scoped>\n",
       "    .dataframe tbody tr th:only-of-type {\n",
       "        vertical-align: middle;\n",
       "    }\n",
       "\n",
       "    .dataframe tbody tr th {\n",
       "        vertical-align: top;\n",
       "    }\n",
       "\n",
       "    .dataframe thead th {\n",
       "        text-align: right;\n",
       "    }\n",
       "</style>\n",
       "<table border=\"1\" class=\"dataframe\">\n",
       "  <thead>\n",
       "    <tr style=\"text-align: right;\">\n",
       "      <th></th>\n",
       "      <th>holiday</th>\n",
       "      <th>ds</th>\n",
       "      <th>lower_window</th>\n",
       "      <th>upper_window</th>\n",
       "    </tr>\n",
       "  </thead>\n",
       "  <tbody>\n",
       "    <tr>\n",
       "      <th>0</th>\n",
       "      <td>december_promotion</td>\n",
       "      <td>2009-12-01</td>\n",
       "      <td>0</td>\n",
       "      <td>0</td>\n",
       "    </tr>\n",
       "    <tr>\n",
       "      <th>1</th>\n",
       "      <td>december_promotion</td>\n",
       "      <td>2010-12-01</td>\n",
       "      <td>0</td>\n",
       "      <td>0</td>\n",
       "    </tr>\n",
       "    <tr>\n",
       "      <th>2</th>\n",
       "      <td>december_promotion</td>\n",
       "      <td>2011-12-01</td>\n",
       "      <td>0</td>\n",
       "      <td>0</td>\n",
       "    </tr>\n",
       "    <tr>\n",
       "      <th>3</th>\n",
       "      <td>december_promotion</td>\n",
       "      <td>2012-12-01</td>\n",
       "      <td>0</td>\n",
       "      <td>0</td>\n",
       "    </tr>\n",
       "    <tr>\n",
       "      <th>4</th>\n",
       "      <td>december_promotion</td>\n",
       "      <td>2013-12-01</td>\n",
       "      <td>0</td>\n",
       "      <td>0</td>\n",
       "    </tr>\n",
       "    <tr>\n",
       "      <th>5</th>\n",
       "      <td>december_promotion</td>\n",
       "      <td>2014-12-01</td>\n",
       "      <td>0</td>\n",
       "      <td>0</td>\n",
       "    </tr>\n",
       "    <tr>\n",
       "      <th>6</th>\n",
       "      <td>december_promotion</td>\n",
       "      <td>2015-12-01</td>\n",
       "      <td>0</td>\n",
       "      <td>0</td>\n",
       "    </tr>\n",
       "  </tbody>\n",
       "</table>\n",
       "</div>"
      ],
      "text/plain": [
       "              holiday         ds  lower_window  upper_window\n",
       "0  december_promotion 2009-12-01             0             0\n",
       "1  december_promotion 2010-12-01             0             0\n",
       "2  december_promotion 2011-12-01             0             0\n",
       "3  december_promotion 2012-12-01             0             0\n",
       "4  december_promotion 2013-12-01             0             0\n",
       "5  december_promotion 2014-12-01             0             0\n",
       "6  december_promotion 2015-12-01             0             0"
      ]
     },
     "execution_count": 17,
     "metadata": {},
     "output_type": "execute_result"
    }
   ],
   "source": [
    "# Build the promotions dataframe from above here - be sure you understand the syntax and logic!\n",
    "promotions = pd.DataFrame({\n",
    "  'holiday': 'december_promotion',\n",
    "  'ds': pd.to_datetime(['2009-12-01', '2010-12-01', '2011-12-01', '2012-12-01',\n",
    "                        '2013-12-01', '2014-12-01', '2015-12-01']),\n",
    "  'lower_window': 0,\n",
    "  'upper_window': 0,\n",
    "})\n",
    "\n",
    "promotions"
   ]
  },
  {
   "cell_type": "code",
   "execution_count": 18,
   "metadata": {
    "ExecuteTime": {
     "end_time": "2022-03-08T18:20:15.979200Z",
     "start_time": "2022-03-08T18:20:15.144360Z"
    }
   },
   "outputs": [
    {
     "name": "stderr",
     "output_type": "stream",
     "text": [
      "07:55:33 - cmdstanpy - INFO - Chain [1] start processing\n",
      "07:55:33 - cmdstanpy - INFO - Chain [1] done processing\n"
     ]
    },
    {
     "data": {
      "text/plain": [
       "<prophet.forecaster.Prophet at 0x1f88e7c7730>"
      ]
     },
     "execution_count": 18,
     "metadata": {},
     "output_type": "execute_result"
    }
   ],
   "source": [
    "#Now let's set up prophet to model our data using holidays - Instantiate and fit the model\n",
    "model = Prophet(holidays=promotions,\n",
    "                weekly_seasonality=False)\n",
    "\n",
    "model.add_seasonality(name='monthly', period=30.5, fourier_order=5)\n",
    "model.fit(sales_df)"
   ]
  },
  {
   "cell_type": "code",
   "execution_count": 19,
   "metadata": {
    "ExecuteTime": {
     "end_time": "2022-03-08T18:20:17.500835Z",
     "start_time": "2022-03-08T18:20:15.981709Z"
    }
   },
   "outputs": [
    {
     "data": {
      "text/html": [
       "<div>\n",
       "<style scoped>\n",
       "    .dataframe tbody tr th:only-of-type {\n",
       "        vertical-align: middle;\n",
       "    }\n",
       "\n",
       "    .dataframe tbody tr th {\n",
       "        vertical-align: top;\n",
       "    }\n",
       "\n",
       "    .dataframe thead th {\n",
       "        text-align: right;\n",
       "    }\n",
       "</style>\n",
       "<table border=\"1\" class=\"dataframe\">\n",
       "  <thead>\n",
       "    <tr style=\"text-align: right;\">\n",
       "      <th></th>\n",
       "      <th>0</th>\n",
       "      <th>1</th>\n",
       "      <th>2</th>\n",
       "      <th>3</th>\n",
       "      <th>4</th>\n",
       "    </tr>\n",
       "  </thead>\n",
       "  <tbody>\n",
       "    <tr>\n",
       "      <th>ds</th>\n",
       "      <td>2009-10-01 00:00:00</td>\n",
       "      <td>2009-11-01 00:00:00</td>\n",
       "      <td>2009-12-01 00:00:00</td>\n",
       "      <td>2010-01-01 00:00:00</td>\n",
       "      <td>2010-02-01 00:00:00</td>\n",
       "    </tr>\n",
       "    <tr>\n",
       "      <th>trend</th>\n",
       "      <td>328135.037424</td>\n",
       "      <td>330071.552011</td>\n",
       "      <td>331945.598385</td>\n",
       "      <td>333882.112976</td>\n",
       "      <td>335818.627566</td>\n",
       "    </tr>\n",
       "    <tr>\n",
       "      <th>yhat_lower</th>\n",
       "      <td>330564.071601</td>\n",
       "      <td>339806.40704</td>\n",
       "      <td>395338.981995</td>\n",
       "      <td>307104.079713</td>\n",
       "      <td>305893.681641</td>\n",
       "    </tr>\n",
       "    <tr>\n",
       "      <th>yhat_upper</th>\n",
       "      <td>339604.862248</td>\n",
       "      <td>348669.299605</td>\n",
       "      <td>404165.956899</td>\n",
       "      <td>316616.236428</td>\n",
       "      <td>315137.905329</td>\n",
       "    </tr>\n",
       "    <tr>\n",
       "      <th>trend_lower</th>\n",
       "      <td>328135.037424</td>\n",
       "      <td>330071.552011</td>\n",
       "      <td>331945.598385</td>\n",
       "      <td>333882.112976</td>\n",
       "      <td>335818.627566</td>\n",
       "    </tr>\n",
       "    <tr>\n",
       "      <th>trend_upper</th>\n",
       "      <td>328135.037424</td>\n",
       "      <td>330071.552011</td>\n",
       "      <td>331945.598385</td>\n",
       "      <td>333882.112976</td>\n",
       "      <td>335818.627566</td>\n",
       "    </tr>\n",
       "    <tr>\n",
       "      <th>additive_terms</th>\n",
       "      <td>7026.213709</td>\n",
       "      <td>14284.693112</td>\n",
       "      <td>68062.524362</td>\n",
       "      <td>-22243.66172</td>\n",
       "      <td>-25163.850429</td>\n",
       "    </tr>\n",
       "    <tr>\n",
       "      <th>additive_terms_lower</th>\n",
       "      <td>7026.213709</td>\n",
       "      <td>14284.693112</td>\n",
       "      <td>68062.524362</td>\n",
       "      <td>-22243.66172</td>\n",
       "      <td>-25163.850429</td>\n",
       "    </tr>\n",
       "    <tr>\n",
       "      <th>additive_terms_upper</th>\n",
       "      <td>7026.213709</td>\n",
       "      <td>14284.693112</td>\n",
       "      <td>68062.524362</td>\n",
       "      <td>-22243.66172</td>\n",
       "      <td>-25163.850429</td>\n",
       "    </tr>\n",
       "    <tr>\n",
       "      <th>december_promotion</th>\n",
       "      <td>0.0</td>\n",
       "      <td>0.0</td>\n",
       "      <td>-170051.978176</td>\n",
       "      <td>0.0</td>\n",
       "      <td>0.0</td>\n",
       "    </tr>\n",
       "    <tr>\n",
       "      <th>december_promotion_lower</th>\n",
       "      <td>0.0</td>\n",
       "      <td>0.0</td>\n",
       "      <td>-170051.978176</td>\n",
       "      <td>0.0</td>\n",
       "      <td>0.0</td>\n",
       "    </tr>\n",
       "    <tr>\n",
       "      <th>december_promotion_upper</th>\n",
       "      <td>0.0</td>\n",
       "      <td>0.0</td>\n",
       "      <td>-170051.978176</td>\n",
       "      <td>0.0</td>\n",
       "      <td>0.0</td>\n",
       "    </tr>\n",
       "    <tr>\n",
       "      <th>holidays</th>\n",
       "      <td>0.0</td>\n",
       "      <td>0.0</td>\n",
       "      <td>-170051.978176</td>\n",
       "      <td>0.0</td>\n",
       "      <td>0.0</td>\n",
       "    </tr>\n",
       "    <tr>\n",
       "      <th>holidays_lower</th>\n",
       "      <td>0.0</td>\n",
       "      <td>0.0</td>\n",
       "      <td>-170051.978176</td>\n",
       "      <td>0.0</td>\n",
       "      <td>0.0</td>\n",
       "    </tr>\n",
       "    <tr>\n",
       "      <th>holidays_upper</th>\n",
       "      <td>0.0</td>\n",
       "      <td>0.0</td>\n",
       "      <td>-170051.978176</td>\n",
       "      <td>0.0</td>\n",
       "      <td>0.0</td>\n",
       "    </tr>\n",
       "    <tr>\n",
       "      <th>monthly</th>\n",
       "      <td>27303.109503</td>\n",
       "      <td>27206.47894</td>\n",
       "      <td>27303.109504</td>\n",
       "      <td>27206.478938</td>\n",
       "      <td>26069.223507</td>\n",
       "    </tr>\n",
       "    <tr>\n",
       "      <th>monthly_lower</th>\n",
       "      <td>27303.109503</td>\n",
       "      <td>27206.47894</td>\n",
       "      <td>27303.109504</td>\n",
       "      <td>27206.478938</td>\n",
       "      <td>26069.223507</td>\n",
       "    </tr>\n",
       "    <tr>\n",
       "      <th>monthly_upper</th>\n",
       "      <td>27303.109503</td>\n",
       "      <td>27206.47894</td>\n",
       "      <td>27303.109504</td>\n",
       "      <td>27206.478938</td>\n",
       "      <td>26069.223507</td>\n",
       "    </tr>\n",
       "    <tr>\n",
       "      <th>yearly</th>\n",
       "      <td>-20276.895795</td>\n",
       "      <td>-12921.785828</td>\n",
       "      <td>210811.393034</td>\n",
       "      <td>-49450.140658</td>\n",
       "      <td>-51233.073936</td>\n",
       "    </tr>\n",
       "    <tr>\n",
       "      <th>yearly_lower</th>\n",
       "      <td>-20276.895795</td>\n",
       "      <td>-12921.785828</td>\n",
       "      <td>210811.393034</td>\n",
       "      <td>-49450.140658</td>\n",
       "      <td>-51233.073936</td>\n",
       "    </tr>\n",
       "    <tr>\n",
       "      <th>yearly_upper</th>\n",
       "      <td>-20276.895795</td>\n",
       "      <td>-12921.785828</td>\n",
       "      <td>210811.393034</td>\n",
       "      <td>-49450.140658</td>\n",
       "      <td>-51233.073936</td>\n",
       "    </tr>\n",
       "    <tr>\n",
       "      <th>multiplicative_terms</th>\n",
       "      <td>0.0</td>\n",
       "      <td>0.0</td>\n",
       "      <td>0.0</td>\n",
       "      <td>0.0</td>\n",
       "      <td>0.0</td>\n",
       "    </tr>\n",
       "    <tr>\n",
       "      <th>multiplicative_terms_lower</th>\n",
       "      <td>0.0</td>\n",
       "      <td>0.0</td>\n",
       "      <td>0.0</td>\n",
       "      <td>0.0</td>\n",
       "      <td>0.0</td>\n",
       "    </tr>\n",
       "    <tr>\n",
       "      <th>multiplicative_terms_upper</th>\n",
       "      <td>0.0</td>\n",
       "      <td>0.0</td>\n",
       "      <td>0.0</td>\n",
       "      <td>0.0</td>\n",
       "      <td>0.0</td>\n",
       "    </tr>\n",
       "    <tr>\n",
       "      <th>yhat</th>\n",
       "      <td>335161.251133</td>\n",
       "      <td>344356.245122</td>\n",
       "      <td>400008.122747</td>\n",
       "      <td>311638.451255</td>\n",
       "      <td>310654.777137</td>\n",
       "    </tr>\n",
       "  </tbody>\n",
       "</table>\n",
       "</div>"
      ],
      "text/plain": [
       "                                              0                    1  \\\n",
       "ds                          2009-10-01 00:00:00  2009-11-01 00:00:00   \n",
       "trend                             328135.037424        330071.552011   \n",
       "yhat_lower                        330564.071601         339806.40704   \n",
       "yhat_upper                        339604.862248        348669.299605   \n",
       "trend_lower                       328135.037424        330071.552011   \n",
       "trend_upper                       328135.037424        330071.552011   \n",
       "additive_terms                      7026.213709         14284.693112   \n",
       "additive_terms_lower                7026.213709         14284.693112   \n",
       "additive_terms_upper                7026.213709         14284.693112   \n",
       "december_promotion                          0.0                  0.0   \n",
       "december_promotion_lower                    0.0                  0.0   \n",
       "december_promotion_upper                    0.0                  0.0   \n",
       "holidays                                    0.0                  0.0   \n",
       "holidays_lower                              0.0                  0.0   \n",
       "holidays_upper                              0.0                  0.0   \n",
       "monthly                            27303.109503          27206.47894   \n",
       "monthly_lower                      27303.109503          27206.47894   \n",
       "monthly_upper                      27303.109503          27206.47894   \n",
       "yearly                            -20276.895795        -12921.785828   \n",
       "yearly_lower                      -20276.895795        -12921.785828   \n",
       "yearly_upper                      -20276.895795        -12921.785828   \n",
       "multiplicative_terms                        0.0                  0.0   \n",
       "multiplicative_terms_lower                  0.0                  0.0   \n",
       "multiplicative_terms_upper                  0.0                  0.0   \n",
       "yhat                              335161.251133        344356.245122   \n",
       "\n",
       "                                              2                    3  \\\n",
       "ds                          2009-12-01 00:00:00  2010-01-01 00:00:00   \n",
       "trend                             331945.598385        333882.112976   \n",
       "yhat_lower                        395338.981995        307104.079713   \n",
       "yhat_upper                        404165.956899        316616.236428   \n",
       "trend_lower                       331945.598385        333882.112976   \n",
       "trend_upper                       331945.598385        333882.112976   \n",
       "additive_terms                     68062.524362         -22243.66172   \n",
       "additive_terms_lower               68062.524362         -22243.66172   \n",
       "additive_terms_upper               68062.524362         -22243.66172   \n",
       "december_promotion               -170051.978176                  0.0   \n",
       "december_promotion_lower         -170051.978176                  0.0   \n",
       "december_promotion_upper         -170051.978176                  0.0   \n",
       "holidays                         -170051.978176                  0.0   \n",
       "holidays_lower                   -170051.978176                  0.0   \n",
       "holidays_upper                   -170051.978176                  0.0   \n",
       "monthly                            27303.109504         27206.478938   \n",
       "monthly_lower                      27303.109504         27206.478938   \n",
       "monthly_upper                      27303.109504         27206.478938   \n",
       "yearly                            210811.393034        -49450.140658   \n",
       "yearly_lower                      210811.393034        -49450.140658   \n",
       "yearly_upper                      210811.393034        -49450.140658   \n",
       "multiplicative_terms                        0.0                  0.0   \n",
       "multiplicative_terms_lower                  0.0                  0.0   \n",
       "multiplicative_terms_upper                  0.0                  0.0   \n",
       "yhat                              400008.122747        311638.451255   \n",
       "\n",
       "                                              4  \n",
       "ds                          2010-02-01 00:00:00  \n",
       "trend                             335818.627566  \n",
       "yhat_lower                        305893.681641  \n",
       "yhat_upper                        315137.905329  \n",
       "trend_lower                       335818.627566  \n",
       "trend_upper                       335818.627566  \n",
       "additive_terms                    -25163.850429  \n",
       "additive_terms_lower              -25163.850429  \n",
       "additive_terms_upper              -25163.850429  \n",
       "december_promotion                          0.0  \n",
       "december_promotion_lower                    0.0  \n",
       "december_promotion_upper                    0.0  \n",
       "holidays                                    0.0  \n",
       "holidays_lower                              0.0  \n",
       "holidays_upper                              0.0  \n",
       "monthly                            26069.223507  \n",
       "monthly_lower                      26069.223507  \n",
       "monthly_upper                      26069.223507  \n",
       "yearly                            -51233.073936  \n",
       "yearly_lower                      -51233.073936  \n",
       "yearly_upper                      -51233.073936  \n",
       "multiplicative_terms                        0.0  \n",
       "multiplicative_terms_lower                  0.0  \n",
       "multiplicative_terms_upper                  0.0  \n",
       "yhat                              310654.777137  "
      ]
     },
     "execution_count": 19,
     "metadata": {},
     "output_type": "execute_result"
    }
   ],
   "source": [
    "#We've instantiated the model, so now we need to build our future dates to forecast into!\n",
    "future = model.make_future_dataframe(periods=24, freq = 'm')\n",
    "future.tail()\n",
    "\n",
    "#... and then run our future data through prophet's model\n",
    "forecast = model.predict(future)\n",
    "\n",
    "forecast.head().T"
   ]
  },
  {
   "cell_type": "code",
   "execution_count": 20,
   "metadata": {
    "ExecuteTime": {
     "end_time": "2022-03-08T18:20:17.528655Z",
     "start_time": "2022-03-08T18:20:17.508266Z"
    }
   },
   "outputs": [
    {
     "data": {
      "text/html": [
       "<div>\n",
       "<style scoped>\n",
       "    .dataframe tbody tr th:only-of-type {\n",
       "        vertical-align: middle;\n",
       "    }\n",
       "\n",
       "    .dataframe tbody tr th {\n",
       "        vertical-align: top;\n",
       "    }\n",
       "\n",
       "    .dataframe thead th {\n",
       "        text-align: right;\n",
       "    }\n",
       "</style>\n",
       "<table border=\"1\" class=\"dataframe\">\n",
       "  <thead>\n",
       "    <tr style=\"text-align: right;\">\n",
       "      <th></th>\n",
       "      <th>ds</th>\n",
       "      <th>yhat</th>\n",
       "      <th>yhat_lower</th>\n",
       "      <th>yhat_upper</th>\n",
       "    </tr>\n",
       "  </thead>\n",
       "  <tbody>\n",
       "    <tr>\n",
       "      <th>91</th>\n",
       "      <td>2017-04-30</td>\n",
       "      <td>1.127865e+06</td>\n",
       "      <td>1.122430e+06</td>\n",
       "      <td>1.133531e+06</td>\n",
       "    </tr>\n",
       "    <tr>\n",
       "      <th>92</th>\n",
       "      <td>2017-05-31</td>\n",
       "      <td>7.844375e+05</td>\n",
       "      <td>7.792534e+05</td>\n",
       "      <td>7.902043e+05</td>\n",
       "    </tr>\n",
       "    <tr>\n",
       "      <th>93</th>\n",
       "      <td>2017-06-30</td>\n",
       "      <td>1.130558e+06</td>\n",
       "      <td>1.125200e+06</td>\n",
       "      <td>1.136190e+06</td>\n",
       "    </tr>\n",
       "    <tr>\n",
       "      <th>94</th>\n",
       "      <td>2017-07-31</td>\n",
       "      <td>7.822787e+05</td>\n",
       "      <td>7.766254e+05</td>\n",
       "      <td>7.887157e+05</td>\n",
       "    </tr>\n",
       "    <tr>\n",
       "      <th>95</th>\n",
       "      <td>2017-08-31</td>\n",
       "      <td>5.762218e+05</td>\n",
       "      <td>5.707755e+05</td>\n",
       "      <td>5.826660e+05</td>\n",
       "    </tr>\n",
       "  </tbody>\n",
       "</table>\n",
       "</div>"
      ],
      "text/plain": [
       "           ds          yhat    yhat_lower    yhat_upper\n",
       "91 2017-04-30  1.127865e+06  1.122430e+06  1.133531e+06\n",
       "92 2017-05-31  7.844375e+05  7.792534e+05  7.902043e+05\n",
       "93 2017-06-30  1.130558e+06  1.125200e+06  1.136190e+06\n",
       "94 2017-07-31  7.822787e+05  7.766254e+05  7.887157e+05\n",
       "95 2017-08-31  5.762218e+05  5.707755e+05  5.826660e+05"
      ]
     },
     "execution_count": 20,
     "metadata": {},
     "output_type": "execute_result"
    }
   ],
   "source": [
    "#while our new df contains a bit of data, we only care about a few features...\n",
    "forecast[['ds', 'yhat', 'yhat_lower', 'yhat_upper']].tail()"
   ]
  },
  {
   "cell_type": "markdown",
   "metadata": {},
   "source": [
    "## Visualizing with holidays!\n",
    "Same as above at first blush!"
   ]
  },
  {
   "cell_type": "code",
   "execution_count": 21,
   "metadata": {
    "ExecuteTime": {
     "end_time": "2022-03-08T18:20:17.983791Z",
     "start_time": "2022-03-08T18:20:17.531099Z"
    }
   },
   "outputs": [
    {
     "data": {
      "image/png": "[encoded data removed]",
      "text/plain": [
       "<Figure size 720x432 with 1 Axes>"
      ]
     },
     "metadata": {},
     "output_type": "display_data"
    }
   ],
   "source": [
    "#use Prophet's .plot() method to visualize your timeseries.\n",
    "model.plot(forecast);"
   ]
  },
  {
   "cell_type": "markdown",
   "metadata": {},
   "source": [
    "Prophet also allows you to examine the ```components``` of a timeseries using the ```.plot_components()``` method"
   ]
  },
  {
   "cell_type": "code",
   "execution_count": 22,
   "metadata": {
    "ExecuteTime": {
     "start_time": "2022-03-08T18:20:16.695Z"
    }
   },
   "outputs": [
    {
     "data": {
      "image/png": "[encoded data removed]",
      "text/plain": [
       "<Figure size 648x864 with 4 Axes>"
      ]
     },
     "metadata": {},
     "output_type": "display_data"
    }
   ],
   "source": [
    "model.plot_components(forecast);"
   ]
  },
  {
   "cell_type": "markdown",
   "metadata": {},
   "source": [
    "## Why holidays matter\n",
    "Let's re-run our prophet model without holidays, for comparison"
   ]
  },
  {
   "cell_type": "code",
   "execution_count": 23,
   "metadata": {
    "ExecuteTime": {
     "start_time": "2022-03-08T18:20:17.660Z"
    }
   },
   "outputs": [
    {
     "name": "stderr",
     "output_type": "stream",
     "text": [
      "07:55:34 - cmdstanpy - INFO - Chain [1] start processing\n",
      "07:55:35 - cmdstanpy - INFO - Chain [1] done processing\n"
     ]
    },
    {
     "data": {
      "text/plain": [
       "<prophet.forecaster.Prophet at 0x1f88eb56df0>"
      ]
     },
     "execution_count": 23,
     "metadata": {},
     "output_type": "execute_result"
    }
   ],
   "source": [
    "model_no_holiday = Prophet()\n",
    "model_no_holiday.fit(sales_df)"
   ]
  },
  {
   "cell_type": "code",
   "execution_count": 24,
   "metadata": {
    "ExecuteTime": {
     "start_time": "2022-03-08T18:20:17.939Z"
    }
   },
   "outputs": [
    {
     "data": {
      "text/html": [
       "<div>\n",
       "<style scoped>\n",
       "    .dataframe tbody tr th:only-of-type {\n",
       "        vertical-align: middle;\n",
       "    }\n",
       "\n",
       "    .dataframe tbody tr th {\n",
       "        vertical-align: top;\n",
       "    }\n",
       "\n",
       "    .dataframe thead th {\n",
       "        text-align: right;\n",
       "    }\n",
       "</style>\n",
       "<table border=\"1\" class=\"dataframe\">\n",
       "  <thead>\n",
       "    <tr style=\"text-align: right;\">\n",
       "      <th></th>\n",
       "      <th>ds</th>\n",
       "    </tr>\n",
       "  </thead>\n",
       "  <tbody>\n",
       "    <tr>\n",
       "      <th>91</th>\n",
       "      <td>2017-04-30</td>\n",
       "    </tr>\n",
       "    <tr>\n",
       "      <th>92</th>\n",
       "      <td>2017-05-31</td>\n",
       "    </tr>\n",
       "    <tr>\n",
       "      <th>93</th>\n",
       "      <td>2017-06-30</td>\n",
       "    </tr>\n",
       "    <tr>\n",
       "      <th>94</th>\n",
       "      <td>2017-07-31</td>\n",
       "    </tr>\n",
       "    <tr>\n",
       "      <th>95</th>\n",
       "      <td>2017-08-31</td>\n",
       "    </tr>\n",
       "  </tbody>\n",
       "</table>\n",
       "</div>"
      ],
      "text/plain": [
       "           ds\n",
       "91 2017-04-30\n",
       "92 2017-05-31\n",
       "93 2017-06-30\n",
       "94 2017-07-31\n",
       "95 2017-08-31"
      ]
     },
     "execution_count": 24,
     "metadata": {},
     "output_type": "execute_result"
    }
   ],
   "source": [
    "future_no_holiday = model_no_holiday.make_future_dataframe(periods=24, freq = 'm')\n",
    "future_no_holiday.tail()"
   ]
  },
  {
   "cell_type": "code",
   "execution_count": 25,
   "metadata": {
    "ExecuteTime": {
     "start_time": "2022-03-08T18:20:18.207Z"
    }
   },
   "outputs": [],
   "source": [
    "forecast_no_holiday = model_no_holiday.predict(future)"
   ]
  },
  {
   "cell_type": "markdown",
   "metadata": {},
   "source": [
    "There probably won't be a massive difference, given the small amount of data with which we're working on this example. But with greater data comes greater variance..."
   ]
  },
  {
   "cell_type": "code",
   "execution_count": 26,
   "metadata": {
    "ExecuteTime": {
     "end_time": "2021-09-30T22:23:18.125491Z",
     "start_time": "2021-09-30T22:23:18.116534Z"
    }
   },
   "outputs": [],
   "source": [
    "#join the dataframes\n",
    "forecast.set_index('ds', inplace=True)\n",
    "forecast_no_holiday.set_index('ds', inplace=True)\n",
    "compared_df = forecast.join(forecast_no_holiday, rsuffix=\"_no_holiday\")"
   ]
  },
  {
   "cell_type": "code",
   "execution_count": 27,
   "metadata": {
    "ExecuteTime": {
     "end_time": "2021-09-30T22:23:24.635568Z",
     "start_time": "2021-09-30T22:23:24.625870Z"
    }
   },
   "outputs": [
    {
     "data": {
      "text/html": [
       "<div>\n",
       "<style scoped>\n",
       "    .dataframe tbody tr th:only-of-type {\n",
       "        vertical-align: middle;\n",
       "    }\n",
       "\n",
       "    .dataframe tbody tr th {\n",
       "        vertical-align: top;\n",
       "    }\n",
       "\n",
       "    .dataframe thead th {\n",
       "        text-align: right;\n",
       "    }\n",
       "</style>\n",
       "<table border=\"1\" class=\"dataframe\">\n",
       "  <thead>\n",
       "    <tr style=\"text-align: right;\">\n",
       "      <th></th>\n",
       "      <th>yhat</th>\n",
       "      <th>yhat_no_holiday</th>\n",
       "    </tr>\n",
       "    <tr>\n",
       "      <th>ds</th>\n",
       "      <th></th>\n",
       "      <th></th>\n",
       "    </tr>\n",
       "  </thead>\n",
       "  <tbody>\n",
       "    <tr>\n",
       "      <th>2009-10-01</th>\n",
       "      <td>335161.251133</td>\n",
       "      <td>335989.177337</td>\n",
       "    </tr>\n",
       "    <tr>\n",
       "      <th>2009-11-01</th>\n",
       "      <td>344356.245122</td>\n",
       "      <td>343393.062411</td>\n",
       "    </tr>\n",
       "    <tr>\n",
       "      <th>2009-12-01</th>\n",
       "      <td>400008.122747</td>\n",
       "      <td>400488.295924</td>\n",
       "    </tr>\n",
       "    <tr>\n",
       "      <th>2010-01-01</th>\n",
       "      <td>311638.451255</td>\n",
       "      <td>310178.396738</td>\n",
       "    </tr>\n",
       "    <tr>\n",
       "      <th>2010-02-01</th>\n",
       "      <td>310654.777137</td>\n",
       "      <td>308344.494159</td>\n",
       "    </tr>\n",
       "  </tbody>\n",
       "</table>\n",
       "</div>"
      ],
      "text/plain": [
       "                     yhat  yhat_no_holiday\n",
       "ds                                        \n",
       "2009-10-01  335161.251133    335989.177337\n",
       "2009-11-01  344356.245122    343393.062411\n",
       "2009-12-01  400008.122747    400488.295924\n",
       "2010-01-01  311638.451255    310178.396738\n",
       "2010-02-01  310654.777137    308344.494159"
      ]
     },
     "execution_count": 27,
     "metadata": {},
     "output_type": "execute_result"
    }
   ],
   "source": [
    "#we're only interested in the predictions, and let's move back to the original scale\n",
    "compared_df = compared_df[['yhat', 'yhat_no_holiday']]\n",
    "compared_df.head()"
   ]
  },
  {
   "cell_type": "code",
   "execution_count": 28,
   "metadata": {
    "ExecuteTime": {
     "end_time": "2021-09-30T22:23:27.011274Z",
     "start_time": "2021-09-30T22:23:26.997767Z"
    }
   },
   "outputs": [
    {
     "name": "stdout",
     "output_type": "stream",
     "text": [
      "difference:  8.37 %\n"
     ]
    }
   ],
   "source": [
    "# Create a feature that is the percentage difference between holiday vs. none\n",
    "compared_df['diff_per'] = 100 * (compared_df['yhat'] - compared_df['yhat_no_holiday']) / compared_df['yhat_no_holiday']\n",
    "print(\"difference: \", round(compared_df.diff_per.mean(), 2), \"%\")"
   ]
  },
  {
   "cell_type": "markdown",
   "metadata": {},
   "source": [
    "This is a 8.37% difference which can be a huge amount of money left on the table if your business is a global enterprise!"
   ]
  },
  {
   "cell_type": "markdown",
   "metadata": {},
   "source": [
    "# Prophet for Market prediction - lab time!\n",
    "Prophet can detect changepoints in timeseries data, and we can often use it to our advantage. Let's grab FRED economic data and see how this goes."
   ]
  },
  {
   "cell_type": "code",
   "execution_count": 29,
   "metadata": {
    "ExecuteTime": {
     "end_time": "2021-09-29T16:46:23.879161Z",
     "start_time": "2021-09-29T16:46:23.844827Z"
    }
   },
   "outputs": [
    {
     "data": {
      "text/html": [
       "<div>\n",
       "<style scoped>\n",
       "    .dataframe tbody tr th:only-of-type {\n",
       "        vertical-align: middle;\n",
       "    }\n",
       "\n",
       "    .dataframe tbody tr th {\n",
       "        vertical-align: top;\n",
       "    }\n",
       "\n",
       "    .dataframe thead th {\n",
       "        text-align: right;\n",
       "    }\n",
       "</style>\n",
       "<table border=\"1\" class=\"dataframe\">\n",
       "  <thead>\n",
       "    <tr style=\"text-align: right;\">\n",
       "      <th></th>\n",
       "      <th>DATE</th>\n",
       "      <th>SP500</th>\n",
       "    </tr>\n",
       "  </thead>\n",
       "  <tbody>\n",
       "    <tr>\n",
       "      <th>2342</th>\n",
       "      <td>2022-12-26</td>\n",
       "      <td>.</td>\n",
       "    </tr>\n",
       "    <tr>\n",
       "      <th>2343</th>\n",
       "      <td>2022-12-27</td>\n",
       "      <td>3829.25</td>\n",
       "    </tr>\n",
       "    <tr>\n",
       "      <th>2344</th>\n",
       "      <td>2022-12-28</td>\n",
       "      <td>3783.22</td>\n",
       "    </tr>\n",
       "    <tr>\n",
       "      <th>2345</th>\n",
       "      <td>2022-12-29</td>\n",
       "      <td>3849.28</td>\n",
       "    </tr>\n",
       "    <tr>\n",
       "      <th>2346</th>\n",
       "      <td>2022-12-30</td>\n",
       "      <td>3839.5</td>\n",
       "    </tr>\n",
       "  </tbody>\n",
       "</table>\n",
       "</div>"
      ],
      "text/plain": [
       "            DATE    SP500\n",
       "2342  2022-12-26        .\n",
       "2343  2022-12-27  3829.25\n",
       "2344  2022-12-28  3783.22\n",
       "2345  2022-12-29  3849.28\n",
       "2346  2022-12-30   3839.5"
      ]
     },
     "execution_count": 29,
     "metadata": {},
     "output_type": "execute_result"
    }
   ],
   "source": [
    "#Download 01/2014 - 1/2023 current S&P500 data at https://fred.stlouisfed.org/series/SP500 and import it into pandas\n",
    "market_df = pd.read_csv('./data/SP500.csv')\n",
    "market_df.tail()"
   ]
  },
  {
   "cell_type": "code",
   "execution_count": 30,
   "metadata": {},
   "outputs": [
    {
     "data": {
      "text/plain": [
       "'.'"
      ]
     },
     "execution_count": 30,
     "metadata": {},
     "output_type": "execute_result"
    }
   ],
   "source": [
    "# There is a data issue that we need to work with\n",
    "market_df['SP500'].iloc[2342]"
   ]
  },
  {
   "cell_type": "code",
   "execution_count": 31,
   "metadata": {},
   "outputs": [
    {
     "data": {
      "text/html": [
       "<div>\n",
       "<style scoped>\n",
       "    .dataframe tbody tr th:only-of-type {\n",
       "        vertical-align: middle;\n",
       "    }\n",
       "\n",
       "    .dataframe tbody tr th {\n",
       "        vertical-align: top;\n",
       "    }\n",
       "\n",
       "    .dataframe thead th {\n",
       "        text-align: right;\n",
       "    }\n",
       "</style>\n",
       "<table border=\"1\" class=\"dataframe\">\n",
       "  <thead>\n",
       "    <tr style=\"text-align: right;\">\n",
       "      <th></th>\n",
       "      <th>DATE</th>\n",
       "      <th>SP500</th>\n",
       "    </tr>\n",
       "  </thead>\n",
       "  <tbody>\n",
       "    <tr>\n",
       "      <th>12</th>\n",
       "      <td>2014-01-20</td>\n",
       "      <td>.</td>\n",
       "    </tr>\n",
       "    <tr>\n",
       "      <th>32</th>\n",
       "      <td>2014-02-17</td>\n",
       "      <td>.</td>\n",
       "    </tr>\n",
       "    <tr>\n",
       "      <th>76</th>\n",
       "      <td>2014-04-18</td>\n",
       "      <td>.</td>\n",
       "    </tr>\n",
       "    <tr>\n",
       "      <th>102</th>\n",
       "      <td>2014-05-26</td>\n",
       "      <td>.</td>\n",
       "    </tr>\n",
       "    <tr>\n",
       "      <th>131</th>\n",
       "      <td>2014-07-04</td>\n",
       "      <td>.</td>\n",
       "    </tr>\n",
       "    <tr>\n",
       "      <th>...</th>\n",
       "      <td>...</td>\n",
       "      <td>...</td>\n",
       "    </tr>\n",
       "    <tr>\n",
       "      <th>2207</th>\n",
       "      <td>2022-06-20</td>\n",
       "      <td>.</td>\n",
       "    </tr>\n",
       "    <tr>\n",
       "      <th>2217</th>\n",
       "      <td>2022-07-04</td>\n",
       "      <td>.</td>\n",
       "    </tr>\n",
       "    <tr>\n",
       "      <th>2262</th>\n",
       "      <td>2022-09-05</td>\n",
       "      <td>.</td>\n",
       "    </tr>\n",
       "    <tr>\n",
       "      <th>2320</th>\n",
       "      <td>2022-11-24</td>\n",
       "      <td>.</td>\n",
       "    </tr>\n",
       "    <tr>\n",
       "      <th>2342</th>\n",
       "      <td>2022-12-26</td>\n",
       "      <td>.</td>\n",
       "    </tr>\n",
       "  </tbody>\n",
       "</table>\n",
       "<p>81 rows × 2 columns</p>\n",
       "</div>"
      ],
      "text/plain": [
       "            DATE SP500\n",
       "12    2014-01-20     .\n",
       "32    2014-02-17     .\n",
       "76    2014-04-18     .\n",
       "102   2014-05-26     .\n",
       "131   2014-07-04     .\n",
       "...          ...   ...\n",
       "2207  2022-06-20     .\n",
       "2217  2022-07-04     .\n",
       "2262  2022-09-05     .\n",
       "2320  2022-11-24     .\n",
       "2342  2022-12-26     .\n",
       "\n",
       "[81 rows x 2 columns]"
      ]
     },
     "execution_count": 31,
     "metadata": {},
     "output_type": "execute_result"
    }
   ],
   "source": [
    "# How many rows have the issue\n",
    "market_df[market_df['SP500'] == '.']"
   ]
  },
  {
   "cell_type": "code",
   "execution_count": 32,
   "metadata": {},
   "outputs": [
    {
     "data": {
      "text/html": [
       "<div>\n",
       "<style scoped>\n",
       "    .dataframe tbody tr th:only-of-type {\n",
       "        vertical-align: middle;\n",
       "    }\n",
       "\n",
       "    .dataframe tbody tr th {\n",
       "        vertical-align: top;\n",
       "    }\n",
       "\n",
       "    .dataframe thead th {\n",
       "        text-align: right;\n",
       "    }\n",
       "</style>\n",
       "<table border=\"1\" class=\"dataframe\">\n",
       "  <thead>\n",
       "    <tr style=\"text-align: right;\">\n",
       "      <th></th>\n",
       "      <th>DATE</th>\n",
       "      <th>SP500</th>\n",
       "    </tr>\n",
       "  </thead>\n",
       "  <tbody>\n",
       "  </tbody>\n",
       "</table>\n",
       "</div>"
      ],
      "text/plain": [
       "Empty DataFrame\n",
       "Columns: [DATE, SP500]\n",
       "Index: []"
      ]
     },
     "execution_count": 32,
     "metadata": {},
     "output_type": "execute_result"
    }
   ],
   "source": [
    "#Let's fix the issue by make a list of index with '.'\n",
    "data_issues = market_df[market_df['SP500'] == '.'].index.to_list()\n",
    "\n",
    "# replace '.' with SP500 from the day before (index - 1)\n",
    "for ind in data_issues:\n",
    "    market_df['SP500'].iloc[ind] =market_df['SP500'].iloc[ind - 1]\n",
    "\n",
    "# Check the correction was made\n",
    "market_df[market_df['SP500'] == '.']"
   ]
  },
  {
   "cell_type": "code",
   "execution_count": 33,
   "metadata": {},
   "outputs": [
    {
     "data": {
      "text/html": [
       "<div>\n",
       "<style scoped>\n",
       "    .dataframe tbody tr th:only-of-type {\n",
       "        vertical-align: middle;\n",
       "    }\n",
       "\n",
       "    .dataframe tbody tr th {\n",
       "        vertical-align: top;\n",
       "    }\n",
       "\n",
       "    .dataframe thead th {\n",
       "        text-align: right;\n",
       "    }\n",
       "</style>\n",
       "<table border=\"1\" class=\"dataframe\">\n",
       "  <thead>\n",
       "    <tr style=\"text-align: right;\">\n",
       "      <th></th>\n",
       "      <th>ds</th>\n",
       "      <th>y</th>\n",
       "    </tr>\n",
       "  </thead>\n",
       "  <tbody>\n",
       "    <tr>\n",
       "      <th>0</th>\n",
       "      <td>2014-01-02</td>\n",
       "      <td>1831.98</td>\n",
       "    </tr>\n",
       "    <tr>\n",
       "      <th>1</th>\n",
       "      <td>2014-01-03</td>\n",
       "      <td>1831.37</td>\n",
       "    </tr>\n",
       "    <tr>\n",
       "      <th>2</th>\n",
       "      <td>2014-01-06</td>\n",
       "      <td>1826.77</td>\n",
       "    </tr>\n",
       "    <tr>\n",
       "      <th>3</th>\n",
       "      <td>2014-01-07</td>\n",
       "      <td>1837.88</td>\n",
       "    </tr>\n",
       "    <tr>\n",
       "      <th>4</th>\n",
       "      <td>2014-01-08</td>\n",
       "      <td>1837.49</td>\n",
       "    </tr>\n",
       "  </tbody>\n",
       "</table>\n",
       "</div>"
      ],
      "text/plain": [
       "           ds        y\n",
       "0  2014-01-02  1831.98\n",
       "1  2014-01-03  1831.37\n",
       "2  2014-01-06  1826.77\n",
       "3  2014-01-07  1837.88\n",
       "4  2014-01-08  1837.49"
      ]
     },
     "execution_count": 33,
     "metadata": {},
     "output_type": "execute_result"
    }
   ],
   "source": [
    "#Now prepare your data for prophet. Hint: prophet needs \"ds\" and \"y\"\n",
    "market_df['SP500'] = market_df['SP500'].astype(float)\n",
    "\n",
    "market_df.rename(columns={'DATE':'ds', 'SP500':'y'}, inplace = True)\n",
    "market_df.head()\n"
   ]
  },
  {
   "cell_type": "code",
   "execution_count": 34,
   "metadata": {},
   "outputs": [
    {
     "data": {
      "image/png": "[encoded data removed]",
      "text/plain": [
       "<Figure size 1440x720 with 1 Axes>"
      ]
     },
     "metadata": {},
     "output_type": "display_data"
    }
   ],
   "source": [
    "# Look at a plot of  the data\n",
    "market_df.set_index('ds').y.plot();"
   ]
  },
  {
   "cell_type": "markdown",
   "metadata": {},
   "source": [
    ">Notice the dip due to COVID from 2020-02-17 through 2020-06-17. Use the following code to create a non-recurring holiday due to covid.  Since the dip due to covid only occurs during 2020, we don't want the model to learn the pattern from the data. This code will tell the model that the dip only occurs on the dates that are specified."
   ]
  },
  {
   "cell_type": "code",
   "execution_count": 35,
   "metadata": {},
   "outputs": [
    {
     "data": {
      "text/html": [
       "<div>\n",
       "<style scoped>\n",
       "    .dataframe tbody tr th:only-of-type {\n",
       "        vertical-align: middle;\n",
       "    }\n",
       "\n",
       "    .dataframe tbody tr th {\n",
       "        vertical-align: top;\n",
       "    }\n",
       "\n",
       "    .dataframe thead th {\n",
       "        text-align: right;\n",
       "    }\n",
       "</style>\n",
       "<table border=\"1\" class=\"dataframe\">\n",
       "  <thead>\n",
       "    <tr style=\"text-align: right;\">\n",
       "      <th></th>\n",
       "      <th>holiday</th>\n",
       "      <th>ds</th>\n",
       "      <th>lower_window</th>\n",
       "      <th>upper_window</th>\n",
       "    </tr>\n",
       "  </thead>\n",
       "  <tbody>\n",
       "    <tr>\n",
       "      <th>0</th>\n",
       "      <td>covid</td>\n",
       "      <td>2020-02-17</td>\n",
       "      <td>0</td>\n",
       "      <td>0</td>\n",
       "    </tr>\n",
       "    <tr>\n",
       "      <th>1</th>\n",
       "      <td>covid</td>\n",
       "      <td>2020-02-18</td>\n",
       "      <td>0</td>\n",
       "      <td>0</td>\n",
       "    </tr>\n",
       "    <tr>\n",
       "      <th>2</th>\n",
       "      <td>covid</td>\n",
       "      <td>2020-02-19</td>\n",
       "      <td>0</td>\n",
       "      <td>0</td>\n",
       "    </tr>\n",
       "    <tr>\n",
       "      <th>3</th>\n",
       "      <td>covid</td>\n",
       "      <td>2020-02-20</td>\n",
       "      <td>0</td>\n",
       "      <td>0</td>\n",
       "    </tr>\n",
       "    <tr>\n",
       "      <th>4</th>\n",
       "      <td>covid</td>\n",
       "      <td>2020-02-21</td>\n",
       "      <td>0</td>\n",
       "      <td>0</td>\n",
       "    </tr>\n",
       "    <tr>\n",
       "      <th>...</th>\n",
       "      <td>...</td>\n",
       "      <td>...</td>\n",
       "      <td>...</td>\n",
       "      <td>...</td>\n",
       "    </tr>\n",
       "    <tr>\n",
       "      <th>117</th>\n",
       "      <td>covid</td>\n",
       "      <td>2020-06-13</td>\n",
       "      <td>0</td>\n",
       "      <td>0</td>\n",
       "    </tr>\n",
       "    <tr>\n",
       "      <th>118</th>\n",
       "      <td>covid</td>\n",
       "      <td>2020-06-14</td>\n",
       "      <td>0</td>\n",
       "      <td>0</td>\n",
       "    </tr>\n",
       "    <tr>\n",
       "      <th>119</th>\n",
       "      <td>covid</td>\n",
       "      <td>2020-06-15</td>\n",
       "      <td>0</td>\n",
       "      <td>0</td>\n",
       "    </tr>\n",
       "    <tr>\n",
       "      <th>120</th>\n",
       "      <td>covid</td>\n",
       "      <td>2020-06-16</td>\n",
       "      <td>0</td>\n",
       "      <td>0</td>\n",
       "    </tr>\n",
       "    <tr>\n",
       "      <th>121</th>\n",
       "      <td>covid</td>\n",
       "      <td>2020-06-17</td>\n",
       "      <td>0</td>\n",
       "      <td>0</td>\n",
       "    </tr>\n",
       "  </tbody>\n",
       "</table>\n",
       "<p>122 rows × 4 columns</p>\n",
       "</div>"
      ],
      "text/plain": [
       "    holiday         ds  lower_window  upper_window\n",
       "0     covid 2020-02-17             0             0\n",
       "1     covid 2020-02-18             0             0\n",
       "2     covid 2020-02-19             0             0\n",
       "3     covid 2020-02-20             0             0\n",
       "4     covid 2020-02-21             0             0\n",
       "..      ...        ...           ...           ...\n",
       "117   covid 2020-06-13             0             0\n",
       "118   covid 2020-06-14             0             0\n",
       "119   covid 2020-06-15             0             0\n",
       "120   covid 2020-06-16             0             0\n",
       "121   covid 2020-06-17             0             0\n",
       "\n",
       "[122 rows x 4 columns]"
      ]
     },
     "execution_count": 35,
     "metadata": {},
     "output_type": "execute_result"
    }
   ],
   "source": [
    "from datetime import datetime\n",
    "covid_dates = pd.date_range(start='2020-02-17',end='2020-06-17').strftime('%Y-%m-%d').tolist()\n",
    "\n",
    "# Build the covid dataframe\n",
    "covid = pd.DataFrame({\n",
    "  'holiday': 'covid',\n",
    "  'ds': pd.to_datetime(covid_dates),\n",
    "  'lower_window': 0,\n",
    "  'upper_window': 0,\n",
    "})\n",
    "\n",
    "covid"
   ]
  },
  {
   "cell_type": "code",
   "execution_count": 36,
   "metadata": {},
   "outputs": [
    {
     "name": "stderr",
     "output_type": "stream",
     "text": [
      "07:55:36 - cmdstanpy - INFO - Chain [1] start processing\n",
      "07:55:37 - cmdstanpy - INFO - Chain [1] done processing\n"
     ]
    },
    {
     "data": {
      "text/plain": [
       "<prophet.forecaster.Prophet at 0x1f88e748460>"
      ]
     },
     "execution_count": 36,
     "metadata": {},
     "output_type": "execute_result"
    }
   ],
   "source": [
    "#Instantiate the model, and fit our data\n",
    "model = Prophet(holidays = covid)\n",
    "\n",
    "# Fit the model\n",
    "model.fit(market_df)"
   ]
  },
  {
   "cell_type": "code",
   "execution_count": 37,
   "metadata": {},
   "outputs": [
    {
     "data": {
      "text/html": [
       "<div>\n",
       "<style scoped>\n",
       "    .dataframe tbody tr th:only-of-type {\n",
       "        vertical-align: middle;\n",
       "    }\n",
       "\n",
       "    .dataframe tbody tr th {\n",
       "        vertical-align: top;\n",
       "    }\n",
       "\n",
       "    .dataframe thead th {\n",
       "        text-align: right;\n",
       "    }\n",
       "</style>\n",
       "<table border=\"1\" class=\"dataframe\">\n",
       "  <thead>\n",
       "    <tr style=\"text-align: right;\">\n",
       "      <th></th>\n",
       "      <th>0</th>\n",
       "      <th>1</th>\n",
       "      <th>2</th>\n",
       "      <th>3</th>\n",
       "      <th>4</th>\n",
       "    </tr>\n",
       "  </thead>\n",
       "  <tbody>\n",
       "    <tr>\n",
       "      <th>ds</th>\n",
       "      <td>2014-01-02 00:00:00</td>\n",
       "      <td>2014-01-03 00:00:00</td>\n",
       "      <td>2014-01-06 00:00:00</td>\n",
       "      <td>2014-01-07 00:00:00</td>\n",
       "      <td>2014-01-08 00:00:00</td>\n",
       "    </tr>\n",
       "    <tr>\n",
       "      <th>trend</th>\n",
       "      <td>1824.218106</td>\n",
       "      <td>1824.818533</td>\n",
       "      <td>1826.619816</td>\n",
       "      <td>1827.220243</td>\n",
       "      <td>1827.82067</td>\n",
       "    </tr>\n",
       "    <tr>\n",
       "      <th>yhat_lower</th>\n",
       "      <td>1668.783733</td>\n",
       "      <td>1670.467753</td>\n",
       "      <td>1681.91911</td>\n",
       "      <td>1703.024404</td>\n",
       "      <td>1696.02283</td>\n",
       "    </tr>\n",
       "    <tr>\n",
       "      <th>yhat_upper</th>\n",
       "      <td>2037.70248</td>\n",
       "      <td>2040.945559</td>\n",
       "      <td>2071.864863</td>\n",
       "      <td>2064.647004</td>\n",
       "      <td>2052.519234</td>\n",
       "    </tr>\n",
       "    <tr>\n",
       "      <th>trend_lower</th>\n",
       "      <td>1824.218106</td>\n",
       "      <td>1824.818533</td>\n",
       "      <td>1826.619816</td>\n",
       "      <td>1827.220243</td>\n",
       "      <td>1827.82067</td>\n",
       "    </tr>\n",
       "    <tr>\n",
       "      <th>trend_upper</th>\n",
       "      <td>1824.218106</td>\n",
       "      <td>1824.818533</td>\n",
       "      <td>1826.619816</td>\n",
       "      <td>1827.220243</td>\n",
       "      <td>1827.82067</td>\n",
       "    </tr>\n",
       "    <tr>\n",
       "      <th>additive_terms</th>\n",
       "      <td>35.896763</td>\n",
       "      <td>37.971283</td>\n",
       "      <td>41.659952</td>\n",
       "      <td>43.418434</td>\n",
       "      <td>45.430429</td>\n",
       "    </tr>\n",
       "    <tr>\n",
       "      <th>additive_terms_lower</th>\n",
       "      <td>35.896763</td>\n",
       "      <td>37.971283</td>\n",
       "      <td>41.659952</td>\n",
       "      <td>43.418434</td>\n",
       "      <td>45.430429</td>\n",
       "    </tr>\n",
       "    <tr>\n",
       "      <th>additive_terms_upper</th>\n",
       "      <td>35.896763</td>\n",
       "      <td>37.971283</td>\n",
       "      <td>41.659952</td>\n",
       "      <td>43.418434</td>\n",
       "      <td>45.430429</td>\n",
       "    </tr>\n",
       "    <tr>\n",
       "      <th>covid</th>\n",
       "      <td>0.0</td>\n",
       "      <td>0.0</td>\n",
       "      <td>0.0</td>\n",
       "      <td>0.0</td>\n",
       "      <td>0.0</td>\n",
       "    </tr>\n",
       "    <tr>\n",
       "      <th>covid_lower</th>\n",
       "      <td>0.0</td>\n",
       "      <td>0.0</td>\n",
       "      <td>0.0</td>\n",
       "      <td>0.0</td>\n",
       "      <td>0.0</td>\n",
       "    </tr>\n",
       "    <tr>\n",
       "      <th>covid_upper</th>\n",
       "      <td>0.0</td>\n",
       "      <td>0.0</td>\n",
       "      <td>0.0</td>\n",
       "      <td>0.0</td>\n",
       "      <td>0.0</td>\n",
       "    </tr>\n",
       "    <tr>\n",
       "      <th>holidays</th>\n",
       "      <td>0.0</td>\n",
       "      <td>0.0</td>\n",
       "      <td>0.0</td>\n",
       "      <td>0.0</td>\n",
       "      <td>0.0</td>\n",
       "    </tr>\n",
       "    <tr>\n",
       "      <th>holidays_lower</th>\n",
       "      <td>0.0</td>\n",
       "      <td>0.0</td>\n",
       "      <td>0.0</td>\n",
       "      <td>0.0</td>\n",
       "      <td>0.0</td>\n",
       "    </tr>\n",
       "    <tr>\n",
       "      <th>holidays_upper</th>\n",
       "      <td>0.0</td>\n",
       "      <td>0.0</td>\n",
       "      <td>0.0</td>\n",
       "      <td>0.0</td>\n",
       "      <td>0.0</td>\n",
       "    </tr>\n",
       "    <tr>\n",
       "      <th>weekly</th>\n",
       "      <td>1.138678</td>\n",
       "      <td>1.054425</td>\n",
       "      <td>0.023505</td>\n",
       "      <td>0.963509</td>\n",
       "      <td>2.597322</td>\n",
       "    </tr>\n",
       "    <tr>\n",
       "      <th>weekly_lower</th>\n",
       "      <td>1.138678</td>\n",
       "      <td>1.054425</td>\n",
       "      <td>0.023505</td>\n",
       "      <td>0.963509</td>\n",
       "      <td>2.597322</td>\n",
       "    </tr>\n",
       "    <tr>\n",
       "      <th>weekly_upper</th>\n",
       "      <td>1.138678</td>\n",
       "      <td>1.054425</td>\n",
       "      <td>0.023505</td>\n",
       "      <td>0.963509</td>\n",
       "      <td>2.597322</td>\n",
       "    </tr>\n",
       "    <tr>\n",
       "      <th>yearly</th>\n",
       "      <td>34.758085</td>\n",
       "      <td>36.916858</td>\n",
       "      <td>41.636447</td>\n",
       "      <td>42.454925</td>\n",
       "      <td>42.833108</td>\n",
       "    </tr>\n",
       "    <tr>\n",
       "      <th>yearly_lower</th>\n",
       "      <td>34.758085</td>\n",
       "      <td>36.916858</td>\n",
       "      <td>41.636447</td>\n",
       "      <td>42.454925</td>\n",
       "      <td>42.833108</td>\n",
       "    </tr>\n",
       "    <tr>\n",
       "      <th>yearly_upper</th>\n",
       "      <td>34.758085</td>\n",
       "      <td>36.916858</td>\n",
       "      <td>41.636447</td>\n",
       "      <td>42.454925</td>\n",
       "      <td>42.833108</td>\n",
       "    </tr>\n",
       "    <tr>\n",
       "      <th>multiplicative_terms</th>\n",
       "      <td>0.0</td>\n",
       "      <td>0.0</td>\n",
       "      <td>0.0</td>\n",
       "      <td>0.0</td>\n",
       "      <td>0.0</td>\n",
       "    </tr>\n",
       "    <tr>\n",
       "      <th>multiplicative_terms_lower</th>\n",
       "      <td>0.0</td>\n",
       "      <td>0.0</td>\n",
       "      <td>0.0</td>\n",
       "      <td>0.0</td>\n",
       "      <td>0.0</td>\n",
       "    </tr>\n",
       "    <tr>\n",
       "      <th>multiplicative_terms_upper</th>\n",
       "      <td>0.0</td>\n",
       "      <td>0.0</td>\n",
       "      <td>0.0</td>\n",
       "      <td>0.0</td>\n",
       "      <td>0.0</td>\n",
       "    </tr>\n",
       "    <tr>\n",
       "      <th>yhat</th>\n",
       "      <td>1860.114869</td>\n",
       "      <td>1862.789816</td>\n",
       "      <td>1868.279767</td>\n",
       "      <td>1870.638676</td>\n",
       "      <td>1873.251099</td>\n",
       "    </tr>\n",
       "  </tbody>\n",
       "</table>\n",
       "</div>"
      ],
      "text/plain": [
       "                                              0                    1  \\\n",
       "ds                          2014-01-02 00:00:00  2014-01-03 00:00:00   \n",
       "trend                               1824.218106          1824.818533   \n",
       "yhat_lower                          1668.783733          1670.467753   \n",
       "yhat_upper                           2037.70248          2040.945559   \n",
       "trend_lower                         1824.218106          1824.818533   \n",
       "trend_upper                         1824.218106          1824.818533   \n",
       "additive_terms                        35.896763            37.971283   \n",
       "additive_terms_lower                  35.896763            37.971283   \n",
       "additive_terms_upper                  35.896763            37.971283   \n",
       "covid                                       0.0                  0.0   \n",
       "covid_lower                                 0.0                  0.0   \n",
       "covid_upper                                 0.0                  0.0   \n",
       "holidays                                    0.0                  0.0   \n",
       "holidays_lower                              0.0                  0.0   \n",
       "holidays_upper                              0.0                  0.0   \n",
       "weekly                                 1.138678             1.054425   \n",
       "weekly_lower                           1.138678             1.054425   \n",
       "weekly_upper                           1.138678             1.054425   \n",
       "yearly                                34.758085            36.916858   \n",
       "yearly_lower                          34.758085            36.916858   \n",
       "yearly_upper                          34.758085            36.916858   \n",
       "multiplicative_terms                        0.0                  0.0   \n",
       "multiplicative_terms_lower                  0.0                  0.0   \n",
       "multiplicative_terms_upper                  0.0                  0.0   \n",
       "yhat                                1860.114869          1862.789816   \n",
       "\n",
       "                                              2                    3  \\\n",
       "ds                          2014-01-06 00:00:00  2014-01-07 00:00:00   \n",
       "trend                               1826.619816          1827.220243   \n",
       "yhat_lower                           1681.91911          1703.024404   \n",
       "yhat_upper                          2071.864863          2064.647004   \n",
       "trend_lower                         1826.619816          1827.220243   \n",
       "trend_upper                         1826.619816          1827.220243   \n",
       "additive_terms                        41.659952            43.418434   \n",
       "additive_terms_lower                  41.659952            43.418434   \n",
       "additive_terms_upper                  41.659952            43.418434   \n",
       "covid                                       0.0                  0.0   \n",
       "covid_lower                                 0.0                  0.0   \n",
       "covid_upper                                 0.0                  0.0   \n",
       "holidays                                    0.0                  0.0   \n",
       "holidays_lower                              0.0                  0.0   \n",
       "holidays_upper                              0.0                  0.0   \n",
       "weekly                                 0.023505             0.963509   \n",
       "weekly_lower                           0.023505             0.963509   \n",
       "weekly_upper                           0.023505             0.963509   \n",
       "yearly                                41.636447            42.454925   \n",
       "yearly_lower                          41.636447            42.454925   \n",
       "yearly_upper                          41.636447            42.454925   \n",
       "multiplicative_terms                        0.0                  0.0   \n",
       "multiplicative_terms_lower                  0.0                  0.0   \n",
       "multiplicative_terms_upper                  0.0                  0.0   \n",
       "yhat                                1868.279767          1870.638676   \n",
       "\n",
       "                                              4  \n",
       "ds                          2014-01-08 00:00:00  \n",
       "trend                                1827.82067  \n",
       "yhat_lower                           1696.02283  \n",
       "yhat_upper                          2052.519234  \n",
       "trend_lower                          1827.82067  \n",
       "trend_upper                          1827.82067  \n",
       "additive_terms                        45.430429  \n",
       "additive_terms_lower                  45.430429  \n",
       "additive_terms_upper                  45.430429  \n",
       "covid                                       0.0  \n",
       "covid_lower                                 0.0  \n",
       "covid_upper                                 0.0  \n",
       "holidays                                    0.0  \n",
       "holidays_lower                              0.0  \n",
       "holidays_upper                              0.0  \n",
       "weekly                                 2.597322  \n",
       "weekly_lower                           2.597322  \n",
       "weekly_upper                           2.597322  \n",
       "yearly                                42.833108  \n",
       "yearly_lower                          42.833108  \n",
       "yearly_upper                          42.833108  \n",
       "multiplicative_terms                        0.0  \n",
       "multiplicative_terms_lower                  0.0  \n",
       "multiplicative_terms_upper                  0.0  \n",
       "yhat                                1873.251099  "
      ]
     },
     "execution_count": 37,
     "metadata": {},
     "output_type": "execute_result"
    }
   ],
   "source": [
    "#build the future dataframe, forecasting for 1 year from now. \n",
    "future = model.make_future_dataframe(periods = 365, freq = 'D')\n",
    "\n",
    "# Create a forecast by passing the future into model.predict()\n",
    "forecast = model.predict(future)\n",
    "\n",
    "# View the forecast\n",
    "forecast.head().T"
   ]
  },
  {
   "cell_type": "code",
   "execution_count": 38,
   "metadata": {},
   "outputs": [
    {
     "data": {
      "image/png": "[encoded data removed]",
      "text/plain": [
       "<Figure size 720x432 with 1 Axes>"
      ]
     },
     "metadata": {},
     "output_type": "display_data"
    }
   ],
   "source": [
    "#now plot it!\n",
    "model.plot(forecast);"
   ]
  },
  {
   "cell_type": "markdown",
   "metadata": {},
   "source": [
    "> Notice that dip in the actual data around March 2020 (black dots). Notice that the predicted values (blue line) does not repeat the pattern going forward in March 2021, March 2022, etc.. Remember that we told the model that the dip in March 2020 was a non recurring holiday and would not occur again."
   ]
  },
  {
   "cell_type": "code",
   "execution_count": 39,
   "metadata": {
    "tags": []
   },
   "outputs": [
    {
     "data": {
      "image/png": "[encoded data removed]",
      "text/plain": [
       "<Figure size 648x864 with 4 Axes>"
      ]
     },
     "metadata": {},
     "output_type": "display_data"
    }
   ],
   "source": [
    "# PLot the components\n",
    "model.plot_components(forecast);"
   ]
  },
  {
   "cell_type": "markdown",
   "metadata": {},
   "source": [
    "As we saw above, if you're trying to do shortterm trading then this model is useless. But if you are investing with a timeframe of months to years, this forecast might provide some value."
   ]
  },
  {
   "cell_type": "markdown",
   "metadata": {},
   "source": [
    "Our forecast does great at trending, but doesn't do well at catching the volatility of the market. This would be very good for 'riding trends', but not so good for catching peaks and dips. \n",
    "\n",
    "We can see this in the numbers as well"
   ]
  },
  {
   "cell_type": "code",
   "execution_count": 40,
   "metadata": {},
   "outputs": [
    {
     "data": {
      "text/html": [
       "<div>\n",
       "<style scoped>\n",
       "    .dataframe tbody tr th:only-of-type {\n",
       "        vertical-align: middle;\n",
       "    }\n",
       "\n",
       "    .dataframe tbody tr th {\n",
       "        vertical-align: top;\n",
       "    }\n",
       "\n",
       "    .dataframe thead th {\n",
       "        text-align: right;\n",
       "    }\n",
       "</style>\n",
       "<table border=\"1\" class=\"dataframe\">\n",
       "  <thead>\n",
       "    <tr style=\"text-align: right;\">\n",
       "      <th></th>\n",
       "      <th>ds</th>\n",
       "      <th>yhat</th>\n",
       "      <th>y</th>\n",
       "    </tr>\n",
       "  </thead>\n",
       "  <tbody>\n",
       "    <tr>\n",
       "      <th>2342</th>\n",
       "      <td>2022-12-26</td>\n",
       "      <td>4057.392664</td>\n",
       "      <td>3844.82</td>\n",
       "    </tr>\n",
       "    <tr>\n",
       "      <th>2343</th>\n",
       "      <td>2022-12-27</td>\n",
       "      <td>4059.865419</td>\n",
       "      <td>3829.25</td>\n",
       "    </tr>\n",
       "    <tr>\n",
       "      <th>2344</th>\n",
       "      <td>2022-12-28</td>\n",
       "      <td>4063.264599</td>\n",
       "      <td>3783.22</td>\n",
       "    </tr>\n",
       "    <tr>\n",
       "      <th>2345</th>\n",
       "      <td>2022-12-29</td>\n",
       "      <td>4063.742604</td>\n",
       "      <td>3849.28</td>\n",
       "    </tr>\n",
       "    <tr>\n",
       "      <th>2346</th>\n",
       "      <td>2022-12-30</td>\n",
       "      <td>4065.700163</td>\n",
       "      <td>3839.50</td>\n",
       "    </tr>\n",
       "  </tbody>\n",
       "</table>\n",
       "</div>"
      ],
      "text/plain": [
       "             ds         yhat        y\n",
       "2342 2022-12-26  4057.392664  3844.82\n",
       "2343 2022-12-27  4059.865419  3829.25\n",
       "2344 2022-12-28  4063.264599  3783.22\n",
       "2345 2022-12-29  4063.742604  3849.28\n",
       "2346 2022-12-30  4065.700163  3839.50"
      ]
     },
     "execution_count": 40,
     "metadata": {},
     "output_type": "execute_result"
    }
   ],
   "source": [
    "#To do this, we have to get the y-hat and original y's from the data\n",
    "metric_df = pd.concat([forecast[['ds','yhat']],market_df['y']], axis=1)\n",
    "\n",
    "# The tail has NaN values, because they're predictions - there was no real Y. Let's drop those for model evaluation.\n",
    "metric_df.dropna(inplace = True)\n",
    "\n",
    "# Check the NaN were dropped\n",
    "metric_df.tail()"
   ]
  },
  {
   "cell_type": "code",
   "execution_count": 41,
   "metadata": {},
   "outputs": [
    {
     "name": "stdout",
     "output_type": "stream",
     "text": [
      "R-squared:  0.9696840653652619\n"
     ]
    }
   ],
   "source": [
    "#calculate the r2\n",
    "print(\"R-squared: \", r2_score(metric_df['y'], metric_df['yhat']))"
   ]
  },
  {
   "cell_type": "code",
   "execution_count": 42,
   "metadata": {},
   "outputs": [
    {
     "name": "stdout",
     "output_type": "stream",
     "text": [
      "Mean Squared Error:  21087.31590842048\n"
     ]
    }
   ],
   "source": [
    "#MAE\n",
    "print(\"Mean Squared Error: \", mean_squared_error(metric_df['y'], metric_df['yhat']))"
   ]
  },
  {
   "cell_type": "code",
   "execution_count": 43,
   "metadata": {},
   "outputs": [
    {
     "name": "stdout",
     "output_type": "stream",
     "text": [
      "RMSE:  145.21472345606173\n"
     ]
    }
   ],
   "source": [
    "#RMSE\n",
    "print(\"RMSE: \", np.sqrt(mean_squared_error(metric_df['y'], metric_df['yhat'])))"
   ]
  },
  {
   "cell_type": "code",
   "execution_count": null,
   "metadata": {},
   "outputs": [],
   "source": []
  }
 ],
 "metadata": {
  "kernelspec": {
   "display_name": "Python 3 (ipykernel)",
   "language": "python",
   "name": "python3"
  },
  "language_info": {
   "codemirror_mode": {
    "name": "ipython",
    "version": 3
   },
   "file_extension": ".py",
   "mimetype": "text/x-python",
   "name": "python",
   "nbconvert_exporter": "python",
   "pygments_lexer": "ipython3",
   "version": "3.9.12"
  },
  "toc": {
   "base_numbering": 1,
   "nav_menu": {},
   "number_sections": false,
   "sideBar": true,
   "skip_h1_title": false,
   "title_cell": "Table of Contents",
   "title_sidebar": "Contents",
   "toc_cell": false,
   "toc_position": {},
   "toc_section_display": true,
   "toc_window_display": false
  }
 },
 "nbformat": 4,
 "nbformat_minor": 4
}

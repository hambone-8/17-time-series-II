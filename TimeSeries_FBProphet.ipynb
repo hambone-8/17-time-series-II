{
 "cells": [
  {
   "cell_type": "markdown",
   "metadata": {},
   "source": [
    "<img src=\"http://imgur.com/1ZcRyrc.png\" style=\"float: left; margin: 20px; height: 55px\">\n",
    "\n",
    "# Working With Time Series Data in FBProphet\n",
    "\n",
    "_By Steven Longstreet (Washington DC) and Bryce Peake (Washington DC)_"
   ]
  },
  {
   "cell_type": "markdown",
   "metadata": {},
   "source": [
    "### Learning Objectives\n",
    " \n",
    "**After this lesson, you will be able to:**\n",
    "- Identify time series data.\n",
    "- Explain the challenges of working with time series data.\n",
    "- Use the `datetime` library to represent dates as objects.\n",
    "- Preprocess time series data with Pandas\n",
    "- Create and visualize a Time Series model using FBProphet\n",
    "- Evaluate a Time Series model"
   ]
  },
  {
   "cell_type": "markdown",
   "metadata": {},
   "source": [
    "<h2><a id=\"A\">What is a Time Series?</a></h2>\n",
    "A **time series** is a series of data points that's indexed (or listed, or graphed) in time order. Most commonly, a time series is a sequence that's taken at successive equally spaced points in time. Time series are often represented as a set of observations that have a time-bound relation, which is represented as an index.\n",
    "\n",
    "Time series are commonly found in sales, analysis, stock market trends, economic phenomena, and social science problems.\n",
    "\n",
    "These data sets are often investigated to evaluate the long-term trends, forecast the future, or perform some other form of analysis."
   ]
  },
  {
   "cell_type": "markdown",
   "metadata": {},
   "source": [
    "### Let's take a look at some Apple stock data to get a feel for what time series data look like."
   ]
  },
  {
   "cell_type": "code",
   "execution_count": 1,
   "metadata": {
    "ExecuteTime": {
     "end_time": "2022-03-08T16:08:53.566887Z",
     "start_time": "2022-03-08T16:08:52.405354Z"
    }
   },
   "outputs": [],
   "source": [
    "import pandas as pd\n",
    "from datetime import timedelta\n",
    "%matplotlib inline"
   ]
  },
  {
   "cell_type": "code",
   "execution_count": 2,
   "metadata": {
    "ExecuteTime": {
     "end_time": "2022-03-08T16:08:53.595281Z",
     "start_time": "2022-03-08T16:08:53.569313Z"
    }
   },
   "outputs": [
    {
     "data": {
      "text/html": [
       "<div>\n",
       "<style scoped>\n",
       "    .dataframe tbody tr th:only-of-type {\n",
       "        vertical-align: middle;\n",
       "    }\n",
       "\n",
       "    .dataframe tbody tr th {\n",
       "        vertical-align: top;\n",
       "    }\n",
       "\n",
       "    .dataframe thead th {\n",
       "        text-align: right;\n",
       "    }\n",
       "</style>\n",
       "<table border=\"1\" class=\"dataframe\">\n",
       "  <thead>\n",
       "    <tr style=\"text-align: right;\">\n",
       "      <th></th>\n",
       "      <th>Date</th>\n",
       "      <th>Open</th>\n",
       "      <th>High</th>\n",
       "      <th>Low</th>\n",
       "      <th>Close</th>\n",
       "      <th>Volume</th>\n",
       "    </tr>\n",
       "  </thead>\n",
       "  <tbody>\n",
       "    <tr>\n",
       "      <th>0</th>\n",
       "      <td>13-Jan-17</td>\n",
       "      <td>119.11</td>\n",
       "      <td>119.62</td>\n",
       "      <td>118.81</td>\n",
       "      <td>119.04</td>\n",
       "      <td>26111948</td>\n",
       "    </tr>\n",
       "    <tr>\n",
       "      <th>1</th>\n",
       "      <td>12-Jan-17</td>\n",
       "      <td>118.90</td>\n",
       "      <td>119.30</td>\n",
       "      <td>118.21</td>\n",
       "      <td>119.25</td>\n",
       "      <td>27086220</td>\n",
       "    </tr>\n",
       "    <tr>\n",
       "      <th>2</th>\n",
       "      <td>11-Jan-17</td>\n",
       "      <td>118.74</td>\n",
       "      <td>119.93</td>\n",
       "      <td>118.60</td>\n",
       "      <td>119.75</td>\n",
       "      <td>27588593</td>\n",
       "    </tr>\n",
       "    <tr>\n",
       "      <th>3</th>\n",
       "      <td>10-Jan-17</td>\n",
       "      <td>118.77</td>\n",
       "      <td>119.38</td>\n",
       "      <td>118.30</td>\n",
       "      <td>119.11</td>\n",
       "      <td>24462051</td>\n",
       "    </tr>\n",
       "    <tr>\n",
       "      <th>4</th>\n",
       "      <td>9-Jan-17</td>\n",
       "      <td>117.95</td>\n",
       "      <td>119.43</td>\n",
       "      <td>117.94</td>\n",
       "      <td>118.99</td>\n",
       "      <td>33561948</td>\n",
       "    </tr>\n",
       "  </tbody>\n",
       "</table>\n",
       "</div>"
      ],
      "text/plain": [
       "        Date    Open    High     Low   Close    Volume\n",
       "0  13-Jan-17  119.11  119.62  118.81  119.04  26111948\n",
       "1  12-Jan-17  118.90  119.30  118.21  119.25  27086220\n",
       "2  11-Jan-17  118.74  119.93  118.60  119.75  27588593\n",
       "3  10-Jan-17  118.77  119.38  118.30  119.11  24462051\n",
       "4   9-Jan-17  117.95  119.43  117.94  118.99  33561948"
      ]
     },
     "execution_count": 2,
     "metadata": {},
     "output_type": "execute_result"
    }
   ],
   "source": [
    "apple_stock = pd.read_csv(\"./data/aapl.csv\")\n",
    "apple_stock.head()"
   ]
  },
  {
   "cell_type": "markdown",
   "metadata": {},
   "source": [
    "<h2><a id=\"B\">The DateTime library</a></h2>\n",
    "As time is important to time series data, we will need to interpret these data in the ways that humans interpret them (which is many ways). \n",
    "\n",
    "Python's `DateTime` library is great for dealing with time-related data, and Pandas has incorporated this library into its own `datetime` series and objects.\n",
    "\n",
    "In this lesson, we'll review these data types and learn a little more about each of them:\n",
    "\n",
    "* `datetime` objects.\n",
    "* `datetime` series.\n",
    "* Timestamps.\n",
    "* `timedelta()`.\n",
    "\n",
    "### `datetime` Objects\n",
    "Below, we'll load in the `DateTime` library, which we can use to create a `datetime` object by entering in the different components of the date as arguments."
   ]
  },
  {
   "cell_type": "code",
   "execution_count": 3,
   "metadata": {
    "ExecuteTime": {
     "end_time": "2022-03-08T16:08:54.771375Z",
     "start_time": "2022-03-08T16:08:54.768094Z"
    }
   },
   "outputs": [],
   "source": [
    "# The datetime library is something you should already have from Anaconda.\n",
    "from datetime import datetime"
   ]
  },
  {
   "cell_type": "code",
   "execution_count": 4,
   "metadata": {
    "ExecuteTime": {
     "end_time": "2022-03-08T16:08:55.286280Z",
     "start_time": "2022-03-08T16:08:55.281287Z"
    }
   },
   "outputs": [],
   "source": [
    "# Let's just set a random datetime — not the end of the world or anything.\n",
    "lesson_date = datetime(2012, 12, 21, 12, 21, 12, 844089)"
   ]
  },
  {
   "cell_type": "code",
   "execution_count": 5,
   "metadata": {
    "ExecuteTime": {
     "end_time": "2022-03-08T16:08:55.749343Z",
     "start_time": "2022-03-08T16:08:55.743597Z"
    }
   },
   "outputs": [
    {
     "name": "stdout",
     "output_type": "stream",
     "text": [
      "Micro-Second 844089\n",
      "Second 12\n",
      "Minute 21\n",
      "Hour 12\n",
      "Day 21\n",
      "Month 12\n",
      "Year 2012\n"
     ]
    }
   ],
   "source": [
    "#The components of the date are accessible via the object's attributes.\n",
    "print(\"Micro-Second\", lesson_date.microsecond)\n",
    "print(\"Second\", lesson_date.second)\n",
    "print(\"Minute\", lesson_date.minute)\n",
    "print(\"Hour\", lesson_date.hour)\n",
    "print(\"Day\", lesson_date.day)\n",
    "print(\"Month\",lesson_date.month)\n",
    "print(\"Year\", lesson_date.year)"
   ]
  },
  {
   "cell_type": "markdown",
   "metadata": {},
   "source": [
    "### `timedelta()`\n",
    "Suppose we want to add time to or subtract time from a date. Maybe we're using time as an index and want to get everything that happened a week before a specific observation.\n",
    "\n",
    "We can use a `timedelta` object to shift a `datetime` object. Here's an example:"
   ]
  },
  {
   "cell_type": "code",
   "execution_count": 6,
   "metadata": {
    "ExecuteTime": {
     "end_time": "2022-03-08T16:08:57.141318Z",
     "start_time": "2022-03-08T16:08:57.136528Z"
    }
   },
   "outputs": [
    {
     "name": "stdout",
     "output_type": "stream",
     "text": [
      "offset days 1\n",
      "offset seconds 20\n",
      "offset microseconds 0\n"
     ]
    }
   ],
   "source": [
    "# Import timedelta() from the DateTime library.\n",
    "from datetime import timedelta\n",
    "\n",
    "# Timedeltas represent time as an amount rather than as a fixed position.\n",
    "offset = timedelta(days=1, seconds=20)\n",
    "\n",
    "# The timedelta() has attributes that allow us to extract values from it.\n",
    "print('offset days', offset.days)\n",
    "print('offset seconds', offset.seconds)\n",
    "print('offset microseconds', offset.microseconds)"
   ]
  },
  {
   "cell_type": "markdown",
   "metadata": {},
   "source": [
    "`datetime`'s `.now()` function will give you the `datetime` object of this very moment."
   ]
  },
  {
   "cell_type": "code",
   "execution_count": 7,
   "metadata": {
    "ExecuteTime": {
     "end_time": "2022-03-08T16:08:58.434947Z",
     "start_time": "2022-03-08T16:08:58.420654Z"
    }
   },
   "outputs": [
    {
     "name": "stdout",
     "output_type": "stream",
     "text": [
      "Like Right Now:  2022-03-08 11:08:58.421893\n"
     ]
    }
   ],
   "source": [
    "now = datetime.now()\n",
    "print(\"Like Right Now: \", now)"
   ]
  },
  {
   "cell_type": "markdown",
   "metadata": {},
   "source": [
    "The current time is particularly useful when using `timedelta()`."
   ]
  },
  {
   "cell_type": "code",
   "execution_count": 8,
   "metadata": {
    "ExecuteTime": {
     "end_time": "2022-03-08T16:08:59.954599Z",
     "start_time": "2022-03-08T16:08:59.949275Z"
    }
   },
   "outputs": [
    {
     "name": "stdout",
     "output_type": "stream",
     "text": [
      "Future:  2022-03-09 11:09:18.421893\n",
      "Past:  2022-03-07 11:08:38.421893\n"
     ]
    }
   ],
   "source": [
    "print(\"Future: \", now + offset)\n",
    "print(\"Past: \", now - offset)"
   ]
  },
  {
   "cell_type": "markdown",
   "metadata": {},
   "source": [
    "*Note: The largest value a `timedelta()` can hold is days. For instance, you can't say you want your offset to be two years, 44 days, and 12 hours; you have to convert those years to days.*\n",
    "\n",
    "You can read more about the `timedelta()` category [here](https://docs.python.org/2/library/datetime.html)."
   ]
  },
  {
   "cell_type": "markdown",
   "metadata": {
    "ExecuteTime": {
     "end_time": "2019-01-02T17:47:52.977683Z",
     "start_time": "2019-01-02T17:47:52.973677Z"
    }
   },
   "source": [
    "## Preprocessing Time Series Data with Pandas"
   ]
  },
  {
   "cell_type": "code",
   "execution_count": 9,
   "metadata": {
    "ExecuteTime": {
     "end_time": "2022-03-08T16:09:01.558022Z",
     "start_time": "2022-03-08T16:09:01.532516Z"
    }
   },
   "outputs": [
    {
     "data": {
      "text/plain": [
       "Date      datetime64[ns]\n",
       "Open             float64\n",
       "High             float64\n",
       "Low              float64\n",
       "Close            float64\n",
       "Volume             int64\n",
       "dtype: object"
      ]
     },
     "execution_count": 9,
     "metadata": {},
     "output_type": "execute_result"
    }
   ],
   "source": [
    "#Overwrite the original `Date` column with one that's been converted to a `datetime` series.\n",
    "apple_stock['Date'] = pd.to_datetime(apple_stock.Date)\n",
    "apple_stock.dtypes"
   ]
  },
  {
   "cell_type": "markdown",
   "metadata": {},
   "source": [
    "### The `.dt` Attribute\n",
    "Pandas' `datetime` columns have a `.dt` attribute that allows you to access attributes that are specific to dates. For example:\n",
    "\n",
    "    aapl.Date.dt.day\n",
    "    aapl.Date.dt.month\n",
    "    aapl.Date.dt.year\n",
    "    aapl.Date.dt.day_name()\n",
    "\n",
    "Check out the Pandas `.dt` [documentation](https://pandas.pydata.org/pandas-docs/stable/generated/pandas.Series.dt.html) for more information."
   ]
  },
  {
   "cell_type": "code",
   "execution_count": 18,
   "metadata": {
    "ExecuteTime": {
     "end_time": "2022-03-08T17:39:14.986716Z",
     "start_time": "2022-03-08T17:39:14.846198Z"
    }
   },
   "outputs": [
    {
     "data": {
      "text/plain": [
       "0       Friday\n",
       "1     Thursday\n",
       "2    Wednesday\n",
       "3      Tuesday\n",
       "4       Monday\n",
       "Name: Date, dtype: object"
      ]
     },
     "execution_count": 18,
     "metadata": {},
     "output_type": "execute_result"
    }
   ],
   "source": [
    "apple_stock.Date.dt.day_name().head()"
   ]
  },
  {
   "cell_type": "code",
   "execution_count": 23,
   "metadata": {
    "ExecuteTime": {
     "end_time": "2022-03-08T17:39:53.345766Z",
     "start_time": "2022-03-08T17:39:53.339677Z"
    }
   },
   "outputs": [
    {
     "data": {
      "text/plain": [
       "0    13\n",
       "1    12\n",
       "2    11\n",
       "3    10\n",
       "4     9\n",
       "Name: Date, dtype: int64"
      ]
     },
     "execution_count": 23,
     "metadata": {},
     "output_type": "execute_result"
    }
   ],
   "source": [
    "apple_stock.Date.dt.dayofyear.head()"
   ]
  },
  {
   "cell_type": "markdown",
   "metadata": {},
   "source": [
    "### Timestamps\n",
    "Timestamps are useful objects for comparisons. You can create a timestamp object using the `pd.to_datetime()` function and a string specifying the date. These objects are especially helpful when you need to perform logical filtering with dates."
   ]
  },
  {
   "cell_type": "code",
   "execution_count": null,
   "metadata": {
    "ExecuteTime": {
     "end_time": "2019-01-02T17:50:54.674698Z",
     "start_time": "2019-01-02T17:50:54.665671Z"
    }
   },
   "outputs": [],
   "source": [
    "ts = pd.to_datetime('1/1/2017')\n",
    "ts"
   ]
  },
  {
   "cell_type": "code",
   "execution_count": null,
   "metadata": {},
   "outputs": [],
   "source": [
    "'''\n",
    "The main difference between a `datetime` object and a timestamp is that timestamps can be used as comparisons.\n",
    "\n",
    "'''\n",
    "\n"
   ]
  },
  {
   "cell_type": "code",
   "execution_count": null,
   "metadata": {},
   "outputs": [],
   "source": [
    "apple_stock.loc[apple_stock.Date >= ts, :].head()"
   ]
  },
  {
   "cell_type": "markdown",
   "metadata": {},
   "source": [
    "### Filter by date with Pandas\n",
    "It is easy to filter by date using Pandas. Let's create a subset of data containing only the stock prices from 2017. We can specify the index as a string constant. "
   ]
  },
  {
   "cell_type": "code",
   "execution_count": null,
   "metadata": {},
   "outputs": [],
   "source": [
    "#first, set the date (as a datetime obj) as the index\n",
    "apple_stock.set_index('Date', inplace=True)"
   ]
  },
  {
   "cell_type": "code",
   "execution_count": null,
   "metadata": {},
   "outputs": [],
   "source": [
    "#we can ask for only that data from December 2016\n",
    "apple_stock['2016-12']"
   ]
  },
  {
   "cell_type": "markdown",
   "metadata": {},
   "source": [
    "There are a few things to note about indexing with time series. Unlike numeric indexing, the end index will be included. If you want to index with a range, the time indices must be sorted first.  \n",
    "\n",
    "> **Recap:** The steps for preprocessing time series data are to:\n",
    "* Convert time data to a `datetime` object.\n",
    "* Set `datetime` to index the DataFrame."
   ]
  },
  {
   "cell_type": "markdown",
   "metadata": {},
   "source": [
    "## Independent Practice\n",
    "Let's use the UFO data set to build a timeseries"
   ]
  },
  {
   "cell_type": "code",
   "execution_count": null,
   "metadata": {
    "ExecuteTime": {
     "end_time": "2019-01-02T17:55:12.039745Z",
     "start_time": "2019-01-02T17:55:12.036737Z"
    }
   },
   "outputs": [],
   "source": [
    "# Create a `datetime` object representing today's date.\n"
   ]
  },
  {
   "cell_type": "code",
   "execution_count": null,
   "metadata": {},
   "outputs": [],
   "source": [
    "# Load the UFO data set from the internet.\n",
    "import pandas as pd\n",
    "from datetime import timedelta\n",
    "%matplotlib inline\n",
    "\n",
    "ufo = pd.read_csv('http://bit.ly/uforeports')"
   ]
  },
  {
   "cell_type": "code",
   "execution_count": null,
   "metadata": {},
   "outputs": [],
   "source": [
    "# Convert the Time column to a datetime object.\n"
   ]
  },
  {
   "cell_type": "code",
   "execution_count": null,
   "metadata": {},
   "outputs": [],
   "source": [
    "# Set the `Time` column to the index of the dataframe.\n"
   ]
  },
  {
   "cell_type": "code",
   "execution_count": null,
   "metadata": {},
   "outputs": [],
   "source": [
    "# Create a `timestamp` object for the date January 1, 1999.\n"
   ]
  },
  {
   "cell_type": "code",
   "execution_count": null,
   "metadata": {},
   "outputs": [],
   "source": [
    "# Create a subset of entries with a date above or equal to January 1, 1999 using a timestamp object.\n"
   ]
  },
  {
   "cell_type": "markdown",
   "metadata": {},
   "source": [
    "## Time Series modeling with FBProphet\n",
    "You will need to install prophet for this notebook. While we've used `pip install` in the past, it often causes errors. So, in terminal, we'll use an alternative: `conda install -c conda-forge fbprophet`"
   ]
  },
  {
   "cell_type": "code",
   "execution_count": 24,
   "metadata": {
    "ExecuteTime": {
     "end_time": "2022-03-08T17:40:14.839226Z",
     "start_time": "2022-03-08T17:40:10.265462Z"
    }
   },
   "outputs": [],
   "source": [
    "import pandas as pd\n",
    "import numpy as np\n",
    "from sklearn.metrics import mean_squared_error, r2_score, mean_absolute_error\n",
    "\n",
    "from fbprophet import Prophet\n",
    "import matplotlib.pyplot as plt\n",
    " \n",
    "%matplotlib inline\n",
    " \n",
    "plt.rcParams['figure.figsize']=(20,10)\n",
    "plt.style.use('ggplot')"
   ]
  },
  {
   "cell_type": "markdown",
   "metadata": {},
   "source": [
    "# Read in the data\n",
    "\n",
    "Read the data in from the retail sales CSV file in the examples folder then set the index to the 'date' column. We are also parsing dates in the data file."
   ]
  },
  {
   "cell_type": "code",
   "execution_count": 25,
   "metadata": {
    "ExecuteTime": {
     "end_time": "2022-03-08T17:40:15.875123Z",
     "start_time": "2022-03-08T17:40:15.861163Z"
    }
   },
   "outputs": [],
   "source": [
    "sales = pd.read_csv('./data/retail_sales.csv', parse_dates = True, low_memory = False)"
   ]
  },
  {
   "cell_type": "code",
   "execution_count": 26,
   "metadata": {
    "ExecuteTime": {
     "end_time": "2022-03-08T17:40:16.946211Z",
     "start_time": "2022-03-08T17:40:16.912390Z"
    }
   },
   "outputs": [
    {
     "data": {
      "text/html": [
       "<div>\n",
       "<style scoped>\n",
       "    .dataframe tbody tr th:only-of-type {\n",
       "        vertical-align: middle;\n",
       "    }\n",
       "\n",
       "    .dataframe tbody tr th {\n",
       "        vertical-align: top;\n",
       "    }\n",
       "\n",
       "    .dataframe thead th {\n",
       "        text-align: right;\n",
       "    }\n",
       "</style>\n",
       "<table border=\"1\" class=\"dataframe\">\n",
       "  <thead>\n",
       "    <tr style=\"text-align: right;\">\n",
       "      <th></th>\n",
       "      <th>date</th>\n",
       "      <th>sales</th>\n",
       "    </tr>\n",
       "  </thead>\n",
       "  <tbody>\n",
       "    <tr>\n",
       "      <th>0</th>\n",
       "      <td>2009-10-01</td>\n",
       "      <td>338630</td>\n",
       "    </tr>\n",
       "    <tr>\n",
       "      <th>1</th>\n",
       "      <td>2009-11-01</td>\n",
       "      <td>339386</td>\n",
       "    </tr>\n",
       "    <tr>\n",
       "      <th>2</th>\n",
       "      <td>2009-12-01</td>\n",
       "      <td>400264</td>\n",
       "    </tr>\n",
       "    <tr>\n",
       "      <th>3</th>\n",
       "      <td>2010-01-01</td>\n",
       "      <td>314640</td>\n",
       "    </tr>\n",
       "    <tr>\n",
       "      <th>4</th>\n",
       "      <td>2010-02-01</td>\n",
       "      <td>311022</td>\n",
       "    </tr>\n",
       "  </tbody>\n",
       "</table>\n",
       "</div>"
      ],
      "text/plain": [
       "         date   sales\n",
       "0  2009-10-01  338630\n",
       "1  2009-11-01  339386\n",
       "2  2009-12-01  400264\n",
       "3  2010-01-01  314640\n",
       "4  2010-02-01  311022"
      ]
     },
     "execution_count": 26,
     "metadata": {},
     "output_type": "execute_result"
    }
   ],
   "source": [
    "sales.head()"
   ]
  },
  {
   "cell_type": "markdown",
   "metadata": {},
   "source": [
    "# Prepare for Prophet\n",
    "\n",
    "For prophet to work, we need to change the names of these columns to 'ds' and 'y', so lets just create a new dataframe and keep our old one handy (you'll see why later). The new dataframe will initially be created with an integer index so we can rename the columns"
   ]
  },
  {
   "cell_type": "code",
   "execution_count": 27,
   "metadata": {
    "ExecuteTime": {
     "end_time": "2022-03-08T17:40:18.551827Z",
     "start_time": "2022-03-08T17:40:18.530935Z"
    }
   },
   "outputs": [
    {
     "data": {
      "text/html": [
       "<div>\n",
       "<style scoped>\n",
       "    .dataframe tbody tr th:only-of-type {\n",
       "        vertical-align: middle;\n",
       "    }\n",
       "\n",
       "    .dataframe tbody tr th {\n",
       "        vertical-align: top;\n",
       "    }\n",
       "\n",
       "    .dataframe thead th {\n",
       "        text-align: right;\n",
       "    }\n",
       "</style>\n",
       "<table border=\"1\" class=\"dataframe\">\n",
       "  <thead>\n",
       "    <tr style=\"text-align: right;\">\n",
       "      <th></th>\n",
       "      <th>ds</th>\n",
       "      <th>y</th>\n",
       "    </tr>\n",
       "  </thead>\n",
       "  <tbody>\n",
       "    <tr>\n",
       "      <th>0</th>\n",
       "      <td>2009-10-01</td>\n",
       "      <td>338630</td>\n",
       "    </tr>\n",
       "    <tr>\n",
       "      <th>1</th>\n",
       "      <td>2009-11-01</td>\n",
       "      <td>339386</td>\n",
       "    </tr>\n",
       "    <tr>\n",
       "      <th>2</th>\n",
       "      <td>2009-12-01</td>\n",
       "      <td>400264</td>\n",
       "    </tr>\n",
       "    <tr>\n",
       "      <th>3</th>\n",
       "      <td>2010-01-01</td>\n",
       "      <td>314640</td>\n",
       "    </tr>\n",
       "    <tr>\n",
       "      <th>4</th>\n",
       "      <td>2010-02-01</td>\n",
       "      <td>311022</td>\n",
       "    </tr>\n",
       "  </tbody>\n",
       "</table>\n",
       "</div>"
      ],
      "text/plain": [
       "           ds       y\n",
       "0  2009-10-01  338630\n",
       "1  2009-11-01  339386\n",
       "2  2009-12-01  400264\n",
       "3  2010-01-01  314640\n",
       "4  2010-02-01  311022"
      ]
     },
     "execution_count": 27,
     "metadata": {},
     "output_type": "execute_result"
    }
   ],
   "source": [
    "sales_df = sales.rename(columns={'date':'ds', 'sales':'y'})\n",
    "sales_df.head()"
   ]
  },
  {
   "cell_type": "markdown",
   "metadata": {},
   "source": [
    "Now's a good time to take a look at your data.  Plot the data using pandas' ```plot``` function"
   ]
  },
  {
   "cell_type": "code",
   "execution_count": 28,
   "metadata": {
    "ExecuteTime": {
     "end_time": "2022-03-08T17:40:24.567757Z",
     "start_time": "2022-03-08T17:40:24.254990Z"
    }
   },
   "outputs": [
    {
     "data": {
      "image/png": "[encoded data removed]",
      "text/plain": [
       "<Figure size 1440x720 with 1 Axes>"
      ]
     },
     "metadata": {},
     "output_type": "display_data"
    }
   ],
   "source": [
    "sales_df.set_index('ds').y.plot();"
   ]
  },
  {
   "cell_type": "markdown",
   "metadata": {},
   "source": [
    "When working with time-series data, it's good to look at the data to determine if trends exist, whether it is stationary, has any outliers and/or any other anamolies. Facebook prophet's example uses the log-transform as a way to remove some of these anomolies but it isn't the absolute 'best' way to do this...but given that its the example and a simple data series, we'll follow their lead for now.  Taking the log of a number is easily reversible to be able to see your original data. \n",
    "\n",
    "To log-transform your data, you can use numpy's log() function"
   ]
  },
  {
   "cell_type": "code",
   "execution_count": 29,
   "metadata": {
    "ExecuteTime": {
     "end_time": "2022-03-08T17:40:26.384018Z",
     "start_time": "2022-03-08T17:40:26.380057Z"
    }
   },
   "outputs": [],
   "source": [
    "sales_df['y'] = np.log(sales_df['y'])"
   ]
  },
  {
   "cell_type": "code",
   "execution_count": 30,
   "metadata": {
    "ExecuteTime": {
     "end_time": "2022-03-08T17:40:26.876992Z",
     "start_time": "2022-03-08T17:40:26.868487Z"
    }
   },
   "outputs": [
    {
     "data": {
      "text/html": [
       "<div>\n",
       "<style scoped>\n",
       "    .dataframe tbody tr th:only-of-type {\n",
       "        vertical-align: middle;\n",
       "    }\n",
       "\n",
       "    .dataframe tbody tr th {\n",
       "        vertical-align: top;\n",
       "    }\n",
       "\n",
       "    .dataframe thead th {\n",
       "        text-align: right;\n",
       "    }\n",
       "</style>\n",
       "<table border=\"1\" class=\"dataframe\">\n",
       "  <thead>\n",
       "    <tr style=\"text-align: right;\">\n",
       "      <th></th>\n",
       "      <th>ds</th>\n",
       "      <th>y</th>\n",
       "    </tr>\n",
       "  </thead>\n",
       "  <tbody>\n",
       "    <tr>\n",
       "      <th>67</th>\n",
       "      <td>2015-05-01</td>\n",
       "      <td>13.044650</td>\n",
       "    </tr>\n",
       "    <tr>\n",
       "      <th>68</th>\n",
       "      <td>2015-06-01</td>\n",
       "      <td>13.013060</td>\n",
       "    </tr>\n",
       "    <tr>\n",
       "      <th>69</th>\n",
       "      <td>2015-07-01</td>\n",
       "      <td>13.033991</td>\n",
       "    </tr>\n",
       "    <tr>\n",
       "      <th>70</th>\n",
       "      <td>2015-08-01</td>\n",
       "      <td>13.030993</td>\n",
       "    </tr>\n",
       "    <tr>\n",
       "      <th>71</th>\n",
       "      <td>2015-09-01</td>\n",
       "      <td>12.973671</td>\n",
       "    </tr>\n",
       "  </tbody>\n",
       "</table>\n",
       "</div>"
      ],
      "text/plain": [
       "            ds          y\n",
       "67  2015-05-01  13.044650\n",
       "68  2015-06-01  13.013060\n",
       "69  2015-07-01  13.033991\n",
       "70  2015-08-01  13.030993\n",
       "71  2015-09-01  12.973671"
      ]
     },
     "execution_count": 30,
     "metadata": {},
     "output_type": "execute_result"
    }
   ],
   "source": [
    "sales_df.tail()"
   ]
  },
  {
   "cell_type": "code",
   "execution_count": 31,
   "metadata": {
    "ExecuteTime": {
     "end_time": "2022-03-08T17:40:27.833377Z",
     "start_time": "2022-03-08T17:40:27.589658Z"
    }
   },
   "outputs": [
    {
     "data": {
      "image/png": "[encoded data removed]",
      "text/plain": [
       "<Figure size 1440x720 with 1 Axes>"
      ]
     },
     "metadata": {},
     "output_type": "display_data"
    }
   ],
   "source": [
    "sales_df.set_index('ds').y.plot();"
   ]
  },
  {
   "cell_type": "markdown",
   "metadata": {},
   "source": [
    "As you can see in the above chart, the plot looks the same as the first one but just at a different scale."
   ]
  },
  {
   "cell_type": "markdown",
   "metadata": {},
   "source": [
    "# Running Prophet\n",
    "\n",
    "Now, let's set prophet up to begin modeling our data.\n",
    "\n",
    "Note: Since we are using monthly data, you'll see a message from Prophet saying ```Disabling weekly seasonality. Run prophet with weekly_seasonality=True to override this.```  This is OK since we are working with monthly data but you can disable it by using ```weekly_seasonality=True``` in the instantiation of Prophet."
   ]
  },
  {
   "cell_type": "code",
   "execution_count": 32,
   "metadata": {
    "ExecuteTime": {
     "end_time": "2022-03-08T17:40:31.956332Z",
     "start_time": "2022-03-08T17:40:29.644094Z"
    }
   },
   "outputs": [
    {
     "name": "stderr",
     "output_type": "stream",
     "text": [
      "INFO:fbprophet:Disabling weekly seasonality. Run prophet with weekly_seasonality=True to override this.\n",
      "INFO:fbprophet:Disabling daily seasonality. Run prophet with daily_seasonality=True to override this.\n"
     ]
    },
    {
     "data": {
      "text/plain": [
       "<fbprophet.forecaster.Prophet at 0x7fa04492a9e8>"
      ]
     },
     "execution_count": 32,
     "metadata": {},
     "output_type": "execute_result"
    }
   ],
   "source": [
    "model = Prophet()\n",
    "model.fit(sales_df)"
   ]
  },
  {
   "cell_type": "markdown",
   "metadata": {},
   "source": [
    "Forecasting is fairly useless unless you can look into the future, so we need to add some future dates to our dataframe. For this example, I want to forecast 2 years into the future, so I'll built a future dataframe with 24 periods since we are working with monthly data. Note the ```freq='m'``` inclusion to ensure we are adding 24 months of data.\n",
    "\n",
    "This can be done with the following code:\n"
   ]
  },
  {
   "cell_type": "code",
   "execution_count": 33,
   "metadata": {
    "ExecuteTime": {
     "end_time": "2022-03-08T17:40:32.888274Z",
     "start_time": "2022-03-08T17:40:32.863022Z"
    }
   },
   "outputs": [
    {
     "data": {
      "text/html": [
       "<div>\n",
       "<style scoped>\n",
       "    .dataframe tbody tr th:only-of-type {\n",
       "        vertical-align: middle;\n",
       "    }\n",
       "\n",
       "    .dataframe tbody tr th {\n",
       "        vertical-align: top;\n",
       "    }\n",
       "\n",
       "    .dataframe thead th {\n",
       "        text-align: right;\n",
       "    }\n",
       "</style>\n",
       "<table border=\"1\" class=\"dataframe\">\n",
       "  <thead>\n",
       "    <tr style=\"text-align: right;\">\n",
       "      <th></th>\n",
       "      <th>ds</th>\n",
       "    </tr>\n",
       "  </thead>\n",
       "  <tbody>\n",
       "    <tr>\n",
       "      <th>91</th>\n",
       "      <td>2017-04-30</td>\n",
       "    </tr>\n",
       "    <tr>\n",
       "      <th>92</th>\n",
       "      <td>2017-05-31</td>\n",
       "    </tr>\n",
       "    <tr>\n",
       "      <th>93</th>\n",
       "      <td>2017-06-30</td>\n",
       "    </tr>\n",
       "    <tr>\n",
       "      <th>94</th>\n",
       "      <td>2017-07-31</td>\n",
       "    </tr>\n",
       "    <tr>\n",
       "      <th>95</th>\n",
       "      <td>2017-08-31</td>\n",
       "    </tr>\n",
       "  </tbody>\n",
       "</table>\n",
       "</div>"
      ],
      "text/plain": [
       "           ds\n",
       "91 2017-04-30\n",
       "92 2017-05-31\n",
       "93 2017-06-30\n",
       "94 2017-07-31\n",
       "95 2017-08-31"
      ]
     },
     "execution_count": 33,
     "metadata": {},
     "output_type": "execute_result"
    }
   ],
   "source": [
    "future = model.make_future_dataframe(periods=24, freq = 'm')\n",
    "future.tail()"
   ]
  },
  {
   "cell_type": "markdown",
   "metadata": {},
   "source": [
    "To forecast this future data, we need to run it through Prophet's model."
   ]
  },
  {
   "cell_type": "code",
   "execution_count": 34,
   "metadata": {
    "ExecuteTime": {
     "end_time": "2022-03-08T17:40:35.504626Z",
     "start_time": "2022-03-08T17:40:34.168009Z"
    }
   },
   "outputs": [],
   "source": [
    "forecast = model.predict(future)"
   ]
  },
  {
   "cell_type": "markdown",
   "metadata": {},
   "source": [
    "The resulting forecast dataframe contains quite a bit of data, but we really only care about a few columns.  First, let's look at the full dataframe:"
   ]
  },
  {
   "cell_type": "code",
   "execution_count": 35,
   "metadata": {
    "ExecuteTime": {
     "end_time": "2022-03-08T17:40:35.524523Z",
     "start_time": "2022-03-08T17:40:35.507189Z"
    }
   },
   "outputs": [
    {
     "data": {
      "text/html": [
       "<div>\n",
       "<style scoped>\n",
       "    .dataframe tbody tr th:only-of-type {\n",
       "        vertical-align: middle;\n",
       "    }\n",
       "\n",
       "    .dataframe tbody tr th {\n",
       "        vertical-align: top;\n",
       "    }\n",
       "\n",
       "    .dataframe thead th {\n",
       "        text-align: right;\n",
       "    }\n",
       "</style>\n",
       "<table border=\"1\" class=\"dataframe\">\n",
       "  <thead>\n",
       "    <tr style=\"text-align: right;\">\n",
       "      <th></th>\n",
       "      <th>ds</th>\n",
       "      <th>trend</th>\n",
       "      <th>yhat_lower</th>\n",
       "      <th>yhat_upper</th>\n",
       "      <th>trend_lower</th>\n",
       "      <th>trend_upper</th>\n",
       "      <th>additive_terms</th>\n",
       "      <th>additive_terms_lower</th>\n",
       "      <th>additive_terms_upper</th>\n",
       "      <th>yearly</th>\n",
       "      <th>yearly_lower</th>\n",
       "      <th>yearly_upper</th>\n",
       "      <th>multiplicative_terms</th>\n",
       "      <th>multiplicative_terms_lower</th>\n",
       "      <th>multiplicative_terms_upper</th>\n",
       "      <th>yhat</th>\n",
       "    </tr>\n",
       "  </thead>\n",
       "  <tbody>\n",
       "    <tr>\n",
       "      <th>91</th>\n",
       "      <td>2017-04-30</td>\n",
       "      <td>13.041237</td>\n",
       "      <td>12.884324</td>\n",
       "      <td>13.260803</td>\n",
       "      <td>12.861638</td>\n",
       "      <td>13.241798</td>\n",
       "      <td>0.018364</td>\n",
       "      <td>0.018364</td>\n",
       "      <td>0.018364</td>\n",
       "      <td>0.018364</td>\n",
       "      <td>0.018364</td>\n",
       "      <td>0.018364</td>\n",
       "      <td>0.0</td>\n",
       "      <td>0.0</td>\n",
       "      <td>0.0</td>\n",
       "      <td>13.059601</td>\n",
       "    </tr>\n",
       "    <tr>\n",
       "      <th>92</th>\n",
       "      <td>2017-05-31</td>\n",
       "      <td>13.042942</td>\n",
       "      <td>12.867374</td>\n",
       "      <td>13.270368</td>\n",
       "      <td>12.853634</td>\n",
       "      <td>13.261302</td>\n",
       "      <td>0.012932</td>\n",
       "      <td>0.012932</td>\n",
       "      <td>0.012932</td>\n",
       "      <td>0.012932</td>\n",
       "      <td>0.012932</td>\n",
       "      <td>0.012932</td>\n",
       "      <td>0.0</td>\n",
       "      <td>0.0</td>\n",
       "      <td>0.0</td>\n",
       "      <td>13.055874</td>\n",
       "    </tr>\n",
       "    <tr>\n",
       "      <th>93</th>\n",
       "      <td>2017-06-30</td>\n",
       "      <td>13.044592</td>\n",
       "      <td>12.870404</td>\n",
       "      <td>13.306878</td>\n",
       "      <td>12.840053</td>\n",
       "      <td>13.278488</td>\n",
       "      <td>0.031733</td>\n",
       "      <td>0.031733</td>\n",
       "      <td>0.031733</td>\n",
       "      <td>0.031733</td>\n",
       "      <td>0.031733</td>\n",
       "      <td>0.031733</td>\n",
       "      <td>0.0</td>\n",
       "      <td>0.0</td>\n",
       "      <td>0.0</td>\n",
       "      <td>13.076325</td>\n",
       "    </tr>\n",
       "    <tr>\n",
       "      <th>94</th>\n",
       "      <td>2017-07-31</td>\n",
       "      <td>13.046298</td>\n",
       "      <td>12.839566</td>\n",
       "      <td>13.303580</td>\n",
       "      <td>12.831445</td>\n",
       "      <td>13.297816</td>\n",
       "      <td>0.009755</td>\n",
       "      <td>0.009755</td>\n",
       "      <td>0.009755</td>\n",
       "      <td>0.009755</td>\n",
       "      <td>0.009755</td>\n",
       "      <td>0.009755</td>\n",
       "      <td>0.0</td>\n",
       "      <td>0.0</td>\n",
       "      <td>0.0</td>\n",
       "      <td>13.056053</td>\n",
       "    </tr>\n",
       "    <tr>\n",
       "      <th>95</th>\n",
       "      <td>2017-08-31</td>\n",
       "      <td>13.048003</td>\n",
       "      <td>12.801625</td>\n",
       "      <td>13.287664</td>\n",
       "      <td>12.818064</td>\n",
       "      <td>13.310795</td>\n",
       "      <td>-0.020633</td>\n",
       "      <td>-0.020633</td>\n",
       "      <td>-0.020633</td>\n",
       "      <td>-0.020633</td>\n",
       "      <td>-0.020633</td>\n",
       "      <td>-0.020633</td>\n",
       "      <td>0.0</td>\n",
       "      <td>0.0</td>\n",
       "      <td>0.0</td>\n",
       "      <td>13.027370</td>\n",
       "    </tr>\n",
       "  </tbody>\n",
       "</table>\n",
       "</div>"
      ],
      "text/plain": [
       "           ds      trend  yhat_lower  yhat_upper  trend_lower  trend_upper  \\\n",
       "91 2017-04-30  13.041237   12.884324   13.260803    12.861638    13.241798   \n",
       "92 2017-05-31  13.042942   12.867374   13.270368    12.853634    13.261302   \n",
       "93 2017-06-30  13.044592   12.870404   13.306878    12.840053    13.278488   \n",
       "94 2017-07-31  13.046298   12.839566   13.303580    12.831445    13.297816   \n",
       "95 2017-08-31  13.048003   12.801625   13.287664    12.818064    13.310795   \n",
       "\n",
       "    additive_terms  additive_terms_lower  additive_terms_upper    yearly  \\\n",
       "91        0.018364              0.018364              0.018364  0.018364   \n",
       "92        0.012932              0.012932              0.012932  0.012932   \n",
       "93        0.031733              0.031733              0.031733  0.031733   \n",
       "94        0.009755              0.009755              0.009755  0.009755   \n",
       "95       -0.020633             -0.020633             -0.020633 -0.020633   \n",
       "\n",
       "    yearly_lower  yearly_upper  multiplicative_terms  \\\n",
       "91      0.018364      0.018364                   0.0   \n",
       "92      0.012932      0.012932                   0.0   \n",
       "93      0.031733      0.031733                   0.0   \n",
       "94      0.009755      0.009755                   0.0   \n",
       "95     -0.020633     -0.020633                   0.0   \n",
       "\n",
       "    multiplicative_terms_lower  multiplicative_terms_upper       yhat  \n",
       "91                         0.0                         0.0  13.059601  \n",
       "92                         0.0                         0.0  13.055874  \n",
       "93                         0.0                         0.0  13.076325  \n",
       "94                         0.0                         0.0  13.056053  \n",
       "95                         0.0                         0.0  13.027370  "
      ]
     },
     "execution_count": 35,
     "metadata": {},
     "output_type": "execute_result"
    }
   ],
   "source": [
    "forecast.tail()"
   ]
  },
  {
   "cell_type": "markdown",
   "metadata": {},
   "source": [
    "We really only want to look at yhat, yhat_lower and yhat_upper, so we can do that with:"
   ]
  },
  {
   "cell_type": "code",
   "execution_count": 36,
   "metadata": {
    "ExecuteTime": {
     "end_time": "2022-03-08T17:40:36.300556Z",
     "start_time": "2022-03-08T17:40:36.283678Z"
    }
   },
   "outputs": [
    {
     "data": {
      "text/html": [
       "<div>\n",
       "<style scoped>\n",
       "    .dataframe tbody tr th:only-of-type {\n",
       "        vertical-align: middle;\n",
       "    }\n",
       "\n",
       "    .dataframe tbody tr th {\n",
       "        vertical-align: top;\n",
       "    }\n",
       "\n",
       "    .dataframe thead th {\n",
       "        text-align: right;\n",
       "    }\n",
       "</style>\n",
       "<table border=\"1\" class=\"dataframe\">\n",
       "  <thead>\n",
       "    <tr style=\"text-align: right;\">\n",
       "      <th></th>\n",
       "      <th>ds</th>\n",
       "      <th>yhat</th>\n",
       "      <th>yhat_lower</th>\n",
       "      <th>yhat_upper</th>\n",
       "    </tr>\n",
       "  </thead>\n",
       "  <tbody>\n",
       "    <tr>\n",
       "      <th>91</th>\n",
       "      <td>2017-04-30</td>\n",
       "      <td>13.059601</td>\n",
       "      <td>12.884324</td>\n",
       "      <td>13.260803</td>\n",
       "    </tr>\n",
       "    <tr>\n",
       "      <th>92</th>\n",
       "      <td>2017-05-31</td>\n",
       "      <td>13.055874</td>\n",
       "      <td>12.867374</td>\n",
       "      <td>13.270368</td>\n",
       "    </tr>\n",
       "    <tr>\n",
       "      <th>93</th>\n",
       "      <td>2017-06-30</td>\n",
       "      <td>13.076325</td>\n",
       "      <td>12.870404</td>\n",
       "      <td>13.306878</td>\n",
       "    </tr>\n",
       "    <tr>\n",
       "      <th>94</th>\n",
       "      <td>2017-07-31</td>\n",
       "      <td>13.056053</td>\n",
       "      <td>12.839566</td>\n",
       "      <td>13.303580</td>\n",
       "    </tr>\n",
       "    <tr>\n",
       "      <th>95</th>\n",
       "      <td>2017-08-31</td>\n",
       "      <td>13.027370</td>\n",
       "      <td>12.801625</td>\n",
       "      <td>13.287664</td>\n",
       "    </tr>\n",
       "  </tbody>\n",
       "</table>\n",
       "</div>"
      ],
      "text/plain": [
       "           ds       yhat  yhat_lower  yhat_upper\n",
       "91 2017-04-30  13.059601   12.884324   13.260803\n",
       "92 2017-05-31  13.055874   12.867374   13.270368\n",
       "93 2017-06-30  13.076325   12.870404   13.306878\n",
       "94 2017-07-31  13.056053   12.839566   13.303580\n",
       "95 2017-08-31  13.027370   12.801625   13.287664"
      ]
     },
     "execution_count": 36,
     "metadata": {},
     "output_type": "execute_result"
    }
   ],
   "source": [
    "forecast[['ds', 'yhat', 'yhat_lower', 'yhat_upper']].tail()"
   ]
  },
  {
   "cell_type": "markdown",
   "metadata": {},
   "source": [
    "# Plotting Prophet results\n",
    "\n",
    "Prophet has a plotting mechanism called ```plot```.  This plot functionality draws the original data (black dots), the model (blue line) and the error of the forecast (shaded blue area)."
   ]
  },
  {
   "cell_type": "code",
   "execution_count": 37,
   "metadata": {
    "ExecuteTime": {
     "end_time": "2022-03-08T17:40:39.367060Z",
     "start_time": "2022-03-08T17:40:39.062546Z"
    }
   },
   "outputs": [
    {
     "name": "stderr",
     "output_type": "stream",
     "text": [
      "/Users/bar/dev/miniconda/envs/ga/lib/python3.7/site-packages/matplotlib/cbook/__init__.py:1377: FutureWarning: Support for multi-dimensional indexing (e.g. `obj[:, None]`) is deprecated and will be removed in a future version.  Convert to a numpy array before indexing instead.\n",
      "  x[:, None]\n",
      "/Users/bar/dev/miniconda/envs/ga/lib/python3.7/site-packages/matplotlib/axes/_base.py:239: FutureWarning: Support for multi-dimensional indexing (e.g. `obj[:, None]`) is deprecated and will be removed in a future version.  Convert to a numpy array before indexing instead.\n",
      "  y = y[:, np.newaxis]\n"
     ]
    },
    {
     "data": {
      "image/png": "[encoded data removed]",
      "text/plain": [
       "<Figure size 720x432 with 1 Axes>"
      ]
     },
     "metadata": {},
     "output_type": "display_data"
    }
   ],
   "source": [
    "model.plot(forecast);\n"
   ]
  },
  {
   "cell_type": "markdown",
   "metadata": {},
   "source": [
    "## Evaluating Prophet\n",
    "The shaded blue area is the error of the forecast. But we can only eyeball it. Let's look at the R-squared (amount of variance) and Mean Squared Error. "
   ]
  },
  {
   "cell_type": "code",
   "execution_count": 38,
   "metadata": {
    "ExecuteTime": {
     "end_time": "2022-03-08T17:40:42.634980Z",
     "start_time": "2022-03-08T17:40:42.606890Z"
    }
   },
   "outputs": [
    {
     "name": "stdout",
     "output_type": "stream",
     "text": [
      "<class 'pandas.core.frame.DataFrame'>\n",
      "RangeIndex: 96 entries, 0 to 95\n",
      "Data columns (total 16 columns):\n",
      " #   Column                      Non-Null Count  Dtype         \n",
      "---  ------                      --------------  -----         \n",
      " 0   ds                          96 non-null     datetime64[ns]\n",
      " 1   trend                       96 non-null     float64       \n",
      " 2   yhat_lower                  96 non-null     float64       \n",
      " 3   yhat_upper                  96 non-null     float64       \n",
      " 4   trend_lower                 96 non-null     float64       \n",
      " 5   trend_upper                 96 non-null     float64       \n",
      " 6   additive_terms              96 non-null     float64       \n",
      " 7   additive_terms_lower        96 non-null     float64       \n",
      " 8   additive_terms_upper        96 non-null     float64       \n",
      " 9   yearly                      96 non-null     float64       \n",
      " 10  yearly_lower                96 non-null     float64       \n",
      " 11  yearly_upper                96 non-null     float64       \n",
      " 12  multiplicative_terms        96 non-null     float64       \n",
      " 13  multiplicative_terms_lower  96 non-null     float64       \n",
      " 14  multiplicative_terms_upper  96 non-null     float64       \n",
      " 15  yhat                        96 non-null     float64       \n",
      "dtypes: datetime64[ns](1), float64(15)\n",
      "memory usage: 12.1 KB\n"
     ]
    }
   ],
   "source": [
    "forecast.info()"
   ]
  },
  {
   "cell_type": "code",
   "execution_count": 39,
   "metadata": {
    "ExecuteTime": {
     "end_time": "2022-03-08T17:40:43.990994Z",
     "start_time": "2022-03-08T17:40:43.988278Z"
    }
   },
   "outputs": [],
   "source": [
    "#To do this, we have to get the y-hat and original y's from the data\n",
    "#metric_df = forecast.set_index('ds')[['yhat']].join(sales_df.y).reset_index()\n",
    "#metric_df.head()"
   ]
  },
  {
   "cell_type": "code",
   "execution_count": 40,
   "metadata": {
    "ExecuteTime": {
     "end_time": "2022-03-08T17:40:44.651921Z",
     "start_time": "2022-03-08T17:40:44.632389Z"
    },
    "scrolled": false
   },
   "outputs": [
    {
     "data": {
      "text/html": [
       "<div>\n",
       "<style scoped>\n",
       "    .dataframe tbody tr th:only-of-type {\n",
       "        vertical-align: middle;\n",
       "    }\n",
       "\n",
       "    .dataframe tbody tr th {\n",
       "        vertical-align: top;\n",
       "    }\n",
       "\n",
       "    .dataframe thead th {\n",
       "        text-align: right;\n",
       "    }\n",
       "</style>\n",
       "<table border=\"1\" class=\"dataframe\">\n",
       "  <thead>\n",
       "    <tr style=\"text-align: right;\">\n",
       "      <th></th>\n",
       "      <th>ds</th>\n",
       "      <th>yhat</th>\n",
       "      <th>y</th>\n",
       "    </tr>\n",
       "  </thead>\n",
       "  <tbody>\n",
       "    <tr>\n",
       "      <th>0</th>\n",
       "      <td>2009-10-01</td>\n",
       "      <td>12.728916</td>\n",
       "      <td>12.732663</td>\n",
       "    </tr>\n",
       "    <tr>\n",
       "      <th>1</th>\n",
       "      <td>2009-11-01</td>\n",
       "      <td>12.749435</td>\n",
       "      <td>12.734893</td>\n",
       "    </tr>\n",
       "    <tr>\n",
       "      <th>2</th>\n",
       "      <td>2009-12-01</td>\n",
       "      <td>12.887444</td>\n",
       "      <td>12.899880</td>\n",
       "    </tr>\n",
       "    <tr>\n",
       "      <th>3</th>\n",
       "      <td>2010-01-01</td>\n",
       "      <td>12.662469</td>\n",
       "      <td>12.659184</td>\n",
       "    </tr>\n",
       "    <tr>\n",
       "      <th>4</th>\n",
       "      <td>2010-02-01</td>\n",
       "      <td>12.655825</td>\n",
       "      <td>12.647619</td>\n",
       "    </tr>\n",
       "  </tbody>\n",
       "</table>\n",
       "</div>"
      ],
      "text/plain": [
       "          ds       yhat          y\n",
       "0 2009-10-01  12.728916  12.732663\n",
       "1 2009-11-01  12.749435  12.734893\n",
       "2 2009-12-01  12.887444  12.899880\n",
       "3 2010-01-01  12.662469  12.659184\n",
       "4 2010-02-01  12.655825  12.647619"
      ]
     },
     "execution_count": 40,
     "metadata": {},
     "output_type": "execute_result"
    }
   ],
   "source": [
    "metric_df = pd.concat([forecast[['ds','yhat']],sales_df['y']], axis=1)\n",
    "metric_df.head()"
   ]
  },
  {
   "cell_type": "markdown",
   "metadata": {},
   "source": [
    "Remember we added 24 months of forecast so we don't have an actual `y` data for those months."
   ]
  },
  {
   "cell_type": "code",
   "execution_count": 41,
   "metadata": {
    "ExecuteTime": {
     "end_time": "2022-03-08T17:40:46.089298Z",
     "start_time": "2022-03-08T17:40:46.078757Z"
    }
   },
   "outputs": [
    {
     "data": {
      "text/html": [
       "<div>\n",
       "<style scoped>\n",
       "    .dataframe tbody tr th:only-of-type {\n",
       "        vertical-align: middle;\n",
       "    }\n",
       "\n",
       "    .dataframe tbody tr th {\n",
       "        vertical-align: top;\n",
       "    }\n",
       "\n",
       "    .dataframe thead th {\n",
       "        text-align: right;\n",
       "    }\n",
       "</style>\n",
       "<table border=\"1\" class=\"dataframe\">\n",
       "  <thead>\n",
       "    <tr style=\"text-align: right;\">\n",
       "      <th></th>\n",
       "      <th>ds</th>\n",
       "      <th>yhat</th>\n",
       "      <th>y</th>\n",
       "    </tr>\n",
       "  </thead>\n",
       "  <tbody>\n",
       "    <tr>\n",
       "      <th>91</th>\n",
       "      <td>2017-04-30</td>\n",
       "      <td>13.059601</td>\n",
       "      <td>NaN</td>\n",
       "    </tr>\n",
       "    <tr>\n",
       "      <th>92</th>\n",
       "      <td>2017-05-31</td>\n",
       "      <td>13.055874</td>\n",
       "      <td>NaN</td>\n",
       "    </tr>\n",
       "    <tr>\n",
       "      <th>93</th>\n",
       "      <td>2017-06-30</td>\n",
       "      <td>13.076325</td>\n",
       "      <td>NaN</td>\n",
       "    </tr>\n",
       "    <tr>\n",
       "      <th>94</th>\n",
       "      <td>2017-07-31</td>\n",
       "      <td>13.056053</td>\n",
       "      <td>NaN</td>\n",
       "    </tr>\n",
       "    <tr>\n",
       "      <th>95</th>\n",
       "      <td>2017-08-31</td>\n",
       "      <td>13.027370</td>\n",
       "      <td>NaN</td>\n",
       "    </tr>\n",
       "  </tbody>\n",
       "</table>\n",
       "</div>"
      ],
      "text/plain": [
       "           ds       yhat   y\n",
       "91 2017-04-30  13.059601 NaN\n",
       "92 2017-05-31  13.055874 NaN\n",
       "93 2017-06-30  13.076325 NaN\n",
       "94 2017-07-31  13.056053 NaN\n",
       "95 2017-08-31  13.027370 NaN"
      ]
     },
     "execution_count": 41,
     "metadata": {},
     "output_type": "execute_result"
    }
   ],
   "source": [
    "# check the tail, because we added 24 months of forecast.\n",
    "metric_df.tail()"
   ]
  },
  {
   "cell_type": "code",
   "execution_count": 42,
   "metadata": {
    "ExecuteTime": {
     "end_time": "2022-03-08T17:40:47.110685Z",
     "start_time": "2022-03-08T17:40:47.105011Z"
    }
   },
   "outputs": [],
   "source": [
    "# The tail has NaN values, because they're predictions - there was no real Y. Let's drop those for model evaluation.\n",
    "metric_df.dropna(inplace = True)"
   ]
  },
  {
   "cell_type": "code",
   "execution_count": 43,
   "metadata": {
    "ExecuteTime": {
     "end_time": "2022-03-08T17:40:47.675160Z",
     "start_time": "2022-03-08T17:40:47.671651Z"
    }
   },
   "outputs": [],
   "source": [
    "#Let's take a look at the numbers\n",
    "#from sklearn.metrics import mean_squared_error, r2_score, mean_absolute_error"
   ]
  },
  {
   "cell_type": "code",
   "execution_count": 44,
   "metadata": {
    "ExecuteTime": {
     "end_time": "2022-03-08T17:40:48.331389Z",
     "start_time": "2022-03-08T17:40:48.255863Z"
    },
    "scrolled": true
   },
   "outputs": [
    {
     "name": "stdout",
     "output_type": "stream",
     "text": [
      "<class 'pandas.core.frame.DataFrame'>\n",
      "Int64Index: 72 entries, 0 to 71\n",
      "Data columns (total 3 columns):\n",
      " #   Column  Non-Null Count  Dtype         \n",
      "---  ------  --------------  -----         \n",
      " 0   ds      72 non-null     datetime64[ns]\n",
      " 1   yhat    72 non-null     float64       \n",
      " 2   y       72 non-null     float64       \n",
      "dtypes: datetime64[ns](1), float64(2)\n",
      "memory usage: 2.2 KB\n"
     ]
    }
   ],
   "source": [
    "metric_df.info()"
   ]
  },
  {
   "cell_type": "code",
   "execution_count": 45,
   "metadata": {
    "ExecuteTime": {
     "end_time": "2022-03-08T17:40:48.932554Z",
     "start_time": "2022-03-08T17:40:48.918248Z"
    }
   },
   "outputs": [
    {
     "data": {
      "text/html": [
       "<div>\n",
       "<style scoped>\n",
       "    .dataframe tbody tr th:only-of-type {\n",
       "        vertical-align: middle;\n",
       "    }\n",
       "\n",
       "    .dataframe tbody tr th {\n",
       "        vertical-align: top;\n",
       "    }\n",
       "\n",
       "    .dataframe thead th {\n",
       "        text-align: right;\n",
       "    }\n",
       "</style>\n",
       "<table border=\"1\" class=\"dataframe\">\n",
       "  <thead>\n",
       "    <tr style=\"text-align: right;\">\n",
       "      <th></th>\n",
       "      <th>ds</th>\n",
       "      <th>yhat</th>\n",
       "      <th>y</th>\n",
       "    </tr>\n",
       "  </thead>\n",
       "  <tbody>\n",
       "    <tr>\n",
       "      <th>67</th>\n",
       "      <td>2015-05-01</td>\n",
       "      <td>13.036273</td>\n",
       "      <td>13.044650</td>\n",
       "    </tr>\n",
       "    <tr>\n",
       "      <th>68</th>\n",
       "      <td>2015-06-01</td>\n",
       "      <td>13.011805</td>\n",
       "      <td>13.013060</td>\n",
       "    </tr>\n",
       "    <tr>\n",
       "      <th>69</th>\n",
       "      <td>2015-07-01</td>\n",
       "      <td>13.024502</td>\n",
       "      <td>13.033991</td>\n",
       "    </tr>\n",
       "    <tr>\n",
       "      <th>70</th>\n",
       "      <td>2015-08-01</td>\n",
       "      <td>13.029854</td>\n",
       "      <td>13.030993</td>\n",
       "    </tr>\n",
       "    <tr>\n",
       "      <th>71</th>\n",
       "      <td>2015-09-01</td>\n",
       "      <td>12.976071</td>\n",
       "      <td>12.973671</td>\n",
       "    </tr>\n",
       "  </tbody>\n",
       "</table>\n",
       "</div>"
      ],
      "text/plain": [
       "           ds       yhat          y\n",
       "67 2015-05-01  13.036273  13.044650\n",
       "68 2015-06-01  13.011805  13.013060\n",
       "69 2015-07-01  13.024502  13.033991\n",
       "70 2015-08-01  13.029854  13.030993\n",
       "71 2015-09-01  12.976071  12.973671"
      ]
     },
     "execution_count": 45,
     "metadata": {},
     "output_type": "execute_result"
    }
   ],
   "source": [
    "metric_df.tail()"
   ]
  },
  {
   "cell_type": "markdown",
   "metadata": {},
   "source": [
    "Generate some metrics on our model."
   ]
  },
  {
   "cell_type": "code",
   "execution_count": 46,
   "metadata": {
    "ExecuteTime": {
     "end_time": "2022-03-08T17:40:50.115807Z",
     "start_time": "2022-03-08T17:40:50.098360Z"
    }
   },
   "outputs": [
    {
     "name": "stdout",
     "output_type": "stream",
     "text": [
      "R-squared:  0.9937030580772022\n",
      "Mean Squared Error:  6.305748859364187e-05\n",
      "RMSE:  0.007940874548413536\n"
     ]
    }
   ],
   "source": [
    "print(\"R-squared: \", r2_score(metric_df['y'], metric_df['yhat']))\n",
    "print(\"Mean Squared Error: \", mean_squared_error(metric_df['y'], metric_df['yhat']))\n",
    "print(\"RMSE: \", np.sqrt(mean_squared_error(metric_df['y'], metric_df['yhat'])))"
   ]
  },
  {
   "cell_type": "markdown",
   "metadata": {},
   "source": [
    "An R2 value of .99 is phenomenal... and too good to be true. Our massive MSE confirms any suspcion tha thte model is overfit and won't be very predictive in the future. Part of the problem in this example is that the its monthly, and there aren't enough data points to build a robust model. "
   ]
  },
  {
   "cell_type": "markdown",
   "metadata": {
    "collapsed": true
   },
   "source": [
    "## Accounting for Seasonality and Trends\n",
    "\n",
    "We can see from this data that there is a spike in the same month each year. While spike could be due to many different reasons, let's assume its because there's a major promotion that this company runs every year at that time, which is in December for this dataset.\n",
    "\n",
    "When patterns repeat over *known, fixed periods* of time within a data set, we call this **seasonality**. A seasonal pattern exists when a series is influenced by factors related to the cyclic nature of time — i.e., time of month, quarter, year, etc. Seasonality is of a fixed and known period, otherwise it is not truly seasonality. Additionally, it must be either attributed to another factor or counted as a set of anomalous events in the data."
   ]
  },
  {
   "cell_type": "markdown",
   "metadata": {},
   "source": [
    "### Prophet calls them \"holidays\"\n",
    "\n",
    "Because we know this promotion occurs every december, we want to use this knowledge to help prophet better forecast those months, so we'll use prohpet's ```holiday``` construct (explained here https://facebookincubator.github.io/prophet/docs/holiday_effects.html).\n",
    "\n",
    "The holiday object is a pandas dataframe with the holiday and date of the holiday. For this example, the construct would look like this:\n",
    "\n",
    "```promotions = pd.DataFrame({\n",
    "  'holiday': 'december_promotion',\n",
    "  'ds': pd.to_datetime(['2009-12-01', '2010-12-01', '2011-12-01', '2012-12-01',\n",
    "                        '2013-12-01', '2014-12-01', '2015-12-01']),\n",
    "  'lower_window': 0,\n",
    "  'upper_window': 0,\n",
    "})```\n",
    "\n",
    "This ```promotions``` dataframe consisists of promotion dates for Dec in 2009 through 2015,  The ```lower_window``` and ```upper_window``` values are set to zero to indicate that we don't want prophet to consider any other months than the ones listed."
   ]
  },
  {
   "cell_type": "code",
   "execution_count": 47,
   "metadata": {
    "ExecuteTime": {
     "end_time": "2022-03-08T18:20:14.525302Z",
     "start_time": "2022-03-08T18:20:14.489103Z"
    }
   },
   "outputs": [],
   "source": [
    "# Build the promotions dataframe from above here - be sure you understand the syntax and logic!\n",
    "promotions = pd.DataFrame({\n",
    "  'holiday': 'december_promotion',\n",
    "  'ds': pd.to_datetime(['2009-12-01', '2010-12-01', '2011-12-01', '2012-12-01',\n",
    "                        '2013-12-01', '2014-12-01', '2015-12-01']),\n",
    "  'lower_window': 0,\n",
    "  'upper_window': 0,\n",
    "})"
   ]
  },
  {
   "cell_type": "code",
   "execution_count": 48,
   "metadata": {
    "ExecuteTime": {
     "end_time": "2022-03-08T18:20:14.727641Z",
     "start_time": "2022-03-08T18:20:14.701682Z"
    }
   },
   "outputs": [
    {
     "data": {
      "text/html": [
       "<div>\n",
       "<style scoped>\n",
       "    .dataframe tbody tr th:only-of-type {\n",
       "        vertical-align: middle;\n",
       "    }\n",
       "\n",
       "    .dataframe tbody tr th {\n",
       "        vertical-align: top;\n",
       "    }\n",
       "\n",
       "    .dataframe thead th {\n",
       "        text-align: right;\n",
       "    }\n",
       "</style>\n",
       "<table border=\"1\" class=\"dataframe\">\n",
       "  <thead>\n",
       "    <tr style=\"text-align: right;\">\n",
       "      <th></th>\n",
       "      <th>ds</th>\n",
       "      <th>y</th>\n",
       "    </tr>\n",
       "  </thead>\n",
       "  <tbody>\n",
       "    <tr>\n",
       "      <th>0</th>\n",
       "      <td>2009-10-01</td>\n",
       "      <td>2.544171</td>\n",
       "    </tr>\n",
       "    <tr>\n",
       "      <th>1</th>\n",
       "      <td>2009-11-01</td>\n",
       "      <td>2.544346</td>\n",
       "    </tr>\n",
       "    <tr>\n",
       "      <th>2</th>\n",
       "      <td>2009-12-01</td>\n",
       "      <td>2.557218</td>\n",
       "    </tr>\n",
       "    <tr>\n",
       "      <th>3</th>\n",
       "      <td>2010-01-01</td>\n",
       "      <td>2.538383</td>\n",
       "    </tr>\n",
       "    <tr>\n",
       "      <th>4</th>\n",
       "      <td>2010-02-01</td>\n",
       "      <td>2.537469</td>\n",
       "    </tr>\n",
       "  </tbody>\n",
       "</table>\n",
       "</div>"
      ],
      "text/plain": [
       "           ds         y\n",
       "0  2009-10-01  2.544171\n",
       "1  2009-11-01  2.544346\n",
       "2  2009-12-01  2.557218\n",
       "3  2010-01-01  2.538383\n",
       "4  2010-02-01  2.537469"
      ]
     },
     "execution_count": 48,
     "metadata": {},
     "output_type": "execute_result"
    }
   ],
   "source": [
    "# Remember, we need to log-transform for prophet\n",
    "sales_df['y'] = np.log(sales_df['y'])\n",
    "sales_df.head()"
   ]
  },
  {
   "cell_type": "code",
   "execution_count": 49,
   "metadata": {
    "ExecuteTime": {
     "end_time": "2022-03-08T18:20:15.979200Z",
     "start_time": "2022-03-08T18:20:15.144360Z"
    }
   },
   "outputs": [
    {
     "name": "stderr",
     "output_type": "stream",
     "text": [
      "INFO:fbprophet:Disabling weekly seasonality. Run prophet with weekly_seasonality=True to override this.\n",
      "INFO:fbprophet:Disabling daily seasonality. Run prophet with daily_seasonality=True to override this.\n"
     ]
    },
    {
     "data": {
      "text/plain": [
       "<fbprophet.forecaster.Prophet at 0x7fa0456e9240>"
      ]
     },
     "execution_count": 49,
     "metadata": {},
     "output_type": "execute_result"
    }
   ],
   "source": [
    "#Now let's set up prophet to model our data using holidays - Instantiate and fit the model\n",
    "model = Prophet(holidays=promotions)\n",
    "model.fit(sales_df)"
   ]
  },
  {
   "cell_type": "code",
   "execution_count": 50,
   "metadata": {
    "ExecuteTime": {
     "end_time": "2022-03-08T18:20:17.500835Z",
     "start_time": "2022-03-08T18:20:15.981709Z"
    }
   },
   "outputs": [
    {
     "data": {
      "text/html": [
       "<div>\n",
       "<style scoped>\n",
       "    .dataframe tbody tr th:only-of-type {\n",
       "        vertical-align: middle;\n",
       "    }\n",
       "\n",
       "    .dataframe tbody tr th {\n",
       "        vertical-align: top;\n",
       "    }\n",
       "\n",
       "    .dataframe thead th {\n",
       "        text-align: right;\n",
       "    }\n",
       "</style>\n",
       "<table border=\"1\" class=\"dataframe\">\n",
       "  <thead>\n",
       "    <tr style=\"text-align: right;\">\n",
       "      <th></th>\n",
       "      <th>0</th>\n",
       "      <th>1</th>\n",
       "      <th>2</th>\n",
       "      <th>3</th>\n",
       "      <th>4</th>\n",
       "    </tr>\n",
       "  </thead>\n",
       "  <tbody>\n",
       "    <tr>\n",
       "      <th>ds</th>\n",
       "      <td>2009-10-01 00:00:00</td>\n",
       "      <td>2009-11-01 00:00:00</td>\n",
       "      <td>2009-12-01 00:00:00</td>\n",
       "      <td>2010-01-01 00:00:00</td>\n",
       "      <td>2010-02-01 00:00:00</td>\n",
       "    </tr>\n",
       "    <tr>\n",
       "      <th>trend</th>\n",
       "      <td>2.659732</td>\n",
       "      <td>2.661457</td>\n",
       "      <td>2.663127</td>\n",
       "      <td>2.664307</td>\n",
       "      <td>2.665487</td>\n",
       "    </tr>\n",
       "    <tr>\n",
       "      <th>yhat_lower</th>\n",
       "      <td>2.543104</td>\n",
       "      <td>2.544747</td>\n",
       "      <td>2.555833</td>\n",
       "      <td>2.538089</td>\n",
       "      <td>2.537495</td>\n",
       "    </tr>\n",
       "    <tr>\n",
       "      <th>yhat_upper</th>\n",
       "      <td>2.544354</td>\n",
       "      <td>2.546014</td>\n",
       "      <td>2.557087</td>\n",
       "      <td>2.539403</td>\n",
       "      <td>2.538783</td>\n",
       "    </tr>\n",
       "    <tr>\n",
       "      <th>trend_lower</th>\n",
       "      <td>2.659732</td>\n",
       "      <td>2.661457</td>\n",
       "      <td>2.663127</td>\n",
       "      <td>2.664307</td>\n",
       "      <td>2.665487</td>\n",
       "    </tr>\n",
       "    <tr>\n",
       "      <th>trend_upper</th>\n",
       "      <td>2.659732</td>\n",
       "      <td>2.661457</td>\n",
       "      <td>2.663127</td>\n",
       "      <td>2.664307</td>\n",
       "      <td>2.665487</td>\n",
       "    </tr>\n",
       "    <tr>\n",
       "      <th>additive_terms</th>\n",
       "      <td>-0.116002</td>\n",
       "      <td>-0.116075</td>\n",
       "      <td>-0.106668</td>\n",
       "      <td>-0.125597</td>\n",
       "      <td>-0.127351</td>\n",
       "    </tr>\n",
       "    <tr>\n",
       "      <th>additive_terms_lower</th>\n",
       "      <td>-0.116002</td>\n",
       "      <td>-0.116075</td>\n",
       "      <td>-0.106668</td>\n",
       "      <td>-0.125597</td>\n",
       "      <td>-0.127351</td>\n",
       "    </tr>\n",
       "    <tr>\n",
       "      <th>additive_terms_upper</th>\n",
       "      <td>-0.116002</td>\n",
       "      <td>-0.116075</td>\n",
       "      <td>-0.106668</td>\n",
       "      <td>-0.125597</td>\n",
       "      <td>-0.127351</td>\n",
       "    </tr>\n",
       "    <tr>\n",
       "      <th>december_promotion</th>\n",
       "      <td>0.0</td>\n",
       "      <td>0.0</td>\n",
       "      <td>-1.405551</td>\n",
       "      <td>0.0</td>\n",
       "      <td>0.0</td>\n",
       "    </tr>\n",
       "    <tr>\n",
       "      <th>december_promotion_lower</th>\n",
       "      <td>0.0</td>\n",
       "      <td>0.0</td>\n",
       "      <td>-1.405551</td>\n",
       "      <td>0.0</td>\n",
       "      <td>0.0</td>\n",
       "    </tr>\n",
       "    <tr>\n",
       "      <th>december_promotion_upper</th>\n",
       "      <td>0.0</td>\n",
       "      <td>0.0</td>\n",
       "      <td>-1.405551</td>\n",
       "      <td>0.0</td>\n",
       "      <td>0.0</td>\n",
       "    </tr>\n",
       "    <tr>\n",
       "      <th>holidays</th>\n",
       "      <td>0.0</td>\n",
       "      <td>0.0</td>\n",
       "      <td>-1.405551</td>\n",
       "      <td>0.0</td>\n",
       "      <td>0.0</td>\n",
       "    </tr>\n",
       "    <tr>\n",
       "      <th>holidays_lower</th>\n",
       "      <td>0.0</td>\n",
       "      <td>0.0</td>\n",
       "      <td>-1.405551</td>\n",
       "      <td>0.0</td>\n",
       "      <td>0.0</td>\n",
       "    </tr>\n",
       "    <tr>\n",
       "      <th>holidays_upper</th>\n",
       "      <td>0.0</td>\n",
       "      <td>0.0</td>\n",
       "      <td>-1.405551</td>\n",
       "      <td>0.0</td>\n",
       "      <td>0.0</td>\n",
       "    </tr>\n",
       "    <tr>\n",
       "      <th>yearly</th>\n",
       "      <td>-0.116002</td>\n",
       "      <td>-0.116075</td>\n",
       "      <td>1.298883</td>\n",
       "      <td>-0.125597</td>\n",
       "      <td>-0.127351</td>\n",
       "    </tr>\n",
       "    <tr>\n",
       "      <th>yearly_lower</th>\n",
       "      <td>-0.116002</td>\n",
       "      <td>-0.116075</td>\n",
       "      <td>1.298883</td>\n",
       "      <td>-0.125597</td>\n",
       "      <td>-0.127351</td>\n",
       "    </tr>\n",
       "    <tr>\n",
       "      <th>yearly_upper</th>\n",
       "      <td>-0.116002</td>\n",
       "      <td>-0.116075</td>\n",
       "      <td>1.298883</td>\n",
       "      <td>-0.125597</td>\n",
       "      <td>-0.127351</td>\n",
       "    </tr>\n",
       "    <tr>\n",
       "      <th>multiplicative_terms</th>\n",
       "      <td>0.0</td>\n",
       "      <td>0.0</td>\n",
       "      <td>0.0</td>\n",
       "      <td>0.0</td>\n",
       "      <td>0.0</td>\n",
       "    </tr>\n",
       "    <tr>\n",
       "      <th>multiplicative_terms_lower</th>\n",
       "      <td>0.0</td>\n",
       "      <td>0.0</td>\n",
       "      <td>0.0</td>\n",
       "      <td>0.0</td>\n",
       "      <td>0.0</td>\n",
       "    </tr>\n",
       "    <tr>\n",
       "      <th>multiplicative_terms_upper</th>\n",
       "      <td>0.0</td>\n",
       "      <td>0.0</td>\n",
       "      <td>0.0</td>\n",
       "      <td>0.0</td>\n",
       "      <td>0.0</td>\n",
       "    </tr>\n",
       "    <tr>\n",
       "      <th>yhat</th>\n",
       "      <td>2.543729</td>\n",
       "      <td>2.545383</td>\n",
       "      <td>2.556459</td>\n",
       "      <td>2.53871</td>\n",
       "      <td>2.538136</td>\n",
       "    </tr>\n",
       "  </tbody>\n",
       "</table>\n",
       "</div>"
      ],
      "text/plain": [
       "                                              0                    1  \\\n",
       "ds                          2009-10-01 00:00:00  2009-11-01 00:00:00   \n",
       "trend                                  2.659732             2.661457   \n",
       "yhat_lower                             2.543104             2.544747   \n",
       "yhat_upper                             2.544354             2.546014   \n",
       "trend_lower                            2.659732             2.661457   \n",
       "trend_upper                            2.659732             2.661457   \n",
       "additive_terms                        -0.116002            -0.116075   \n",
       "additive_terms_lower                  -0.116002            -0.116075   \n",
       "additive_terms_upper                  -0.116002            -0.116075   \n",
       "december_promotion                          0.0                  0.0   \n",
       "december_promotion_lower                    0.0                  0.0   \n",
       "december_promotion_upper                    0.0                  0.0   \n",
       "holidays                                    0.0                  0.0   \n",
       "holidays_lower                              0.0                  0.0   \n",
       "holidays_upper                              0.0                  0.0   \n",
       "yearly                                -0.116002            -0.116075   \n",
       "yearly_lower                          -0.116002            -0.116075   \n",
       "yearly_upper                          -0.116002            -0.116075   \n",
       "multiplicative_terms                        0.0                  0.0   \n",
       "multiplicative_terms_lower                  0.0                  0.0   \n",
       "multiplicative_terms_upper                  0.0                  0.0   \n",
       "yhat                                   2.543729             2.545383   \n",
       "\n",
       "                                              2                    3  \\\n",
       "ds                          2009-12-01 00:00:00  2010-01-01 00:00:00   \n",
       "trend                                  2.663127             2.664307   \n",
       "yhat_lower                             2.555833             2.538089   \n",
       "yhat_upper                             2.557087             2.539403   \n",
       "trend_lower                            2.663127             2.664307   \n",
       "trend_upper                            2.663127             2.664307   \n",
       "additive_terms                        -0.106668            -0.125597   \n",
       "additive_terms_lower                  -0.106668            -0.125597   \n",
       "additive_terms_upper                  -0.106668            -0.125597   \n",
       "december_promotion                    -1.405551                  0.0   \n",
       "december_promotion_lower              -1.405551                  0.0   \n",
       "december_promotion_upper              -1.405551                  0.0   \n",
       "holidays                              -1.405551                  0.0   \n",
       "holidays_lower                        -1.405551                  0.0   \n",
       "holidays_upper                        -1.405551                  0.0   \n",
       "yearly                                 1.298883            -0.125597   \n",
       "yearly_lower                           1.298883            -0.125597   \n",
       "yearly_upper                           1.298883            -0.125597   \n",
       "multiplicative_terms                        0.0                  0.0   \n",
       "multiplicative_terms_lower                  0.0                  0.0   \n",
       "multiplicative_terms_upper                  0.0                  0.0   \n",
       "yhat                                   2.556459              2.53871   \n",
       "\n",
       "                                              4  \n",
       "ds                          2010-02-01 00:00:00  \n",
       "trend                                  2.665487  \n",
       "yhat_lower                             2.537495  \n",
       "yhat_upper                             2.538783  \n",
       "trend_lower                            2.665487  \n",
       "trend_upper                            2.665487  \n",
       "additive_terms                        -0.127351  \n",
       "additive_terms_lower                  -0.127351  \n",
       "additive_terms_upper                  -0.127351  \n",
       "december_promotion                          0.0  \n",
       "december_promotion_lower                    0.0  \n",
       "december_promotion_upper                    0.0  \n",
       "holidays                                    0.0  \n",
       "holidays_lower                              0.0  \n",
       "holidays_upper                              0.0  \n",
       "yearly                                -0.127351  \n",
       "yearly_lower                          -0.127351  \n",
       "yearly_upper                          -0.127351  \n",
       "multiplicative_terms                        0.0  \n",
       "multiplicative_terms_lower                  0.0  \n",
       "multiplicative_terms_upper                  0.0  \n",
       "yhat                                   2.538136  "
      ]
     },
     "execution_count": 50,
     "metadata": {},
     "output_type": "execute_result"
    }
   ],
   "source": [
    "#We've instantiated the model, so now we need to build our future dates to forecast into!\n",
    "future = model.make_future_dataframe(periods=24, freq = 'm')\n",
    "future.tail()\n",
    "\n",
    "#... and then run our future data through prophet's model\n",
    "forecast = model.predict(future)\n",
    "\n",
    "forecast.head().T"
   ]
  },
  {
   "cell_type": "code",
   "execution_count": 51,
   "metadata": {
    "ExecuteTime": {
     "end_time": "2022-03-08T18:20:17.528655Z",
     "start_time": "2022-03-08T18:20:17.508266Z"
    }
   },
   "outputs": [
    {
     "data": {
      "text/html": [
       "<div>\n",
       "<style scoped>\n",
       "    .dataframe tbody tr th:only-of-type {\n",
       "        vertical-align: middle;\n",
       "    }\n",
       "\n",
       "    .dataframe tbody tr th {\n",
       "        vertical-align: top;\n",
       "    }\n",
       "\n",
       "    .dataframe thead th {\n",
       "        text-align: right;\n",
       "    }\n",
       "</style>\n",
       "<table border=\"1\" class=\"dataframe\">\n",
       "  <thead>\n",
       "    <tr style=\"text-align: right;\">\n",
       "      <th></th>\n",
       "      <th>ds</th>\n",
       "      <th>yhat</th>\n",
       "      <th>yhat_lower</th>\n",
       "      <th>yhat_upper</th>\n",
       "    </tr>\n",
       "  </thead>\n",
       "  <tbody>\n",
       "    <tr>\n",
       "      <th>91</th>\n",
       "      <td>2017-04-30</td>\n",
       "      <td>2.571317</td>\n",
       "      <td>2.525005</td>\n",
       "      <td>2.617465</td>\n",
       "    </tr>\n",
       "    <tr>\n",
       "      <th>92</th>\n",
       "      <td>2017-05-31</td>\n",
       "      <td>2.570551</td>\n",
       "      <td>2.520536</td>\n",
       "      <td>2.619779</td>\n",
       "    </tr>\n",
       "    <tr>\n",
       "      <th>93</th>\n",
       "      <td>2017-06-30</td>\n",
       "      <td>2.571212</td>\n",
       "      <td>2.516838</td>\n",
       "      <td>2.624183</td>\n",
       "    </tr>\n",
       "    <tr>\n",
       "      <th>94</th>\n",
       "      <td>2017-07-31</td>\n",
       "      <td>2.568653</td>\n",
       "      <td>2.511320</td>\n",
       "      <td>2.626716</td>\n",
       "    </tr>\n",
       "    <tr>\n",
       "      <th>95</th>\n",
       "      <td>2017-08-31</td>\n",
       "      <td>2.565972</td>\n",
       "      <td>2.503701</td>\n",
       "      <td>2.627912</td>\n",
       "    </tr>\n",
       "  </tbody>\n",
       "</table>\n",
       "</div>"
      ],
      "text/plain": [
       "           ds      yhat  yhat_lower  yhat_upper\n",
       "91 2017-04-30  2.571317    2.525005    2.617465\n",
       "92 2017-05-31  2.570551    2.520536    2.619779\n",
       "93 2017-06-30  2.571212    2.516838    2.624183\n",
       "94 2017-07-31  2.568653    2.511320    2.626716\n",
       "95 2017-08-31  2.565972    2.503701    2.627912"
      ]
     },
     "execution_count": 51,
     "metadata": {},
     "output_type": "execute_result"
    }
   ],
   "source": [
    "#while our new df contains a bit of data, we only care about a few features...\n",
    "forecast[['ds', 'yhat', 'yhat_lower', 'yhat_upper']].tail()"
   ]
  },
  {
   "cell_type": "markdown",
   "metadata": {},
   "source": [
    "## Visualizing with holidays!\n",
    "Same as above at first blush!"
   ]
  },
  {
   "cell_type": "code",
   "execution_count": 52,
   "metadata": {
    "ExecuteTime": {
     "end_time": "2022-03-08T18:20:17.983791Z",
     "start_time": "2022-03-08T18:20:17.531099Z"
    }
   },
   "outputs": [
    {
     "name": "stderr",
     "output_type": "stream",
     "text": [
      "/Users/bar/dev/miniconda/envs/ga/lib/python3.7/site-packages/matplotlib/cbook/__init__.py:1377: FutureWarning: Support for multi-dimensional indexing (e.g. `obj[:, None]`) is deprecated and will be removed in a future version.  Convert to a numpy array before indexing instead.\n",
      "  x[:, None]\n",
      "/Users/bar/dev/miniconda/envs/ga/lib/python3.7/site-packages/matplotlib/axes/_base.py:239: FutureWarning: Support for multi-dimensional indexing (e.g. `obj[:, None]`) is deprecated and will be removed in a future version.  Convert to a numpy array before indexing instead.\n",
      "  y = y[:, np.newaxis]\n"
     ]
    },
    {
     "data": {
      "image/png": "[encoded data removed]",
      "text/plain": [
       "<Figure size 720x432 with 1 Axes>"
      ]
     },
     "metadata": {},
     "output_type": "display_data"
    }
   ],
   "source": [
    "#use Prophet's .plot() method to visualize your timeseries.\n",
    "model.plot(forecast);"
   ]
  },
  {
   "cell_type": "markdown",
   "metadata": {},
   "source": [
    "Prophet also allows you to examine the ```components``` of a timeseries using the ```.plot_components()``` method"
   ]
  },
  {
   "cell_type": "code",
   "execution_count": null,
   "metadata": {
    "ExecuteTime": {
     "start_time": "2022-03-08T18:20:16.695Z"
    }
   },
   "outputs": [
    {
     "name": "stderr",
     "output_type": "stream",
     "text": [
      "/Users/bar/dev/miniconda/envs/ga/lib/python3.7/site-packages/matplotlib/cbook/__init__.py:1377: FutureWarning: Support for multi-dimensional indexing (e.g. `obj[:, None]`) is deprecated and will be removed in a future version.  Convert to a numpy array before indexing instead.\n",
      "  x[:, None]\n",
      "/Users/bar/dev/miniconda/envs/ga/lib/python3.7/site-packages/matplotlib/axes/_base.py:239: FutureWarning: Support for multi-dimensional indexing (e.g. `obj[:, None]`) is deprecated and will be removed in a future version.  Convert to a numpy array before indexing instead.\n",
      "  y = y[:, np.newaxis]\n"
     ]
    }
   ],
   "source": [
    "model.plot_components(forecast);\n"
   ]
  },
  {
   "cell_type": "markdown",
   "metadata": {},
   "source": [
    "## Why holidays matter\n",
    "Let's re-run our prophet model without holidays, for comparison"
   ]
  },
  {
   "cell_type": "code",
   "execution_count": null,
   "metadata": {
    "ExecuteTime": {
     "start_time": "2022-03-08T18:20:17.660Z"
    }
   },
   "outputs": [],
   "source": [
    "model_no_holiday = Prophet()\n",
    "model_no_holiday.fit(sales_df)"
   ]
  },
  {
   "cell_type": "code",
   "execution_count": null,
   "metadata": {
    "ExecuteTime": {
     "start_time": "2022-03-08T18:20:17.939Z"
    }
   },
   "outputs": [],
   "source": [
    "future_no_holiday = model_no_holiday.make_future_dataframe(periods=24, freq = 'm')\n",
    "future_no_holiday.tail()"
   ]
  },
  {
   "cell_type": "code",
   "execution_count": null,
   "metadata": {
    "ExecuteTime": {
     "start_time": "2022-03-08T18:20:18.207Z"
    }
   },
   "outputs": [],
   "source": [
    "forecast_no_holiday = model_no_holiday.predict(future)"
   ]
  },
  {
   "cell_type": "markdown",
   "metadata": {},
   "source": [
    "There probably won't be a massive difference, given the small amount of data with which we're working on this example. But with greater data comes greater variance..."
   ]
  },
  {
   "cell_type": "code",
   "execution_count": 35,
   "metadata": {
    "ExecuteTime": {
     "end_time": "2021-09-30T22:23:18.125491Z",
     "start_time": "2021-09-30T22:23:18.116534Z"
    }
   },
   "outputs": [],
   "source": [
    "#join the dataframes\n",
    "forecast.set_index('ds', inplace=True)\n",
    "forecast_no_holiday.set_index('ds', inplace=True)\n",
    "compared_df = forecast.join(forecast_no_holiday, rsuffix=\"_no_holiday\")"
   ]
  },
  {
   "cell_type": "code",
   "execution_count": 36,
   "metadata": {
    "ExecuteTime": {
     "end_time": "2021-09-30T22:23:24.635568Z",
     "start_time": "2021-09-30T22:23:24.625870Z"
    }
   },
   "outputs": [],
   "source": [
    "#we're only interested in the predictions, and let's move back to the original scale\n",
    "compared_df= np.exp(compared_df[['yhat', 'yhat_no_holiday']])"
   ]
  },
  {
   "cell_type": "code",
   "execution_count": 37,
   "metadata": {
    "ExecuteTime": {
     "end_time": "2021-09-30T22:23:27.011274Z",
     "start_time": "2021-09-30T22:23:26.997767Z"
    }
   },
   "outputs": [
    {
     "name": "stdout",
     "output_type": "stream",
     "text": [
      "difference:  6.4 %\n"
     ]
    }
   ],
   "source": [
    "# Create a feature that is the percentage difference between holiday vs. none\n",
    "compared_df['diff_per'] = 100 * (compared_df['yhat'] - compared_df['yhat_no_holiday']) / compared_df['yhat_no_holiday']\n",
    "print(\"difference: \", round(compared_df.diff_per.mean(), 2), \"%\")"
   ]
  },
  {
   "cell_type": "markdown",
   "metadata": {},
   "source": [
    "This is a 6% difference which can be a huge amount of money left on the table if your business is a global enterprise!"
   ]
  },
  {
   "cell_type": "markdown",
   "metadata": {},
   "source": [
    "# Prophet for Market prediction - lab time!\n",
    "Prophet can detect changepoints in timeseries data, and we can often use it to our advantage. Let's grab FRED economic data and see how this goes."
   ]
  },
  {
   "cell_type": "code",
   "execution_count": null,
   "metadata": {
    "ExecuteTime": {
     "end_time": "2021-09-29T16:46:23.879161Z",
     "start_time": "2021-09-29T16:46:23.844827Z"
    }
   },
   "outputs": [],
   "source": [
    "#Download 01/2009 - current S&P500 data at https://fred.stlouisfed.org/series/SP500 and import it into pandas\n",
    "market_df = "
   ]
  },
  {
   "cell_type": "code",
   "execution_count": null,
   "metadata": {},
   "outputs": [],
   "source": [
    "#Now prepare your data for prophet. Hint: prophet needs \"ds\" and a log-transformed \"y\" to work\n"
   ]
  },
  {
   "cell_type": "code",
   "execution_count": null,
   "metadata": {},
   "outputs": [],
   "source": [
    "#Instantiate the model, and fit our data\n",
    "model = Prophet()\n"
   ]
  },
  {
   "cell_type": "code",
   "execution_count": null,
   "metadata": {},
   "outputs": [],
   "source": [
    "#build the future dataframe, forecasting for 1 year from now. THen create a forecast by passing the future into model.predict()\n",
    "future = model.make_future_dataframe(periods = 365)\n",
    "forecast = "
   ]
  },
  {
   "cell_type": "code",
   "execution_count": null,
   "metadata": {},
   "outputs": [],
   "source": [
    "#now plot it!\n"
   ]
  },
  {
   "cell_type": "markdown",
   "metadata": {},
   "source": [
    "It's hard to see what's going on here, in part because we have such a condensed visual. Let's look at the last 2 years of forecast vs. actual without looking at the future - we are just interested ing etting a visual of theerror between actual vs. forecast"
   ]
  },
  {
   "cell_type": "code",
   "execution_count": null,
   "metadata": {},
   "outputs": [],
   "source": [
    "#Start by setting the index of the forecast df to the ds, and joining it to the marekt_df\n",
    "two_years = \n",
    "\n",
    "#now set two_years equal to the last 800 data points\n",
    "two_years = two_years[['SP500', 'yhat', 'yhat_upper', 'yhat_lower' ]].dropna().tail(800)"
   ]
  },
  {
   "cell_type": "code",
   "execution_count": null,
   "metadata": {},
   "outputs": [],
   "source": [
    "#now trasnform the predictions back to the original scale of the data\n",
    "two_years['yhat']=np.exp(two_years.yhat)\n",
    "two_years['yhat_upper']=np.exp(two_years.yhat_upper)\n",
    "two_years['yhat_lower']=np.exp(two_years.yhat_lower)"
   ]
  },
  {
   "cell_type": "code",
   "execution_count": null,
   "metadata": {},
   "outputs": [],
   "source": [
    "#let's visualize the relationship between SP500 and yhat (our prediction) using pandas .plot()\n"
   ]
  },
  {
   "cell_type": "markdown",
   "metadata": {},
   "source": [
    "Our forecast does great at trending, but doesn't do well at catching the volatility of the market. This would be very good for 'riding trends', but not so good for catching peaks and dips. \n",
    "\n",
    "We can see this in the numbers as well"
   ]
  },
  {
   "cell_type": "code",
   "execution_count": null,
   "metadata": {},
   "outputs": [],
   "source": [
    "#calculate the r2\n"
   ]
  },
  {
   "cell_type": "code",
   "execution_count": null,
   "metadata": {},
   "outputs": [],
   "source": [
    "#MAE\n"
   ]
  },
  {
   "cell_type": "code",
   "execution_count": null,
   "metadata": {},
   "outputs": [],
   "source": [
    "#RMSE\n"
   ]
  },
  {
   "cell_type": "markdown",
   "metadata": {},
   "source": [
    "Another way to tlook at the usefulness of this forecast is to plot the upper and lower confidence bands against the actuals. We can do that with a plot that combines yhat_upper and yhat_lower with the rest into a matplotlib subplot. "
   ]
  },
  {
   "cell_type": "code",
   "execution_count": null,
   "metadata": {},
   "outputs": [],
   "source": [
    "fig, ax1 = plt.subplots()\n",
    "ax1.plot(two_years.SP500)\n",
    "ax1.plot(two_years.yhat)\n",
    "ax1.plot(two_years.yhat_upper, color='black',  linestyle=':', alpha=0.5)\n",
    "ax1.plot(two_years.yhat_lower, color='black',  linestyle=':', alpha=0.5)\n",
    "\n",
    "ax1.set_title('Actual S&P 500 (Orange) vs S&P 500 Forecasted Upper & Lower Confidence (Black)')\n",
    "ax1.set_ylabel('Price')\n",
    "ax1.set_xlabel('Date')"
   ]
  },
  {
   "cell_type": "markdown",
   "metadata": {},
   "source": [
    "As we saw above, if you're trying to do shortterm trading then this model is useless. But if you are investing with a timeframe of months to years, this forecast might provide some value. "
   ]
  },
  {
   "cell_type": "code",
   "execution_count": null,
   "metadata": {},
   "outputs": [],
   "source": [
    "#We can also look at this from the full df. Here I build it manually again!\n",
    "fig, ax1 = plt.subplots()\n",
    "ax1.plot(full_df.SP500)\n",
    "ax1.plot(full_df.yhat, color='black', linestyle=':')\n",
    "ax1.fill_between(full_df.index, np.exp(full_df['yhat_upper']), np.exp(full_df['yhat_lower']), alpha=0.5, color='darkgray')\n",
    "ax1.set_title('Actual S&P 500 (Orange) vs S&P 500 Forecasted (Black) with Confidence Bands')\n",
    "ax1.set_ylabel('Price')\n",
    "ax1.set_xlabel('Date')\n",
    "\n",
    "L=ax1.legend() #get the legend\n",
    "L.get_texts()[0].set_text('S&P 500 Actual') #change the legend text for 1st plot\n",
    "L.get_texts()[1].set_text('S&P 5600 Forecasted') #change the legend text for 2nd plot"
   ]
  }
 ],
 "metadata": {
  "kernelspec": {
   "display_name": "Python 3",
   "language": "python",
   "name": "python3"
  },
  "language_info": {
   "codemirror_mode": {
    "name": "ipython",
    "version": 3
   },
   "file_extension": ".py",
   "mimetype": "text/x-python",
   "name": "python",
   "nbconvert_exporter": "python",
   "pygments_lexer": "ipython3",
   "version": "3.7.3"
  },
  "toc": {
   "base_numbering": 1,
   "nav_menu": {},
   "number_sections": false,
   "sideBar": true,
   "skip_h1_title": false,
   "title_cell": "Table of Contents",
   "title_sidebar": "Contents",
   "toc_cell": false,
   "toc_position": {},
   "toc_section_display": true,
   "toc_window_display": false
  }
 },
 "nbformat": 4,
 "nbformat_minor": 2
}
